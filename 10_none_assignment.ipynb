{
  "nbformat": 4,
  "nbformat_minor": 0,
  "metadata": {
    "colab": {
      "provenance": [],
      "authorship_tag": "ABX9TyNnSXr4/cvTK5HQQSxJSURm",
      "include_colab_link": true
    },
    "kernelspec": {
      "name": "python3",
      "display_name": "Python 3"
    },
    "language_info": {
      "name": "python"
    }
  },
  "cells": [
    {
      "cell_type": "markdown",
      "metadata": {
        "id": "view-in-github",
        "colab_type": "text"
      },
      "source": [
        "<a href=\"https://colab.research.google.com/github/tharun7781/Data-Science-Edukron/blob/main/10_none_assignment.ipynb\" target=\"_parent\"><img src=\"https://colab.research.google.com/assets/colab-badge.svg\" alt=\"Open In Colab\"/></a>"
      ]
    },
    {
      "cell_type": "code",
      "execution_count": 1,
      "metadata": {
        "colab": {
          "base_uri": "https://localhost:8080/"
        },
        "id": "cEpwZhBahyi0",
        "outputId": "91be343f-e8aa-4fe3-c962-404594fb5c61"
      },
      "outputs": [
        {
          "output_type": "stream",
          "name": "stdout",
          "text": [
            "None\n"
          ]
        }
      ],
      "source": [
        "# Question 1: Create a variable and assign None to it\n",
        "x = None\n",
        "print(x)"
      ]
    },
    {
      "cell_type": "code",
      "source": [
        "# Question 2: Check if None equals None\n",
        "print(None == None)"
      ],
      "metadata": {
        "colab": {
          "base_uri": "https://localhost:8080/"
        },
        "id": "-tr4mERth_Go",
        "outputId": "dad5a28a-7c35-44a1-965c-a95d7b1932ca"
      },
      "execution_count": 2,
      "outputs": [
        {
          "output_type": "stream",
          "name": "stdout",
          "text": [
            "True\n"
          ]
        }
      ]
    },
    {
      "cell_type": "code",
      "source": [
        "# Question 3: Check if None is None\n",
        "print(None is None)"
      ],
      "metadata": {
        "colab": {
          "base_uri": "https://localhost:8080/"
        },
        "id": "skzbgHesh_cn",
        "outputId": "45cb49f0-f1ca-4fce-ead1-a5b6c20b21b3"
      },
      "execution_count": 3,
      "outputs": [
        {
          "output_type": "stream",
          "name": "stdout",
          "text": [
            "True\n"
          ]
        }
      ]
    },
    {
      "cell_type": "code",
      "source": [
        "# Question 4: Check if 0 is None\n",
        "print(0 is None)"
      ],
      "metadata": {
        "colab": {
          "base_uri": "https://localhost:8080/"
        },
        "id": "homwHRhPh_s9",
        "outputId": "3fb2561a-618b-44cc-f9e5-fcd3fa4217e7"
      },
      "execution_count": 4,
      "outputs": [
        {
          "output_type": "stream",
          "name": "stdout",
          "text": [
            "False\n"
          ]
        },
        {
          "output_type": "stream",
          "name": "stderr",
          "text": [
            "<>:2: SyntaxWarning: \"is\" with 'int' literal. Did you mean \"==\"?\n",
            "<>:2: SyntaxWarning: \"is\" with 'int' literal. Did you mean \"==\"?\n",
            "/tmp/ipython-input-672936228.py:2: SyntaxWarning: \"is\" with 'int' literal. Did you mean \"==\"?\n",
            "  print(0 is None)\n"
          ]
        }
      ]
    },
    {
      "cell_type": "code",
      "source": [
        "# Question 5: Check if empty string is None\n",
        "print(\"\" is None)"
      ],
      "metadata": {
        "colab": {
          "base_uri": "https://localhost:8080/"
        },
        "id": "yehKD3zGh_2H",
        "outputId": "53e7354a-4c89-46d6-f74e-b84ec864b462"
      },
      "execution_count": 5,
      "outputs": [
        {
          "output_type": "stream",
          "name": "stdout",
          "text": [
            "False\n"
          ]
        },
        {
          "output_type": "stream",
          "name": "stderr",
          "text": [
            "<>:2: SyntaxWarning: \"is\" with 'str' literal. Did you mean \"==\"?\n",
            "<>:2: SyntaxWarning: \"is\" with 'str' literal. Did you mean \"==\"?\n",
            "/tmp/ipython-input-1245900986.py:2: SyntaxWarning: \"is\" with 'str' literal. Did you mean \"==\"?\n",
            "  print(\"\" is None)\n"
          ]
        }
      ]
    },
    {
      "cell_type": "code",
      "source": [
        "# Question 6: Check if False is None\n",
        "print(False is None)"
      ],
      "metadata": {
        "colab": {
          "base_uri": "https://localhost:8080/"
        },
        "id": "1MBPf0M2h_-s",
        "outputId": "09c3db49-f668-4bb4-c32f-08d9d20620c0"
      },
      "execution_count": 6,
      "outputs": [
        {
          "output_type": "stream",
          "name": "stdout",
          "text": [
            "False\n"
          ]
        }
      ]
    },
    {
      "cell_type": "code",
      "source": [
        "# Question 7: Check if empty list is None\n",
        "print([] is None)"
      ],
      "metadata": {
        "colab": {
          "base_uri": "https://localhost:8080/"
        },
        "id": "APY99c4fiAHX",
        "outputId": "e2b6f112-014e-4701-e970-bc158b671233"
      },
      "execution_count": 7,
      "outputs": [
        {
          "output_type": "stream",
          "name": "stdout",
          "text": [
            "False\n"
          ]
        }
      ]
    },
    {
      "cell_type": "code",
      "source": [
        "# Question 8: Check if empty dictionary is None\n",
        "print({} is None)"
      ],
      "metadata": {
        "colab": {
          "base_uri": "https://localhost:8080/"
        },
        "id": "Ip0rgMyliAPy",
        "outputId": "e2a1d3b8-dce3-4e4b-b9fd-362f1344eeac"
      },
      "execution_count": 8,
      "outputs": [
        {
          "output_type": "stream",
          "name": "stdout",
          "text": [
            "False\n"
          ]
        }
      ]
    },
    {
      "cell_type": "code",
      "source": [
        "# Question 9: Check if empty tuple is None\n",
        "print(() is None)"
      ],
      "metadata": {
        "colab": {
          "base_uri": "https://localhost:8080/"
        },
        "id": "z8kzaCDDiAYC",
        "outputId": "dd01c262-7694-46fb-cdef-9bcf0cd32965"
      },
      "execution_count": 9,
      "outputs": [
        {
          "output_type": "stream",
          "name": "stdout",
          "text": [
            "False\n"
          ]
        },
        {
          "output_type": "stream",
          "name": "stderr",
          "text": [
            "<>:2: SyntaxWarning: \"is\" with 'tuple' literal. Did you mean \"==\"?\n",
            "<>:2: SyntaxWarning: \"is\" with 'tuple' literal. Did you mean \"==\"?\n",
            "/tmp/ipython-input-1375799131.py:2: SyntaxWarning: \"is\" with 'tuple' literal. Did you mean \"==\"?\n",
            "  print(() is None)\n"
          ]
        }
      ]
    },
    {
      "cell_type": "code",
      "source": [
        "# Question 10: Check if empty set is None\n",
        "print(set() is None)"
      ],
      "metadata": {
        "colab": {
          "base_uri": "https://localhost:8080/"
        },
        "id": "rD11gUeziAgY",
        "outputId": "6c088292-8648-444d-d47a-c4c642fd08da"
      },
      "execution_count": 10,
      "outputs": [
        {
          "output_type": "stream",
          "name": "stdout",
          "text": [
            "False\n"
          ]
        }
      ]
    }
  ]
}