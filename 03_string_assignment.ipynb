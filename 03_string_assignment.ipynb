{
  "nbformat": 4,
  "nbformat_minor": 0,
  "metadata": {
    "colab": {
      "provenance": [],
      "authorship_tag": "ABX9TyMPpHTHHaHgPCp/urBWLYM5",
      "include_colab_link": true
    },
    "kernelspec": {
      "name": "python3",
      "display_name": "Python 3"
    },
    "language_info": {
      "name": "python"
    }
  },
  "cells": [
    {
      "cell_type": "markdown",
      "metadata": {
        "id": "view-in-github",
        "colab_type": "text"
      },
      "source": [
        "<a href=\"https://colab.research.google.com/github/tharun7781/Data-Science-Edukron/blob/main/03_string_assignment.ipynb\" target=\"_parent\"><img src=\"https://colab.research.google.com/assets/colab-badge.svg\" alt=\"Open In Colab\"/></a>"
      ]
    },
    {
      "cell_type": "code",
      "execution_count": 59,
      "metadata": {
        "id": "ye1_ltdy4ByB"
      },
      "outputs": [],
      "source": [
        "import math"
      ]
    },
    {
      "cell_type": "code",
      "source": [
        "print(\"Question 1:\", \"Python Programming\"[::-1])"
      ],
      "metadata": {
        "colab": {
          "base_uri": "https://localhost:8080/"
        },
        "id": "uwfsw8sa4Ehx",
        "outputId": "1db4c7ce-3a88-4bc6-d29d-aaeed7df2401"
      },
      "execution_count": 60,
      "outputs": [
        {
          "output_type": "stream",
          "name": "stdout",
          "text": [
            "Question 1: gnimmargorP nohtyP\n"
          ]
        }
      ]
    },
    {
      "cell_type": "code",
      "source": [
        "print(\"Question 2:\", \"racecar\" == \"racecar\"[::-1])\n"
      ],
      "metadata": {
        "colab": {
          "base_uri": "https://localhost:8080/"
        },
        "id": "aIgQFAXZ4aA6",
        "outputId": "5aa57d0a-270a-49df-c30a-377dbcd54c56"
      },
      "execution_count": 61,
      "outputs": [
        {
          "output_type": "stream",
          "name": "stdout",
          "text": [
            "Question 2: True\n"
          ]
        }
      ]
    },
    {
      "cell_type": "code",
      "source": [
        "print(\"Question 3:\", len(\"Python is a great programming language\".split()))"
      ],
      "metadata": {
        "colab": {
          "base_uri": "https://localhost:8080/"
        },
        "id": "7VDSm6b34dYO",
        "outputId": "2547bd9b-92ee-40ee-d517-c50bba148bc5"
      },
      "execution_count": 62,
      "outputs": [
        {
          "output_type": "stream",
          "name": "stdout",
          "text": [
            "Question 3: 6\n"
          ]
        }
      ]
    },
    {
      "cell_type": "code",
      "source": [
        "print(\"Question 4:\", \"hello world\".title())"
      ],
      "metadata": {
        "colab": {
          "base_uri": "https://localhost:8080/"
        },
        "id": "cCNYrcBD4-wv",
        "outputId": "44e4b468-74cf-47be-b574-f5cc80ba92ed"
      },
      "execution_count": 63,
      "outputs": [
        {
          "output_type": "stream",
          "name": "stdout",
          "text": [
            "Question 4: Hello World\n"
          ]
        }
      ]
    },
    {
      "cell_type": "code",
      "source": [
        "print(\"Question 5:\", len(\"Data Science\"))"
      ],
      "metadata": {
        "colab": {
          "base_uri": "https://localhost:8080/"
        },
        "id": "SYvG28zS4_L_",
        "outputId": "d8c16835-0963-4e27-b3f1-bbf5dda77ba0"
      },
      "execution_count": 64,
      "outputs": [
        {
          "output_type": "stream",
          "name": "stdout",
          "text": [
            "Question 5: 12\n"
          ]
        }
      ]
    },
    {
      "cell_type": "code",
      "source": [
        "print(\"Question 5:\", len(\"Data Science\"))"
      ],
      "metadata": {
        "colab": {
          "base_uri": "https://localhost:8080/"
        },
        "id": "xLGVqJrs4_dY",
        "outputId": "51990bfd-def8-4643-a0a8-2ec385d61d6d"
      },
      "execution_count": 65,
      "outputs": [
        {
          "output_type": "stream",
          "name": "stdout",
          "text": [
            "Question 5: 12\n"
          ]
        }
      ]
    },
    {
      "cell_type": "code",
      "source": [
        "print(\"Question 6:\", \"Machine Learning\".replace(\" \", \"_\"))"
      ],
      "metadata": {
        "colab": {
          "base_uri": "https://localhost:8080/"
        },
        "id": "K5CiaL_U4_xE",
        "outputId": "7e005689-062c-4dcd-c181-32cb30a5da82"
      },
      "execution_count": 66,
      "outputs": [
        {
          "output_type": "stream",
          "name": "stdout",
          "text": [
            "Question 6: Machine_Learning\n"
          ]
        }
      ]
    },
    {
      "cell_type": "code",
      "source": [
        "print(\"Question 7:\", \"python\" in \"Python Programming Language\".lower())"
      ],
      "metadata": {
        "colab": {
          "base_uri": "https://localhost:8080/"
        },
        "id": "ZCFJaM325nGW",
        "outputId": "aad9eea4-d7fc-4001-a4a0-78f08c0c2c27"
      },
      "execution_count": 67,
      "outputs": [
        {
          "output_type": "stream",
          "name": "stdout",
          "text": [
            "Question 7: True\n"
          ]
        }
      ]
    },
    {
      "cell_type": "code",
      "source": [
        "print(\"Question 8:\", \"Artificial Intelligence\"[:5])"
      ],
      "metadata": {
        "colab": {
          "base_uri": "https://localhost:8080/"
        },
        "id": "TiRhgJtx5nbT",
        "outputId": "44e901c6-3148-4b4f-863f-be00316255ff"
      },
      "execution_count": 68,
      "outputs": [
        {
          "output_type": "stream",
          "name": "stdout",
          "text": [
            "Question 8: Artif\n"
          ]
        }
      ]
    },
    {
      "cell_type": "code",
      "source": [
        "print(\"Question 9:\", \"UPPERCASE\".lower())"
      ],
      "metadata": {
        "colab": {
          "base_uri": "https://localhost:8080/"
        },
        "id": "8BGfjNZE5nk8",
        "outputId": "fd2bd1d6-b478-4f95-e1ce-af41b92c4d9d"
      },
      "execution_count": 69,
      "outputs": [
        {
          "output_type": "stream",
          "name": "stdout",
          "text": [
            "Question 9: uppercase\n"
          ]
        }
      ]
    },
    {
      "cell_type": "code",
      "source": [
        "print(\"Question 10:\", ''.join(c for c in \"Computer Science\" if c.lower() not in \"aeiou\"))"
      ],
      "metadata": {
        "colab": {
          "base_uri": "https://localhost:8080/"
        },
        "id": "iFektm515n1e",
        "outputId": "b6901713-d5df-4677-c911-05f55339df01"
      },
      "execution_count": 70,
      "outputs": [
        {
          "output_type": "stream",
          "name": "stdout",
          "text": [
            "Question 10: Cmptr Scnc\n"
          ]
        }
      ]
    },
    {
      "cell_type": "code",
      "source": [
        "print(\"Question 11:\", max(\"mississippi\", key=\"mississippi\".count))"
      ],
      "metadata": {
        "colab": {
          "base_uri": "https://localhost:8080/"
        },
        "id": "aSgyzTWE5n_c",
        "outputId": "57e0cd1f-cbe3-4b9a-fb7a-43651e3d70d8"
      },
      "execution_count": 71,
      "outputs": [
        {
          "output_type": "stream",
          "name": "stdout",
          "text": [
            "Question 11: i\n"
          ]
        }
      ]
    },
    {
      "cell_type": "code",
      "source": [
        "print(\"Question 12:\", sorted(\"listen\") == sorted(\"silent\"))"
      ],
      "metadata": {
        "colab": {
          "base_uri": "https://localhost:8080/"
        },
        "id": "DFXsNR9T5oI2",
        "outputId": "5c9a616e-fc8f-407d-f3a2-27336950cc4e"
      },
      "execution_count": 72,
      "outputs": [
        {
          "output_type": "stream",
          "name": "stdout",
          "text": [
            "Question 12: True\n"
          ]
        }
      ]
    },
    {
      "cell_type": "code",
      "source": [
        "print(\"Question 13:\", \"python programming language\".title())"
      ],
      "metadata": {
        "colab": {
          "base_uri": "https://localhost:8080/"
        },
        "id": "kAjB4LHk5oR3",
        "outputId": "327fd2d4-189f-4da1-f584-3ff3f69c99be"
      },
      "execution_count": 73,
      "outputs": [
        {
          "output_type": "stream",
          "name": "stdout",
          "text": [
            "Question 13: Python Programming Language\n"
          ]
        }
      ]
    },
    {
      "cell_type": "code",
      "source": [
        "print(\"Question 14:\", sum(1 for c in \"Hello World\" if c.isalpha() and c.lower() not in \"aeiou\"))"
      ],
      "metadata": {
        "colab": {
          "base_uri": "https://localhost:8080/"
        },
        "id": "hfXK6ZK15oaY",
        "outputId": "0e9ea555-b092-4e80-936c-96f455acad8d"
      },
      "execution_count": 74,
      "outputs": [
        {
          "output_type": "stream",
          "name": "stdout",
          "text": [
            "Question 14: 7\n"
          ]
        }
      ]
    },
    {
      "cell_type": "code",
      "source": [
        "print(\"Question 15:\", max(\"Python is a programming language\".split(), key=len))"
      ],
      "metadata": {
        "colab": {
          "base_uri": "https://localhost:8080/"
        },
        "id": "1fkB7SQF5ojG",
        "outputId": "924588b5-e72a-4d83-bc7f-9533df3172e5"
      },
      "execution_count": 75,
      "outputs": [
        {
          "output_type": "stream",
          "name": "stdout",
          "text": [
            "Question 15: programming\n"
          ]
        }
      ]
    },
    {
      "cell_type": "code",
      "source": [
        "print(\"Question 16:\", ''.join(c for c in \"Hello, World! How are you?\" if c.isalnum() or c.isspace()))\n",
        "print(\"Question 17:\", \"Python\".startswith(\"Python\"))\n",
        "print(\"Question 18:\", \"Hello World\".find(\"o\"))\n",
        "print(\"Question 19:\", \"apple,banana,orange\".split(\",\"))\n",
        "print(\"Question 20:\", \" \".join(['Python', 'is', 'awesome']))\n",
        "print(\"Question 21:\", \"12345\".isdigit())\n",
        "print(\"Question 22:\", \"HelloWorld\".isalpha())\n",
        "print(\"Question 23:\", ''.join(c.upper() if i%2 else c.lower() for i,c in enumerate(\"hello world\")))\n",
        "print(\"Question 24:\", [i for i,c in enumerate(\"banana\") if c==\"a\"])\n",
        "print(\"Question 25:\", \"  Hello World  \".strip())\n",
        "print(\"Question 26:\", \"programming\".endswith(\"ing\"))\n",
        "print(\"Question 27:\", \"Hello World\".replace(\"o\",\"0\",1))\n",
        "print(\"Question 28:\", min(\"Python is a programming language\".split(), key=len))\n",
        "print(\"Question 29:\", sum(1 for w in \"Python programming is powerful\".split() if w.lower().startswith(\"p\")))\n",
        "print(\"Question 30:\", ' '.join(\"Hello World Python\".split()[::-1]))\n",
        "print(\"Question 31:\", \"@\" in \"user@example.com\" and \".\" in \"user@example.com\")\n",
        "print(\"Question 32:\", \"https://www.example.com/path\".split(\"/\")[2])\n",
        "print(\"Question 33:\", \"Line1\\nLine2\\nLine3\".count(\"\\n\")+1)\n",
        "print(\"Question 34:\", set(\"hello\") & set(\"world\"))\n",
        "print(\"Question 35:\", \"+1-555-123-4567\".replace(\"+\",\"\").replace(\"-\",\"\").isdigit())\n",
        "print(\"Question 36:\", ''.join(c for c in \"abc123def456ghi789\" if c.isdigit()))\n",
        "print(\"Question 37:\", \"\".join(word.capitalize() if i else word for i,word in enumerate(\"snake_case\".split(\"_\"))))\n",
        "print(\"Question 38:\", (s:=\"A man a plan a canal Panama\").replace(\" \",\"\").lower() == s.replace(\" \",\"\").lower()[::-1])\n",
        "print(\"Question 39:\", max(\"the quick brown fox jumps over the lazy dog\".split(), key=lambda w: \"the quick brown fox jumps over the lazy dog\".split().count(w)))\n",
        "print(\"Question 40:\", ''.join(w[0].upper() for w in \"National Aeronautics and Space Administration\".split()))\n",
        "print(\"Question 42:\", ' '.join({'a':'.-','b':'-...','c':'-.-.','d':'-..','e':'.','f':'..-.','g':'--.','h':'....','i':'..','j':'.---','k':'-.-','l':'.-..','m':'--','n':'-.','o':'---','p':'.--.','q':'--.-','r':'.-.','s':'...','t':'-','u':'..-','v':'...-','w':'.--','x':'-..-','y':'-.--','z':'--..',' ':'/'}[c] for c in \"hello world\"))\n",
        "print(\"Question 43:\", max([ \"programming\"[i:j] for i in range(len(\"programming\")) for j in range(i+1,len(\"programming\")+1) if \"programming\"[i:j] in \"grammar\"], key=len))\n",
        "print(\"Question 44:\", \"https://www.google.com\".startswith((\"http://\",\"https://\")))\n",
        "print(\"Question 45:\", [w for w in \"Python programming is amazing and powerful\".split() if len(w)>5])\n",
        "print(\"Question 46:\", ' '.join([(w[1:]+w[0]+'ay') for w in \"hello world\".split()]))\n",
        "print(\"Question 47:\", all(0<=int(x)<256 for x in \"192.168.1.1\".split(\".\")))\n",
        "print(\"Question 48:\", sorted([\"abc\"[i:j] for i in range(len(\"abc\")) for j in range(i+1, len(\"abc\")+1)],\n",
        "                             key=lambda x: (len(x), \"abc\".find(x))))\n",
        "print(\"Question 49:\", __import__(\"codecs\").encode(\"hello world\", \"rot_13\"))\n",
        "print(\"Question 50:\", (lambda s: s.isdigit() and 13 <= len(s) <= 19 and\n",
        "       sum((int(d)*(2 if i%2 else 1) - 9*((int(d)*(2 if i%2 else 1)) > 9))\n",
        "           for i, d in enumerate(s[::-1])) % 10 == 0)(\"4532015112830366\"))\n"
      ],
      "metadata": {
        "colab": {
          "base_uri": "https://localhost:8080/"
        },
        "id": "43fJCD075ore",
        "outputId": "673c5e1c-0460-4d53-bd91-a2f4b3540975"
      },
      "execution_count": 76,
      "outputs": [
        {
          "output_type": "stream",
          "name": "stdout",
          "text": [
            "Question 16: Hello World How are you\n",
            "Question 17: True\n",
            "Question 18: 4\n",
            "Question 19: ['apple', 'banana', 'orange']\n",
            "Question 20: Python is awesome\n",
            "Question 21: True\n",
            "Question 22: True\n",
            "Question 23: hElLo wOrLd\n",
            "Question 24: [1, 3, 5]\n",
            "Question 25: Hello World\n",
            "Question 26: True\n",
            "Question 27: Hell0 World\n",
            "Question 28: a\n",
            "Question 29: 3\n",
            "Question 30: Python World Hello\n",
            "Question 31: True\n",
            "Question 32: www.example.com\n",
            "Question 33: 3\n",
            "Question 34: {'l', 'o'}\n",
            "Question 35: True\n",
            "Question 36: 123456789\n",
            "Question 37: snakeCase\n",
            "Question 38: True\n",
            "Question 39: the\n",
            "Question 40: NAASA\n",
            "Question 42: .... . .-.. .-.. --- / .-- --- .-. .-.. -..\n",
            "Question 43: gramm\n",
            "Question 44: True\n",
            "Question 45: ['Python', 'programming', 'amazing', 'powerful']\n",
            "Question 46: ellohay orldway\n",
            "Question 47: True\n",
            "Question 48: ['a', 'b', 'c', 'ab', 'bc', 'abc']\n",
            "Question 49: uryyb jbeyq\n",
            "Question 50: True\n"
          ]
        }
      ]
    }
  ]
}