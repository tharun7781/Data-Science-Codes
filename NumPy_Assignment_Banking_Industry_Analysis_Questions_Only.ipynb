{
  "nbformat": 4,
  "nbformat_minor": 0,
  "metadata": {
    "colab": {
      "provenance": [],
      "authorship_tag": "ABX9TyM6+WHe/tYB97ZxrPizHiXC",
      "include_colab_link": true
    },
    "kernelspec": {
      "name": "python3",
      "display_name": "Python 3"
    },
    "language_info": {
      "name": "python"
    }
  },
  "cells": [
    {
      "cell_type": "markdown",
      "metadata": {
        "id": "view-in-github",
        "colab_type": "text"
      },
      "source": [
        "<a href=\"https://colab.research.google.com/github/tharun7781/Data-Science-Edukron/blob/main/NumPy_Assignment_Banking_Industry_Analysis_Questions_Only.ipynb\" target=\"_parent\"><img src=\"https://colab.research.google.com/assets/colab-badge.svg\" alt=\"Open In Colab\"/></a>"
      ]
    },
    {
      "cell_type": "code",
      "source": [
        "import numpy as np"
      ],
      "metadata": {
        "id": "18OFQKjkEBmU"
      },
      "execution_count": 115,
      "outputs": []
    },
    {
      "cell_type": "code",
      "execution_count": 116,
      "metadata": {
        "colab": {
          "base_uri": "https://localhost:8080/"
        },
        "id": "dCG7LLxqT4KE",
        "outputId": "f1c0f178-fbfe-435e-9f32-dba5ae3f9187"
      },
      "outputs": [
        {
          "output_type": "execute_result",
          "data": {
            "text/plain": [
              "array([[1., 0., 0., 0.],\n",
              "       [0., 1., 0., 0.],\n",
              "       [0., 0., 1., 0.],\n",
              "       [0., 0., 0., 1.]])"
            ]
          },
          "metadata": {},
          "execution_count": 116
        }
      ],
      "source": [
        "#Question 1: Array Creation and Manipulation\n",
        "np.eye(4)"
      ]
    },
    {
      "cell_type": "code",
      "source": [
        "np.zeros(8)"
      ],
      "metadata": {
        "colab": {
          "base_uri": "https://localhost:8080/"
        },
        "id": "cWIMW1jCGDxn",
        "outputId": "93c939b2-4891-475d-c237-14e427d67eda"
      },
      "execution_count": 117,
      "outputs": [
        {
          "output_type": "execute_result",
          "data": {
            "text/plain": [
              "array([0., 0., 0., 0., 0., 0., 0., 0.])"
            ]
          },
          "metadata": {},
          "execution_count": 117
        }
      ]
    },
    {
      "cell_type": "code",
      "source": [
        "np.ones(6)"
      ],
      "metadata": {
        "colab": {
          "base_uri": "https://localhost:8080/"
        },
        "id": "3QN_7n9SElcV",
        "outputId": "9ae8c726-4bb0-47cc-c0a5-0100f11f23b4"
      },
      "execution_count": 118,
      "outputs": [
        {
          "output_type": "execute_result",
          "data": {
            "text/plain": [
              "array([1., 1., 1., 1., 1., 1.])"
            ]
          },
          "metadata": {},
          "execution_count": 118
        }
      ]
    },
    {
      "cell_type": "code",
      "source": [
        "np.arange(16)"
      ],
      "metadata": {
        "colab": {
          "base_uri": "https://localhost:8080/"
        },
        "id": "k-LJwLuGGTLq",
        "outputId": "4b29c375-b2c1-453e-a31a-26ed9c62f8ea"
      },
      "execution_count": 119,
      "outputs": [
        {
          "output_type": "execute_result",
          "data": {
            "text/plain": [
              "array([ 0,  1,  2,  3,  4,  5,  6,  7,  8,  9, 10, 11, 12, 13, 14, 15])"
            ]
          },
          "metadata": {},
          "execution_count": 119
        }
      ]
    },
    {
      "cell_type": "code",
      "source": [
        "#Question 2: Array Attributes and Information"
      ],
      "metadata": {
        "id": "6kT2A3gOGfum"
      },
      "execution_count": 120,
      "outputs": []
    },
    {
      "cell_type": "code",
      "source": [
        "import numpy as np"
      ],
      "metadata": {
        "id": "AHGMS47YGnPM"
      },
      "execution_count": 121,
      "outputs": []
    },
    {
      "cell_type": "code",
      "source": [
        "banking_data = np.array([[2000,1000,1500,100],\n",
        "                       [1500,1000,2000,500],\n",
        "                       [1500,1000,2000,1700]])"
      ],
      "metadata": {
        "id": "xH8Xsh4JGniG"
      },
      "execution_count": 122,
      "outputs": []
    },
    {
      "cell_type": "code",
      "source": [
        "banking_data.shape"
      ],
      "metadata": {
        "colab": {
          "base_uri": "https://localhost:8080/"
        },
        "id": "gdOVy3dPGnw4",
        "outputId": "e5d22dfe-5437-4c80-8731-da8a23236f55"
      },
      "execution_count": 123,
      "outputs": [
        {
          "output_type": "execute_result",
          "data": {
            "text/plain": [
              "(3, 4)"
            ]
          },
          "metadata": {},
          "execution_count": 123
        }
      ]
    },
    {
      "cell_type": "code",
      "source": [
        "banking_data.dtype"
      ],
      "metadata": {
        "colab": {
          "base_uri": "https://localhost:8080/"
        },
        "id": "u-4mej4vGn6a",
        "outputId": "8194f38b-0335-41cd-9345-1f42bfef026c"
      },
      "execution_count": 124,
      "outputs": [
        {
          "output_type": "execute_result",
          "data": {
            "text/plain": [
              "dtype('int64')"
            ]
          },
          "metadata": {},
          "execution_count": 124
        }
      ]
    },
    {
      "cell_type": "code",
      "source": [
        "banking_data.size"
      ],
      "metadata": {
        "colab": {
          "base_uri": "https://localhost:8080/"
        },
        "id": "DXjvT3qnGoDI",
        "outputId": "e2bc54e0-b3c3-4430-8fa8-4dcbbfff64a6"
      },
      "execution_count": 125,
      "outputs": [
        {
          "output_type": "execute_result",
          "data": {
            "text/plain": [
              "12"
            ]
          },
          "metadata": {},
          "execution_count": 125
        }
      ]
    },
    {
      "cell_type": "code",
      "source": [
        "banking_data.ndim"
      ],
      "metadata": {
        "colab": {
          "base_uri": "https://localhost:8080/"
        },
        "id": "bTFu6OrjI4dA",
        "outputId": "c0cc55eb-0e01-48aa-9b6f-a34e85ce7512"
      },
      "execution_count": 126,
      "outputs": [
        {
          "output_type": "execute_result",
          "data": {
            "text/plain": [
              "2"
            ]
          },
          "metadata": {},
          "execution_count": 126
        }
      ]
    },
    {
      "cell_type": "code",
      "source": [
        "banking_data.nbytes"
      ],
      "metadata": {
        "colab": {
          "base_uri": "https://localhost:8080/"
        },
        "id": "b0IiYxBDI40c",
        "outputId": "8f17ee7b-48b4-4663-eed2-74f7751a9341"
      },
      "execution_count": 127,
      "outputs": [
        {
          "output_type": "execute_result",
          "data": {
            "text/plain": [
              "96"
            ]
          },
          "metadata": {},
          "execution_count": 127
        }
      ]
    },
    {
      "cell_type": "code",
      "source": [
        "#Question 3: Indexing and Slicing"
      ],
      "metadata": {
        "id": "pG6wCZuyJIZH"
      },
      "execution_count": 128,
      "outputs": []
    },
    {
      "cell_type": "code",
      "source": [
        "banking_data[0]"
      ],
      "metadata": {
        "colab": {
          "base_uri": "https://localhost:8080/"
        },
        "id": "j0pPlkvTJzZo",
        "outputId": "f260b208-4bff-491c-c9ff-dd8260cee6ae"
      },
      "execution_count": 129,
      "outputs": [
        {
          "output_type": "execute_result",
          "data": {
            "text/plain": [
              "array([2000, 1000, 1500,  100])"
            ]
          },
          "metadata": {},
          "execution_count": 129
        }
      ]
    },
    {
      "cell_type": "code",
      "source": [
        "banking_data[-1]"
      ],
      "metadata": {
        "colab": {
          "base_uri": "https://localhost:8080/"
        },
        "id": "fI-VBBDIKKow",
        "outputId": "14caf778-07e4-4633-9018-5a27444ba1c9"
      },
      "execution_count": 130,
      "outputs": [
        {
          "output_type": "execute_result",
          "data": {
            "text/plain": [
              "array([1500, 1000, 2000, 1700])"
            ]
          },
          "metadata": {},
          "execution_count": 130
        }
      ]
    },
    {
      "cell_type": "code",
      "source": [
        "banking_data[:, 1]"
      ],
      "metadata": {
        "colab": {
          "base_uri": "https://localhost:8080/"
        },
        "id": "dokQXh7JKktP",
        "outputId": "d6be7850-46b8-434d-a99c-f890fdf4cb98"
      },
      "execution_count": 131,
      "outputs": [
        {
          "output_type": "execute_result",
          "data": {
            "text/plain": [
              "array([1000, 1000, 1000])"
            ]
          },
          "metadata": {},
          "execution_count": 131
        }
      ]
    },
    {
      "cell_type": "code",
      "source": [
        "banking_data[:4, :3]"
      ],
      "metadata": {
        "colab": {
          "base_uri": "https://localhost:8080/"
        },
        "id": "ijXBxIreLIzk",
        "outputId": "9fcf8848-4df9-49df-fe85-ca0e125992df"
      },
      "execution_count": 132,
      "outputs": [
        {
          "output_type": "execute_result",
          "data": {
            "text/plain": [
              "array([[2000, 1000, 1500],\n",
              "       [1500, 1000, 2000],\n",
              "       [1500, 1000, 2000]])"
            ]
          },
          "metadata": {},
          "execution_count": 132
        }
      ]
    },
    {
      "cell_type": "code",
      "source": [
        "banking_data[1:4]"
      ],
      "metadata": {
        "colab": {
          "base_uri": "https://localhost:8080/"
        },
        "id": "wkTeCAs4LvOc",
        "outputId": "d05c6824-c7b0-4a45-b596-628ef7ed0aa5"
      },
      "execution_count": 133,
      "outputs": [
        {
          "output_type": "execute_result",
          "data": {
            "text/plain": [
              "array([[1500, 1000, 2000,  500],\n",
              "       [1500, 1000, 2000, 1700]])"
            ]
          },
          "metadata": {},
          "execution_count": 133
        }
      ]
    },
    {
      "cell_type": "code",
      "source": [
        "#Question 4: Mathematical Operations"
      ],
      "metadata": {
        "id": "sga48FpSM55e"
      },
      "execution_count": 134,
      "outputs": []
    },
    {
      "cell_type": "code",
      "source": [
        "import numpy as np"
      ],
      "metadata": {
        "id": "lar1cJ13OEKc"
      },
      "execution_count": 135,
      "outputs": []
    },
    {
      "cell_type": "code",
      "source": [
        "banking_data = np.array([\n",
        "    [101, 1000, 25],\n",
        "    [102, 2000, 30],\n",
        "    [103, 3000, 28],\n",
        "    [104, 4000, 35],\n",
        "    [105, 5000, 32],\n",
        "    [106, 6000, 29],\n",
        "    [107, 7000, 40],\n",
        "    [108, 8000, 36]\n",
        "])"
      ],
      "metadata": {
        "id": "o_vHTyLYNSv6"
      },
      "execution_count": 136,
      "outputs": []
    },
    {
      "cell_type": "code",
      "source": [
        "balances=banking_data[:, 1]"
      ],
      "metadata": {
        "id": "d0wERl-4NTS2"
      },
      "execution_count": 137,
      "outputs": []
    },
    {
      "cell_type": "code",
      "source": [
        "np.sum(balances)"
      ],
      "metadata": {
        "colab": {
          "base_uri": "https://localhost:8080/"
        },
        "id": "ByAxUSXXNTCL",
        "outputId": "f144db5f-d083-4dc0-e9ba-a7fe5a55b580"
      },
      "execution_count": 138,
      "outputs": [
        {
          "output_type": "execute_result",
          "data": {
            "text/plain": [
              "np.int64(36000)"
            ]
          },
          "metadata": {},
          "execution_count": 138
        }
      ]
    },
    {
      "cell_type": "code",
      "source": [
        "np.median(balances)"
      ],
      "metadata": {
        "colab": {
          "base_uri": "https://localhost:8080/"
        },
        "id": "n19pyq9GPZhS",
        "outputId": "2ff45611-ed0c-4553-e0d6-1efe5756db46"
      },
      "execution_count": 139,
      "outputs": [
        {
          "output_type": "execute_result",
          "data": {
            "text/plain": [
              "np.float64(4500.0)"
            ]
          },
          "metadata": {},
          "execution_count": 139
        }
      ]
    },
    {
      "cell_type": "code",
      "source": [
        "np.std(balances)"
      ],
      "metadata": {
        "colab": {
          "base_uri": "https://localhost:8080/"
        },
        "id": "YQAjVmMwPZ13",
        "outputId": "e47a35a6-98c6-4522-be4d-04b3e331fe57"
      },
      "execution_count": 140,
      "outputs": [
        {
          "output_type": "execute_result",
          "data": {
            "text/plain": [
              "np.float64(2291.28784747792)"
            ]
          },
          "metadata": {},
          "execution_count": 140
        }
      ]
    },
    {
      "cell_type": "code",
      "source": [
        "np.var(balances)"
      ],
      "metadata": {
        "colab": {
          "base_uri": "https://localhost:8080/"
        },
        "id": "EUFGBTY8PaBz",
        "outputId": "cb2b09de-470e-43f1-dc80-eb1dffc0da58"
      },
      "execution_count": 141,
      "outputs": [
        {
          "output_type": "execute_result",
          "data": {
            "text/plain": [
              "np.float64(5250000.0)"
            ]
          },
          "metadata": {},
          "execution_count": 141
        }
      ]
    },
    {
      "cell_type": "code",
      "source": [
        "np.mean(balances)"
      ],
      "metadata": {
        "colab": {
          "base_uri": "https://localhost:8080/"
        },
        "id": "R2y3L2shPaUm",
        "outputId": "3dad749f-d009-4943-fa1b-11e1f46b63db"
      },
      "execution_count": 142,
      "outputs": [
        {
          "output_type": "execute_result",
          "data": {
            "text/plain": [
              "np.float64(4500.0)"
            ]
          },
          "metadata": {},
          "execution_count": 142
        }
      ]
    },
    {
      "cell_type": "code",
      "source": [
        "#Question 5: Statistical Functions"
      ],
      "metadata": {
        "id": "Zl-BmGqfPtXX"
      },
      "execution_count": 143,
      "outputs": []
    },
    {
      "cell_type": "code",
      "source": [
        "credits  = banking_data[:, 2]"
      ],
      "metadata": {
        "id": "mmj1tt_kPtos"
      },
      "execution_count": 144,
      "outputs": []
    },
    {
      "cell_type": "code",
      "source": [
        "np.min(balances), np.max(balances)"
      ],
      "metadata": {
        "colab": {
          "base_uri": "https://localhost:8080/"
        },
        "id": "e1IVnMO0Pt4b",
        "outputId": "438742ff-543b-41d3-f8ad-4db7dfe20c74"
      },
      "execution_count": 145,
      "outputs": [
        {
          "output_type": "execute_result",
          "data": {
            "text/plain": [
              "(np.int64(1000), np.int64(8000))"
            ]
          },
          "metadata": {},
          "execution_count": 145
        }
      ]
    },
    {
      "cell_type": "code",
      "source": [
        "np.min(credits), np.max(credits)"
      ],
      "metadata": {
        "colab": {
          "base_uri": "https://localhost:8080/"
        },
        "id": "Naf-ZQnXQg26",
        "outputId": "1cafdc7c-996e-4a8c-f842-c2de2b8f67c9"
      },
      "execution_count": 146,
      "outputs": [
        {
          "output_type": "execute_result",
          "data": {
            "text/plain": [
              "(np.int64(25), np.int64(40))"
            ]
          },
          "metadata": {},
          "execution_count": 146
        }
      ]
    },
    {
      "cell_type": "code",
      "source": [
        "np.percentile(balances,[25,50,75])"
      ],
      "metadata": {
        "colab": {
          "base_uri": "https://localhost:8080/"
        },
        "id": "DWbDkZLIQhJ4",
        "outputId": "7d5643e5-4c0a-404e-ac56-79bb6f6256f6"
      },
      "execution_count": 147,
      "outputs": [
        {
          "output_type": "execute_result",
          "data": {
            "text/plain": [
              "array([2750., 4500., 6250.])"
            ]
          },
          "metadata": {},
          "execution_count": 147
        }
      ]
    },
    {
      "cell_type": "code",
      "source": [
        "np.corrcoef(balances,credits)"
      ],
      "metadata": {
        "colab": {
          "base_uri": "https://localhost:8080/"
        },
        "id": "uHvWYnNcQhae",
        "outputId": "d6c73e28-355d-41cb-9fc1-10c4777ca2b8"
      },
      "execution_count": 148,
      "outputs": [
        {
          "output_type": "execute_result",
          "data": {
            "text/plain": [
              "array([[1.        , 0.75849625],\n",
              "       [0.75849625, 1.        ]])"
            ]
          },
          "metadata": {},
          "execution_count": 148
        }
      ]
    },
    {
      "cell_type": "code",
      "source": [
        "np.cov(balances,credits)"
      ],
      "metadata": {
        "colab": {
          "base_uri": "https://localhost:8080/"
        },
        "id": "JmNUv8zIQhmw",
        "outputId": "e93e67ca-2563-4452-849d-d14e471d0ef7"
      },
      "execution_count": 149,
      "outputs": [
        {
          "output_type": "execute_result",
          "data": {
            "text/plain": [
              "array([[6.00000000e+06, 9.07142857e+03],\n",
              "       [9.07142857e+03, 2.38392857e+01]])"
            ]
          },
          "metadata": {},
          "execution_count": 149
        }
      ]
    },
    {
      "cell_type": "code",
      "source": [
        "#Question 6: Array Reshaping and Manipulation"
      ],
      "metadata": {
        "id": "yWkL2XUdRhco"
      },
      "execution_count": 150,
      "outputs": []
    },
    {
      "cell_type": "code",
      "source": [
        "banking_data = np.array([\n",
        "    [101, 1000, 25],\n",
        "    [102, 2000, 30],\n",
        "    [103, 3000, 28],\n",
        "    [104, 4000, 35],\n",
        "    [105, 5000, 32],\n",
        "    [106, 6000, 29],\n",
        "    [107, 7000, 40],\n",
        "    [108, 8000, 36],\n",
        "     [109, 8000, 36],\n",
        "     [110, 8000, 36]\n",
        "])"
      ],
      "metadata": {
        "id": "VgLk_in-RmNm"
      },
      "execution_count": 151,
      "outputs": []
    },
    {
      "cell_type": "code",
      "source": [
        "banking_data.reshape(3, 10)"
      ],
      "metadata": {
        "colab": {
          "base_uri": "https://localhost:8080/"
        },
        "id": "_0H5-z7tSN8g",
        "outputId": "ddb8f2ae-7578-4ebe-9527-4f9573c3ba0b"
      },
      "execution_count": 152,
      "outputs": [
        {
          "output_type": "execute_result",
          "data": {
            "text/plain": [
              "array([[ 101, 1000,   25,  102, 2000,   30,  103, 3000,   28,  104],\n",
              "       [4000,   35,  105, 5000,   32,  106, 6000,   29,  107, 7000],\n",
              "       [  40,  108, 8000,   36,  109, 8000,   36,  110, 8000,   36]])"
            ]
          },
          "metadata": {},
          "execution_count": 152
        }
      ]
    },
    {
      "cell_type": "code",
      "source": [
        "banking_data.flatten()"
      ],
      "metadata": {
        "colab": {
          "base_uri": "https://localhost:8080/"
        },
        "id": "bijQanDaS8z0",
        "outputId": "2cad22fb-6a35-448e-847f-05ecaab60ff4"
      },
      "execution_count": 153,
      "outputs": [
        {
          "output_type": "execute_result",
          "data": {
            "text/plain": [
              "array([ 101, 1000,   25,  102, 2000,   30,  103, 3000,   28,  104, 4000,\n",
              "         35,  105, 5000,   32,  106, 6000,   29,  107, 7000,   40,  108,\n",
              "       8000,   36,  109, 8000,   36,  110, 8000,   36])"
            ]
          },
          "metadata": {},
          "execution_count": 153
        }
      ]
    },
    {
      "cell_type": "code",
      "source": [
        "banking_data.T"
      ],
      "metadata": {
        "colab": {
          "base_uri": "https://localhost:8080/"
        },
        "id": "9YvcyvXVTIEy",
        "outputId": "60c3839a-5574-467d-96eb-ff8cc95c448a"
      },
      "execution_count": 154,
      "outputs": [
        {
          "output_type": "execute_result",
          "data": {
            "text/plain": [
              "array([[ 101,  102,  103,  104,  105,  106,  107,  108,  109,  110],\n",
              "       [1000, 2000, 3000, 4000, 5000, 6000, 7000, 8000, 8000, 8000],\n",
              "       [  25,   30,   28,   35,   32,   29,   40,   36,   36,   36]])"
            ]
          },
          "metadata": {},
          "execution_count": 154
        }
      ]
    },
    {
      "cell_type": "code",
      "source": [
        "np.vsplit(banking_data,2)"
      ],
      "metadata": {
        "colab": {
          "base_uri": "https://localhost:8080/"
        },
        "id": "1yTHvB45TIU3",
        "outputId": "616a5cb1-4c8f-4dc2-f65b-e00e02016ff9"
      },
      "execution_count": 155,
      "outputs": [
        {
          "output_type": "execute_result",
          "data": {
            "text/plain": [
              "[array([[ 101, 1000,   25],\n",
              "        [ 102, 2000,   30],\n",
              "        [ 103, 3000,   28],\n",
              "        [ 104, 4000,   35],\n",
              "        [ 105, 5000,   32]]),\n",
              " array([[ 106, 6000,   29],\n",
              "        [ 107, 7000,   40],\n",
              "        [ 108, 8000,   36],\n",
              "        [ 109, 8000,   36],\n",
              "        [ 110, 8000,   36]])]"
            ]
          },
          "metadata": {},
          "execution_count": 155
        }
      ]
    },
    {
      "cell_type": "code",
      "source": [
        "np.hsplit(banking_data, 1)"
      ],
      "metadata": {
        "colab": {
          "base_uri": "https://localhost:8080/"
        },
        "id": "BOQvdrY8TZN1",
        "outputId": "c10af4fe-c913-43d8-a60e-612e68b6bac8"
      },
      "execution_count": 156,
      "outputs": [
        {
          "output_type": "execute_result",
          "data": {
            "text/plain": [
              "[array([[ 101, 1000,   25],\n",
              "        [ 102, 2000,   30],\n",
              "        [ 103, 3000,   28],\n",
              "        [ 104, 4000,   35],\n",
              "        [ 105, 5000,   32],\n",
              "        [ 106, 6000,   29],\n",
              "        [ 107, 7000,   40],\n",
              "        [ 108, 8000,   36],\n",
              "        [ 109, 8000,   36],\n",
              "        [ 110, 8000,   36]])]"
            ]
          },
          "metadata": {},
          "execution_count": 156
        }
      ]
    },
    {
      "cell_type": "code",
      "source": [
        "#Question 7: Logical Operations and Filtering"
      ],
      "metadata": {
        "id": "713urLghT44k"
      },
      "execution_count": 157,
      "outputs": []
    },
    {
      "cell_type": "code",
      "source": [
        "banking_data = np.array([\n",
        "    [101, 120000, 820, 60],\n",
        "    [102, 80000, 750, 45],\n",
        "    [103, 95000, 780, 55],\n",
        "    [104, 40000, 710, 30],\n",
        "    [105, 150000, 860, 70],\n",
        "    [106, 60000, 730, 25],\n",
        "    [107, 300000, 900, 80],\n",
        "    [108, 50000, 700, 20]\n",
        "])"
      ],
      "metadata": {
        "id": "BvhJ0EgbUK27"
      },
      "execution_count": 158,
      "outputs": []
    },
    {
      "cell_type": "code",
      "source": [
        "banking_data[banking_data[:,1] > 100000]"
      ],
      "metadata": {
        "colab": {
          "base_uri": "https://localhost:8080/"
        },
        "id": "s60U4p_IUQSt",
        "outputId": "195a79a9-13a2-477a-9698-1c04c0c1f3db"
      },
      "execution_count": 159,
      "outputs": [
        {
          "output_type": "execute_result",
          "data": {
            "text/plain": [
              "array([[   101, 120000,    820,     60],\n",
              "       [   105, 150000,    860,     70],\n",
              "       [   107, 300000,    900,     80]])"
            ]
          },
          "metadata": {},
          "execution_count": 159
        }
      ]
    },
    {
      "cell_type": "code",
      "source": [
        "banking_data[banking_data[:,2] > 800]"
      ],
      "metadata": {
        "colab": {
          "base_uri": "https://localhost:8080/"
        },
        "id": "wcpIjOMLWIR2",
        "outputId": "a54fd3a1-7ac0-4384-e788-798c4329f481"
      },
      "execution_count": 160,
      "outputs": [
        {
          "output_type": "execute_result",
          "data": {
            "text/plain": [
              "array([[   101, 120000,    820,     60],\n",
              "       [   105, 150000,    860,     70],\n",
              "       [   107, 300000,    900,     80]])"
            ]
          },
          "metadata": {},
          "execution_count": 160
        }
      ]
    },
    {
      "cell_type": "code",
      "source": [
        "banking_data[(banking_data[:,3] > 50) & (banking_data[:,2] < 750)]"
      ],
      "metadata": {
        "colab": {
          "base_uri": "https://localhost:8080/"
        },
        "id": "-PejXbQzWNTP",
        "outputId": "576f2ec4-ea4c-45b5-e1aa-69cbadbae47f"
      },
      "execution_count": 161,
      "outputs": [
        {
          "output_type": "execute_result",
          "data": {
            "text/plain": [
              "array([], shape=(0, 4), dtype=int64)"
            ]
          },
          "metadata": {},
          "execution_count": 161
        }
      ]
    },
    {
      "cell_type": "code",
      "source": [
        "np.sum((banking_data[:,1] >= 10000) & (banking_data[:,1] <= 100000))"
      ],
      "metadata": {
        "colab": {
          "base_uri": "https://localhost:8080/"
        },
        "id": "0UHBpQSJWNlk",
        "outputId": "147a1af7-18e9-479b-e6fd-17d5420561c2"
      },
      "execution_count": 162,
      "outputs": [
        {
          "output_type": "execute_result",
          "data": {
            "text/plain": [
              "np.int64(5)"
            ]
          },
          "metadata": {},
          "execution_count": 162
        }
      ]
    },
    {
      "cell_type": "code",
      "source": [
        "np.argmax(banking_data[:,2])"
      ],
      "metadata": {
        "colab": {
          "base_uri": "https://localhost:8080/"
        },
        "id": "QI7KrvfmWSOn",
        "outputId": "90856d47-9a32-406b-91ea-75a75264ecfb"
      },
      "execution_count": 163,
      "outputs": [
        {
          "output_type": "execute_result",
          "data": {
            "text/plain": [
              "np.int64(6)"
            ]
          },
          "metadata": {},
          "execution_count": 163
        }
      ]
    },
    {
      "cell_type": "code",
      "source": [
        "#Question 8: Sorting and Searching"
      ],
      "metadata": {
        "id": "qHs9mSerU9j1"
      },
      "execution_count": 164,
      "outputs": []
    },
    {
      "cell_type": "code",
      "source": [
        "Q8_1 = banking_data[np.argsort(banking_data[:,1])]\n",
        "print(\"Q8.1:\\n\", Q8_1)"
      ],
      "metadata": {
        "colab": {
          "base_uri": "https://localhost:8080/"
        },
        "id": "oUwKtpqbU_p2",
        "outputId": "eabee02a-2ab8-47eb-d8d6-a252540d1ae4"
      },
      "execution_count": 165,
      "outputs": [
        {
          "output_type": "stream",
          "name": "stdout",
          "text": [
            "Q8.1:\n",
            " [[   104  40000    710     30]\n",
            " [   108  50000    700     20]\n",
            " [   106  60000    730     25]\n",
            " [   102  80000    750     45]\n",
            " [   103  95000    780     55]\n",
            " [   101 120000    820     60]\n",
            " [   105 150000    860     70]\n",
            " [   107 300000    900     80]]\n"
          ]
        }
      ]
    },
    {
      "cell_type": "code",
      "source": [
        "Q8_2 = banking_data[np.argsort(-banking_data[:,2])]\n",
        "print(\"Q8.2:\\n\", Q8_2)"
      ],
      "metadata": {
        "colab": {
          "base_uri": "https://localhost:8080/"
        },
        "id": "O5xAjQ5lXWOq",
        "outputId": "4ff63217-603c-4d80-9be6-8853e9b0f141"
      },
      "execution_count": 166,
      "outputs": [
        {
          "output_type": "stream",
          "name": "stdout",
          "text": [
            "Q8.2:\n",
            " [[   107 300000    900     80]\n",
            " [   105 150000    860     70]\n",
            " [   101 120000    820     60]\n",
            " [   103  95000    780     55]\n",
            " [   102  80000    750     45]\n",
            " [   106  60000    730     25]\n",
            " [   104  40000    710     30]\n",
            " [   108  50000    700     20]]\n"
          ]
        }
      ]
    },
    {
      "cell_type": "code",
      "source": [
        "Q8_3 = np.argsort(banking_data[:,3])\n",
        "print(\"Q8.3:\\n\", Q8_3)"
      ],
      "metadata": {
        "colab": {
          "base_uri": "https://localhost:8080/"
        },
        "id": "qmS8PcekXWxn",
        "outputId": "1e165ec2-aaea-4967-a962-60118c23b09c"
      },
      "execution_count": 167,
      "outputs": [
        {
          "output_type": "stream",
          "name": "stdout",
          "text": [
            "Q8.3:\n",
            " [7 5 3 1 2 0 4 6]\n"
          ]
        }
      ]
    },
    {
      "cell_type": "code",
      "source": [
        "Q8_4 = banking_data[np.argsort(-banking_data[:,1])[1]]\n",
        "print(\"Q8.4:\\n\", Q8_4)"
      ],
      "metadata": {
        "colab": {
          "base_uri": "https://localhost:8080/"
        },
        "id": "NUBez5TKXW_F",
        "outputId": "0cf242c2-3cdc-48b4-977e-dbdfbf2b7320"
      },
      "execution_count": 168,
      "outputs": [
        {
          "output_type": "stream",
          "name": "stdout",
          "text": [
            "Q8.4:\n",
            " [   105 150000    860     70]\n"
          ]
        }
      ]
    },
    {
      "cell_type": "code",
      "source": [
        "Q8_5 = banking_data[np.argmin(banking_data[:,3])]\n",
        "print(\"Q8.5:\\n\", Q8_5)"
      ],
      "metadata": {
        "colab": {
          "base_uri": "https://localhost:8080/"
        },
        "id": "qWKVnsxGXXLl",
        "outputId": "5505a4ac-0bef-46be-92c2-d894dd6a2c12"
      },
      "execution_count": 169,
      "outputs": [
        {
          "output_type": "stream",
          "name": "stdout",
          "text": [
            "Q8.5:\n",
            " [  108 50000   700    20]\n"
          ]
        }
      ]
    },
    {
      "cell_type": "code",
      "source": [
        "#Question 9: Mathematical Functions"
      ],
      "metadata": {
        "id": "3-5NE2lSWwo9"
      },
      "execution_count": 170,
      "outputs": []
    },
    {
      "cell_type": "code",
      "source": [
        "np.abs(banking_data)"
      ],
      "metadata": {
        "colab": {
          "base_uri": "https://localhost:8080/"
        },
        "id": "-VYGdIQPW7I6",
        "outputId": "4ebb9728-7d3d-4994-8606-4b9ac819fbc0"
      },
      "execution_count": 171,
      "outputs": [
        {
          "output_type": "execute_result",
          "data": {
            "text/plain": [
              "array([[   101, 120000,    820,     60],\n",
              "       [   102,  80000,    750,     45],\n",
              "       [   103,  95000,    780,     55],\n",
              "       [   104,  40000,    710,     30],\n",
              "       [   105, 150000,    860,     70],\n",
              "       [   106,  60000,    730,     25],\n",
              "       [   107, 300000,    900,     80],\n",
              "       [   108,  50000,    700,     20]])"
            ]
          },
          "metadata": {},
          "execution_count": 171
        }
      ]
    },
    {
      "cell_type": "code",
      "source": [
        "np.sqrt(banking_data[:,1])"
      ],
      "metadata": {
        "colab": {
          "base_uri": "https://localhost:8080/"
        },
        "id": "atJwUBw2W7bz",
        "outputId": "99d24520-0475-4196-8dc1-e0bafa6488ad"
      },
      "execution_count": 172,
      "outputs": [
        {
          "output_type": "execute_result",
          "data": {
            "text/plain": [
              "array([346.41016151, 282.84271247, 308.22070015, 200.        ,\n",
              "       387.29833462, 244.94897428, 547.72255751, 223.60679775])"
            ]
          },
          "metadata": {},
          "execution_count": 172
        }
      ]
    },
    {
      "cell_type": "code",
      "source": [
        "np.square(banking_data[:,2])"
      ],
      "metadata": {
        "colab": {
          "base_uri": "https://localhost:8080/"
        },
        "id": "s7E_HTwkW7v7",
        "outputId": "4801ef51-2eaa-46c2-fb74-6cf9c8543b15"
      },
      "execution_count": 173,
      "outputs": [
        {
          "output_type": "execute_result",
          "data": {
            "text/plain": [
              "array([672400, 562500, 608400, 504100, 739600, 532900, 810000, 490000])"
            ]
          },
          "metadata": {},
          "execution_count": 173
        }
      ]
    },
    {
      "cell_type": "code",
      "source": [
        "np.exp(banking_data[:,3])"
      ],
      "metadata": {
        "colab": {
          "base_uri": "https://localhost:8080/"
        },
        "id": "SqvbbU-uW8B_",
        "outputId": "aad6ea6a-5d85-423a-b8ab-f2c995607383"
      },
      "execution_count": 174,
      "outputs": [
        {
          "output_type": "execute_result",
          "data": {
            "text/plain": [
              "array([1.14200739e+26, 3.49342711e+19, 7.69478527e+23, 1.06864746e+13,\n",
              "       2.51543867e+30, 7.20048993e+10, 5.54062238e+34, 4.85165195e+08])"
            ]
          },
          "metadata": {},
          "execution_count": 174
        }
      ]
    },
    {
      "cell_type": "code",
      "source": [
        "np.log(banking_data[:,1])"
      ],
      "metadata": {
        "colab": {
          "base_uri": "https://localhost:8080/"
        },
        "id": "Ds-VrIZfW8Tx",
        "outputId": "0fc630f9-914b-42d7-983a-1bbb47928920"
      },
      "execution_count": 175,
      "outputs": [
        {
          "output_type": "execute_result",
          "data": {
            "text/plain": [
              "array([11.69524702, 11.28978191, 11.46163217, 10.59663473, 11.91839057,\n",
              "       11.00209984, 12.61153775, 10.81977828])"
            ]
          },
          "metadata": {},
          "execution_count": 175
        }
      ]
    },
    {
      "cell_type": "code",
      "source": [
        "#Question 10: Advanced Operations"
      ],
      "metadata": {
        "id": "dr3-4fvNX60j"
      },
      "execution_count": 176,
      "outputs": []
    },
    {
      "cell_type": "code",
      "source": [
        "np.cumsum(banking_data[:,1])"
      ],
      "metadata": {
        "colab": {
          "base_uri": "https://localhost:8080/"
        },
        "id": "036JpR9AYrzp",
        "outputId": "cde4502f-8270-4c8f-c6b7-592aca92087f"
      },
      "execution_count": 177,
      "outputs": [
        {
          "output_type": "execute_result",
          "data": {
            "text/plain": [
              "array([120000, 200000, 295000, 335000, 485000, 545000, 845000, 895000])"
            ]
          },
          "metadata": {},
          "execution_count": 177
        }
      ]
    },
    {
      "cell_type": "code",
      "source": [
        "np.cumprod(banking_data[:,3])"
      ],
      "metadata": {
        "colab": {
          "base_uri": "https://localhost:8080/"
        },
        "id": "AI-FGKp7YsJL",
        "outputId": "1bd2c695-2adf-41b5-a632-c3c67e825fb2"
      },
      "execution_count": 178,
      "outputs": [
        {
          "output_type": "execute_result",
          "data": {
            "text/plain": [
              "array([            60,           2700,         148500,        4455000,\n",
              "            311850000,     7796250000,   623700000000, 12474000000000])"
            ]
          },
          "metadata": {},
          "execution_count": 178
        }
      ]
    },
    {
      "cell_type": "code",
      "source": [
        "np.diff(banking_data[:,1])"
      ],
      "metadata": {
        "colab": {
          "base_uri": "https://localhost:8080/"
        },
        "id": "vqpvokUpYsTf",
        "outputId": "cb6a3df7-85a6-416b-fb69-5a221da38549"
      },
      "execution_count": 179,
      "outputs": [
        {
          "output_type": "execute_result",
          "data": {
            "text/plain": [
              "array([ -40000,   15000,  -55000,  110000,  -90000,  240000, -250000])"
            ]
          },
          "metadata": {},
          "execution_count": 179
        }
      ]
    },
    {
      "cell_type": "code",
      "source": [
        "np.gradient(banking_data[:,1])"
      ],
      "metadata": {
        "colab": {
          "base_uri": "https://localhost:8080/"
        },
        "id": "mPXGWF0WYsb2",
        "outputId": "771e21e1-1e48-4bd0-f190-e16abed70bc9"
      },
      "execution_count": 180,
      "outputs": [
        {
          "output_type": "execute_result",
          "data": {
            "text/plain": [
              "array([ -40000.,  -12500.,  -20000.,   27500.,   10000.,   75000.,\n",
              "         -5000., -250000.])"
            ]
          },
          "metadata": {},
          "execution_count": 180
        }
      ]
    },
    {
      "cell_type": "code",
      "source": [
        "np.histogram(banking_data[:,1], bins=5)"
      ],
      "metadata": {
        "colab": {
          "base_uri": "https://localhost:8080/"
        },
        "id": "OY1hfTMhYsjR",
        "outputId": "c9953709-9863-43b6-9fdd-b2f9a6349d4e"
      },
      "execution_count": 181,
      "outputs": [
        {
          "output_type": "execute_result",
          "data": {
            "text/plain": [
              "(array([4, 2, 1, 0, 1]),\n",
              " array([ 40000.,  92000., 144000., 196000., 248000., 300000.]))"
            ]
          },
          "metadata": {},
          "execution_count": 181
        }
      ]
    },
    {
      "cell_type": "code",
      "source": [
        "#Question 11: Random Numbers and Simulation"
      ],
      "metadata": {
        "id": "SN482y7FY8cz"
      },
      "execution_count": 182,
      "outputs": []
    },
    {
      "cell_type": "code",
      "source": [
        "# Q11.1\n",
        "np.random.randint(1, 1001, 6)"
      ],
      "metadata": {
        "colab": {
          "base_uri": "https://localhost:8080/"
        },
        "id": "dbQ4scZaY8vn",
        "outputId": "e20de846-ebf2-48be-820d-f2c4a12528bc"
      },
      "execution_count": 183,
      "outputs": [
        {
          "output_type": "execute_result",
          "data": {
            "text/plain": [
              "array([596, 107, 124, 570, 215, 738])"
            ]
          },
          "metadata": {},
          "execution_count": 183
        }
      ]
    },
    {
      "cell_type": "code",
      "source": [
        "# Q11.2\n",
        "np.random.rand(6)"
      ],
      "metadata": {
        "colab": {
          "base_uri": "https://localhost:8080/"
        },
        "id": "QfONgHKSY87I",
        "outputId": "562ec2a4-bbb4-4178-a932-adf977d43836"
      },
      "execution_count": 184,
      "outputs": [
        {
          "output_type": "execute_result",
          "data": {
            "text/plain": [
              "array([0.68482974, 0.4809319 , 0.39211752, 0.34317802, 0.72904971,\n",
              "       0.43857224])"
            ]
          },
          "metadata": {},
          "execution_count": 184
        }
      ]
    },
    {
      "cell_type": "code",
      "source": [
        "# Q11.3\n",
        "np.random.normal(700, 100, 6)"
      ],
      "metadata": {
        "colab": {
          "base_uri": "https://localhost:8080/"
        },
        "id": "b4tKGiTEY9Kz",
        "outputId": "6b20474c-caf7-4124-a805-3413ca9d17f8"
      },
      "execution_count": 185,
      "outputs": [
        {
          "output_type": "execute_result",
          "data": {
            "text/plain": [
              "array([685.66275259, 638.08090993, 623.05665285, 757.67460214,\n",
              "       712.65259202, 569.85110255])"
            ]
          },
          "metadata": {},
          "execution_count": 185
        }
      ]
    },
    {
      "cell_type": "code",
      "source": [
        "# Q11.4\n",
        "np.random.shuffle(banking_data)"
      ],
      "metadata": {
        "id": "VvoFHYFuY9VH"
      },
      "execution_count": 186,
      "outputs": []
    },
    {
      "cell_type": "code",
      "source": [
        "# Q11.5\n",
        "np.random.seed(123)\n",
        "np.random.rand(4)"
      ],
      "metadata": {
        "colab": {
          "base_uri": "https://localhost:8080/"
        },
        "id": "Ndw7J34NY97a",
        "outputId": "62b6f080-e89e-442d-9550-aa7fba611b65"
      },
      "execution_count": 187,
      "outputs": [
        {
          "output_type": "execute_result",
          "data": {
            "text/plain": [
              "array([0.69646919, 0.28613933, 0.22685145, 0.55131477])"
            ]
          },
          "metadata": {},
          "execution_count": 187
        }
      ]
    },
    {
      "cell_type": "code",
      "source": [
        "#Question 12: Linear Algebra Operations"
      ],
      "metadata": {
        "id": "ddjdSk5eaVqi"
      },
      "execution_count": 188,
      "outputs": []
    },
    {
      "cell_type": "code",
      "source": [
        "# Q12.1\n",
        "np.dot(banking_data[:,1], banking_data[:,2])"
      ],
      "metadata": {
        "colab": {
          "base_uri": "https://localhost:8080/"
        },
        "id": "x4XznJgaaaCa",
        "outputId": "c98b7e02-b984-401c-a081-28f00ccffc48"
      },
      "execution_count": 189,
      "outputs": [
        {
          "output_type": "execute_result",
          "data": {
            "text/plain": [
              "np.int64(738700000)"
            ]
          },
          "metadata": {},
          "execution_count": 189
        }
      ]
    },
    {
      "cell_type": "code",
      "source": [
        "np.cross(banking_data[0, :3], banking_data[1, :3])"
      ],
      "metadata": {
        "colab": {
          "base_uri": "https://localhost:8080/"
        },
        "id": "0qm2-OPhaaSi",
        "outputId": "f19e067c-c915-4564-f8ac-0092bc1aae7b"
      },
      "execution_count": 190,
      "outputs": [
        {
          "output_type": "execute_result",
          "data": {
            "text/plain": [
              "array([-27500000,    -12140,   5110000])"
            ]
          },
          "metadata": {},
          "execution_count": 190
        }
      ]
    },
    {
      "cell_type": "code",
      "source": [
        "# Q12.3\n",
        "np.linalg.norm(banking_data[:,1])"
      ],
      "metadata": {
        "colab": {
          "base_uri": "https://localhost:8080/"
        },
        "id": "_oNhms24aaaf",
        "outputId": "d269f3f9-32e3-422d-95c6-ad147cd6c798"
      },
      "execution_count": 191,
      "outputs": [
        {
          "output_type": "execute_result",
          "data": {
            "text/plain": [
              "np.float64(387330.60813728627)"
            ]
          },
          "metadata": {},
          "execution_count": 191
        }
      ]
    },
    {
      "cell_type": "code",
      "source": [
        "# Q12.4\n",
        "A = np.array([[2, 3, 1],\n",
        "              [4, 5, 6],\n",
        "              [7, 8, 9]])\n",
        "np.linalg.det(A)"
      ],
      "metadata": {
        "colab": {
          "base_uri": "https://localhost:8080/"
        },
        "id": "vuRiVwE-aahq",
        "outputId": "286d1db5-5a1b-4bbf-943c-9e08585d70f9"
      },
      "execution_count": 192,
      "outputs": [
        {
          "output_type": "execute_result",
          "data": {
            "text/plain": [
              "np.float64(9.000000000000005)"
            ]
          },
          "metadata": {},
          "execution_count": 192
        }
      ]
    },
    {
      "cell_type": "code",
      "source": [
        "# Q12.5\n",
        "np.linalg.inv(A)"
      ],
      "metadata": {
        "colab": {
          "base_uri": "https://localhost:8080/"
        },
        "id": "4nWagJhXaaom",
        "outputId": "c62ab5a3-3bac-4cf0-9ce6-f1b450bc79fa"
      },
      "execution_count": 193,
      "outputs": [
        {
          "output_type": "execute_result",
          "data": {
            "text/plain": [
              "array([[-0.33333333, -2.11111111,  1.44444444],\n",
              "       [ 0.66666667,  1.22222222, -0.88888889],\n",
              "       [-0.33333333,  0.55555556, -0.22222222]])"
            ]
          },
          "metadata": {},
          "execution_count": 193
        }
      ]
    },
    {
      "cell_type": "code",
      "source": [
        "#Question 13: String Operations"
      ],
      "metadata": {
        "id": "emlwNFynbhLp"
      },
      "execution_count": 194,
      "outputs": []
    },
    {
      "cell_type": "code",
      "source": [
        "# Q13.1\n",
        "cust_ids_str = banking_data[:, 0].astype(str)"
      ],
      "metadata": {
        "id": "kY3BFX--bhUo"
      },
      "execution_count": 195,
      "outputs": []
    },
    {
      "cell_type": "code",
      "source": [
        "# Q13.2\n",
        "contains_100 = np.char.find(cust_ids_str, '100') >= 0"
      ],
      "metadata": {
        "id": "-MP9gX-ebhcT"
      },
      "execution_count": 196,
      "outputs": []
    },
    {
      "cell_type": "code",
      "source": [
        "# Q13.3\n",
        "cust_ids_upper = np.char.upper(cust_ids_str)\n",
        "\n",
        "# Q13.4\n",
        "cust_ids_length = np.char.str_len(cust_ids_str)\n",
        "\n",
        "# Q13.5\n",
        "cust_ids_replaced = np.char.replace(cust_ids_str, '100', 'CUST')"
      ],
      "metadata": {
        "id": "6YUYKjeebhjJ"
      },
      "execution_count": 197,
      "outputs": []
    },
    {
      "cell_type": "code",
      "source": [
        "#Question 14: Date and Time Operations\n",
        "# Q14.1\n",
        "years_active = banking_data[:, 3]\n",
        "months_active = years_active * 12\n",
        "\n",
        "# Q14.2\n",
        "avg_years_active = np.mean(years_active)\n",
        "\n",
        "# Q14.3\n",
        "active_gt5 = banking_data[years_active > 5]\n",
        "\n",
        "# Q14.4\n",
        "total_years_active = np.sum(years_active)\n",
        "\n",
        "# Q14.5\n",
        "shortest_active_customer = banking_data[np.argmin(years_active)]"
      ],
      "metadata": {
        "id": "Aq9evL-nbhpv"
      },
      "execution_count": 198,
      "outputs": []
    },
    {
      "cell_type": "code",
      "source": [
        "#Question 15: Advanced Array Operations"
      ],
      "metadata": {
        "id": "ll4ehkvic5L2"
      },
      "execution_count": 199,
      "outputs": []
    },
    {
      "cell_type": "code",
      "source": [
        "# Q15.1\n",
        "balances = banking_data[:, 1]\n",
        "interest_balances = balances * 1.05"
      ],
      "metadata": {
        "id": "UpZjWrioPnPS"
      },
      "execution_count": 200,
      "outputs": []
    },
    {
      "cell_type": "code",
      "source": [
        "# Q15.2\n",
        "balance_categories = np.where(balances < 50000, \"Low\",\n",
        "                     np.where(balances <= 100000, \"Medium\", \"High\"))"
      ],
      "metadata": {
        "id": "aS1EhNf-Pnhk"
      },
      "execution_count": 201,
      "outputs": []
    },
    {
      "cell_type": "code",
      "source": [
        "# Q15.3\n",
        "credit_scores = banking_data[:, 2]\n",
        "conditions = [\n",
        "    (credit_scores < 600),\n",
        "    (credit_scores >= 600) & (credit_scores < 700),\n",
        "    (credit_scores >= 700) & (credit_scores < 800),\n",
        "    (credit_scores >= 800)\n",
        "]\n",
        "choices = [\"Poor\", \"Fair\", \"Good\", \"Excellent\"]\n",
        "credit_categories = np.select(conditions, choices, default=\"Unknown\")"
      ],
      "metadata": {
        "id": "7s1qBbMoPnu-"
      },
      "execution_count": 202,
      "outputs": []
    },
    {
      "cell_type": "code",
      "source": [
        "# Q15.4\n",
        "interest_rates = np.piecewise(\n",
        "    balances,\n",
        "    [balances < 50000, (balances >= 50000) & (balances <= 100000), balances > 100000],\n",
        "    [lambda x: x * 1.02, lambda x: x * 1.03, lambda x: x * 1.05]\n",
        ")"
      ],
      "metadata": {
        "id": "sBLesDFqPoBp"
      },
      "execution_count": 203,
      "outputs": []
    },
    {
      "cell_type": "code",
      "source": [
        "# Q15.5\n",
        "row_sums = np.apply_along_axis(np.sum, axis=1, arr=banking_data)"
      ],
      "metadata": {
        "id": "YrSgo_JNPoXE"
      },
      "execution_count": 204,
      "outputs": []
    },
    {
      "cell_type": "code",
      "source": [
        "#Question 16: Array Concatenation and Stacking"
      ],
      "metadata": {
        "id": "Zj9h5AoURCU-"
      },
      "execution_count": 205,
      "outputs": []
    },
    {
      "cell_type": "code",
      "source": [
        "#Q16.1\n",
        "array1=np.array([[1,2,3],[4,5,6]])\n",
        "array2=np.array([[7,8,9],[10,11,12]])\n",
        "hstack_result=np.hstack((array1,array2))"
      ],
      "metadata": {
        "id": "jfXtifTlRDoz"
      },
      "execution_count": 206,
      "outputs": []
    },
    {
      "cell_type": "code",
      "source": [
        "#16.2\n",
        "array1=np.array([[1,2,3],[4,5,6]])\n",
        "array2=np.array([[7,8,9],[10,11,12]])\n",
        "vstack_result=np.vstack((array1,array2))"
      ],
      "metadata": {
        "id": "KDqOM9kZREJ1"
      },
      "execution_count": 207,
      "outputs": []
    },
    {
      "cell_type": "code",
      "source": [
        "#16.3\n",
        "concat_result=np.concatenate((array1,array2),axis=0)\n",
        "concat_result2=np.concatenate((array1,array2),axis=1)"
      ],
      "metadata": {
        "id": "nLlfOykUTw8X"
      },
      "execution_count": 208,
      "outputs": []
    },
    {
      "cell_type": "code",
      "source": [
        "#16.4\n",
        "dstack_result=np.dstack((array1,array2))"
      ],
      "metadata": {
        "id": "bP8IqicGTxew"
      },
      "execution_count": 209,
      "outputs": []
    },
    {
      "cell_type": "code",
      "source": [
        "#Q16.5\n",
        "column_stack_result=np.column_stack((array1,array2))"
      ],
      "metadata": {
        "id": "GrdEUhurTx9s"
      },
      "execution_count": 210,
      "outputs": []
    },
    {
      "cell_type": "code",
      "source": [
        "#Question 17: Array Splitting Operations"
      ],
      "metadata": {
        "id": "Ilt0jLTwVxwI"
      },
      "execution_count": 211,
      "outputs": []
    },
    {
      "cell_type": "code",
      "source": [
        "arr=np.arange(12)\n",
        "arr2d=np.arange(16).reshape(4,4)"
      ],
      "metadata": {
        "id": "PgAlqEL5VyZt"
      },
      "execution_count": 220,
      "outputs": []
    },
    {
      "cell_type": "code",
      "source": [
        "#17.1\n",
        "split_result=np.split(arr,3)"
      ],
      "metadata": {
        "id": "6n3-hgmQXedd"
      },
      "execution_count": 232,
      "outputs": []
    },
    {
      "cell_type": "code",
      "source": [
        "#17.2\n",
        "split_result=np.split(arr,[3,7])"
      ],
      "metadata": {
        "id": "y5akdV34YAtc"
      },
      "execution_count": 233,
      "outputs": []
    },
    {
      "cell_type": "code",
      "source": [
        "#17.3\n",
        "hsplit_result=np.hsplit(arr2d,2)"
      ],
      "metadata": {
        "id": "3NS3FRq_YHe1"
      },
      "execution_count": 234,
      "outputs": []
    },
    {
      "cell_type": "code",
      "source": [
        "#17.4\n",
        "vsplit_result=np.vsplit(arr2d,2)"
      ],
      "metadata": {
        "id": "lq4GvagYZIdT"
      },
      "execution_count": 235,
      "outputs": []
    },
    {
      "cell_type": "code",
      "source": [
        "#17.5\n",
        "array_split_result=np.array_split(arr,5)"
      ],
      "metadata": {
        "id": "hu78gCluZQMO"
      },
      "execution_count": 236,
      "outputs": []
    },
    {
      "cell_type": "code",
      "source": [
        "#Question 18: Array Repetition and Tiling"
      ],
      "metadata": {
        "id": "Zwm_hZJ-Z_SG"
      },
      "execution_count": 243,
      "outputs": []
    },
    {
      "cell_type": "code",
      "source": [
        "# Q18.1\n",
        "repeat_elements = np.repeat(arr, 3)"
      ],
      "metadata": {
        "id": "XuXDc18CaOy7"
      },
      "execution_count": 239,
      "outputs": []
    },
    {
      "cell_type": "code",
      "source": [
        "# Q18.2\n",
        "repeat_array = np.tile(arr, 2)"
      ],
      "metadata": {
        "id": "mPoBQqMcalmL"
      },
      "execution_count": 240,
      "outputs": []
    },
    {
      "cell_type": "code",
      "source": [
        "# Q18.3\n",
        "repeat_2d = np.tile(arr2d, (2, 2))"
      ],
      "metadata": {
        "id": "JFnrWK9QapTi"
      },
      "execution_count": 241,
      "outputs": []
    },
    {
      "cell_type": "code",
      "source": [
        "# Q18.4\n",
        "pattern = np.tile([1, 0], 5)"
      ],
      "metadata": {
        "id": "iUBMVcFzauZR"
      },
      "execution_count": 242,
      "outputs": []
    },
    {
      "cell_type": "code",
      "source": [
        "# Q18.5\n",
        "arr = np.array([1, 2, 3])\n",
        "repeat_diff = np.repeat(arr, [1, 2, 3])"
      ],
      "metadata": {
        "id": "mPTgP9-Ba6pD"
      },
      "execution_count": 255,
      "outputs": []
    },
    {
      "cell_type": "code",
      "source": [
        "#Question 19: Array Comparison and Logical Operations"
      ],
      "metadata": {
        "id": "y_WJV6AEb-zJ"
      },
      "execution_count": null,
      "outputs": []
    },
    {
      "cell_type": "code",
      "source": [
        "arr1 = np.array([1, 2, 3, 4, 5])\n",
        "arr2 = np.array([1, 2, 3, 4, 5])\n",
        "arr3 = np.array([1, 2, 3, 4, 6])"
      ],
      "metadata": {
        "id": "AntmdOHxcLV0"
      },
      "execution_count": 259,
      "outputs": []
    },
    {
      "cell_type": "code",
      "source": [
        "# Q19.1: Compare two arrays for equality using np.array_equal()\n",
        "np.array_equal(arr1, arr2)"
      ],
      "metadata": {
        "colab": {
          "base_uri": "https://localhost:8080/"
        },
        "id": "Wn78B1l-cn71",
        "outputId": "69e6b0ce-0694-4fb9-e876-031c1aff22b4"
      },
      "execution_count": 260,
      "outputs": [
        {
          "output_type": "execute_result",
          "data": {
            "text/plain": [
              "True"
            ]
          },
          "metadata": {},
          "execution_count": 260
        }
      ]
    },
    {
      "cell_type": "code",
      "source": [
        "# Q19.2: Check if arrays are close using np.allclose()\n",
        "np.allclose(arr1, arr3)"
      ],
      "metadata": {
        "colab": {
          "base_uri": "https://localhost:8080/"
        },
        "id": "lGx7gmtYcoLm",
        "outputId": "359f8542-32bf-439d-f813-7d5f80ac1168"
      },
      "execution_count": 262,
      "outputs": [
        {
          "output_type": "execute_result",
          "data": {
            "text/plain": [
              "False"
            ]
          },
          "metadata": {},
          "execution_count": 262
        }
      ]
    },
    {
      "cell_type": "code",
      "source": [
        "# Q19.3: Apply logical AND operation between arrays\n",
        "np.logical_and(arr1 > 2, arr2 > 2)"
      ],
      "metadata": {
        "colab": {
          "base_uri": "https://localhost:8080/"
        },
        "id": "NTal8hOMcoT2",
        "outputId": "e9d24aa1-fcd8-4557-dcc4-d94a0d4996d6"
      },
      "execution_count": 263,
      "outputs": [
        {
          "output_type": "execute_result",
          "data": {
            "text/plain": [
              "array([False, False,  True,  True,  True])"
            ]
          },
          "metadata": {},
          "execution_count": 263
        }
      ]
    },
    {
      "cell_type": "code",
      "source": [
        "# Q19.4: Apply logical OR operation between arrays\n",
        "np.logical_or(arr1 > 4, arr3 > 4)"
      ],
      "metadata": {
        "colab": {
          "base_uri": "https://localhost:8080/"
        },
        "id": "cfN6n7JGcobz",
        "outputId": "39e9653f-973f-4f4b-ed45-51f37a375e47"
      },
      "execution_count": 264,
      "outputs": [
        {
          "output_type": "execute_result",
          "data": {
            "text/plain": [
              "array([False, False, False, False,  True])"
            ]
          },
          "metadata": {},
          "execution_count": 264
        }
      ]
    },
    {
      "cell_type": "code",
      "source": [
        "# Q19.5: Apply logical NOT operation to an array\n",
        "np.logical_not(arr1 > 3)"
      ],
      "metadata": {
        "colab": {
          "base_uri": "https://localhost:8080/"
        },
        "id": "IGCzhZGocojq",
        "outputId": "b57bc1f3-ee29-48a2-a8c6-2ed8f1e42675"
      },
      "execution_count": 265,
      "outputs": [
        {
          "output_type": "execute_result",
          "data": {
            "text/plain": [
              "array([ True,  True,  True, False, False])"
            ]
          },
          "metadata": {},
          "execution_count": 265
        }
      ]
    },
    {
      "cell_type": "code",
      "source": [
        "#Question 20: Array Set Operations"
      ],
      "metadata": {
        "id": "4fAUlUQjcorI"
      },
      "execution_count": 267,
      "outputs": []
    },
    {
      "cell_type": "code",
      "source": [
        "arr1 = np.array([1, 2, 3, 4, 5, 5, 6, 2])\n",
        "arr2 = np.array([4, 5, 6, 7, 8])"
      ],
      "metadata": {
        "id": "CIJ1uCMLgWSF"
      },
      "execution_count": 266,
      "outputs": []
    },
    {
      "cell_type": "code",
      "source": [
        "# Q20.1: Find unique elements in an array using np.unique()\n",
        "q20_1 = np.unique(arr1)"
      ],
      "metadata": {
        "id": "obIGjhS_gWjU"
      },
      "execution_count": 268,
      "outputs": []
    },
    {
      "cell_type": "code",
      "source": [
        "# Q20.2: Find the intersection of two arrays using np.intersect1d()\n",
        "np.intersect1d(arr1, arr2)"
      ],
      "metadata": {
        "colab": {
          "base_uri": "https://localhost:8080/"
        },
        "id": "jLzdDPhdgWub",
        "outputId": "7f0f0f9a-8357-4f2b-8275-38b545b678fb"
      },
      "execution_count": 269,
      "outputs": [
        {
          "output_type": "execute_result",
          "data": {
            "text/plain": [
              "array([4, 5, 6])"
            ]
          },
          "metadata": {},
          "execution_count": 269
        }
      ]
    },
    {
      "cell_type": "code",
      "source": [
        "# Q20.3: Find the union of two arrays using np.union1d()\n",
        "q20_3 = np.union1d(arr1, arr2)"
      ],
      "metadata": {
        "id": "BUsoIplLgW6i"
      },
      "execution_count": 270,
      "outputs": []
    },
    {
      "cell_type": "code",
      "source": [
        "# Q20.4: Find elements in first array but not in second using np.setdiff1d()\n",
        "q20_4 = np.setdiff1d(arr1, arr2)"
      ],
      "metadata": {
        "id": "BmhjQ8acgXKC"
      },
      "execution_count": 271,
      "outputs": []
    },
    {
      "cell_type": "code",
      "source": [
        "# Q20.5: Find the symmetric difference between two arrays using np.setxor1d()\n",
        "q20_5 = np.setxor1d(arr1, arr2)\n",
        "print(\"Q20.5:\", q20_5)"
      ],
      "metadata": {
        "colab": {
          "base_uri": "https://localhost:8080/"
        },
        "id": "Tsc_BQMW5s0C",
        "outputId": "34170849-d1d0-4ba9-c7b2-76223a05d34e"
      },
      "execution_count": 272,
      "outputs": [
        {
          "output_type": "stream",
          "name": "stdout",
          "text": [
            "Q20.5: [1 2 3 7 8]\n"
          ]
        }
      ]
    }
  ]
}