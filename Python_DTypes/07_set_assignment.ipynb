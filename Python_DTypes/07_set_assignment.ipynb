{
  "nbformat": 4,
  "nbformat_minor": 0,
  "metadata": {
    "colab": {
      "provenance": [],
      "authorship_tag": "ABX9TyPz6PUzQiZOgXyzaH3flvsK",
      "include_colab_link": true
    },
    "kernelspec": {
      "name": "python3",
      "display_name": "Python 3"
    },
    "language_info": {
      "name": "python"
    }
  },
  "cells": [
    {
      "cell_type": "markdown",
      "metadata": {
        "id": "view-in-github",
        "colab_type": "text"
      },
      "source": [
        "<a href=\"https://colab.research.google.com/github/tharun7781/Data-Science-Edukron/blob/main/07_set_assignment.ipynb\" target=\"_parent\"><img src=\"https://colab.research.google.com/assets/colab-badge.svg\" alt=\"Open In Colab\"/></a>"
      ]
    },
    {
      "cell_type": "code",
      "execution_count": 1,
      "metadata": {
        "colab": {
          "base_uri": "https://localhost:8080/"
        },
        "id": "pcoT7F9ZbUN7",
        "outputId": "e87563f1-95a5-4f22-ed2f-afcac187eadb"
      },
      "outputs": [
        {
          "output_type": "stream",
          "name": "stdout",
          "text": [
            "{1, 2, 3, 4, 5}\n"
          ]
        }
      ],
      "source": [
        "#Question 1: Create a set of first 5 natural numbers\")\n",
        "q1 = {1, 2, 3, 4, 5}\n",
        "print(q1)"
      ]
    },
    {
      "cell_type": "code",
      "source": [
        "#Question 2: Find the length of set {10, 20, 30, 40, 50}\n",
        "q2 = {10, 20, 30, 40, 50}\n",
        "print(len(q2))"
      ],
      "metadata": {
        "colab": {
          "base_uri": "https://localhost:8080/"
        },
        "id": "we5cMggCbnLo",
        "outputId": "ff59e7a2-fa91-44c0-b6c3-9dbb1bc23845"
      },
      "execution_count": 2,
      "outputs": [
        {
          "output_type": "stream",
          "name": "stdout",
          "text": [
            "5\n"
          ]
        }
      ]
    },
    {
      "cell_type": "code",
      "source": [
        "#Question 3: Add element 60 to set {10, 20, 30, 40, 50}\n",
        "q3 = {10, 20, 30, 40, 50}\n",
        "q3.add(60)\n",
        "print(q3)"
      ],
      "metadata": {
        "colab": {
          "base_uri": "https://localhost:8080/"
        },
        "id": "9zPZoJGbbnhH",
        "outputId": "278b0dbf-a510-4c0a-9a7d-041e6114440c"
      },
      "execution_count": 3,
      "outputs": [
        {
          "output_type": "stream",
          "name": "stdout",
          "text": [
            "{50, 20, 40, 10, 60, 30}\n"
          ]
        }
      ]
    },
    {
      "cell_type": "code",
      "source": [
        "#Question 4: Remove element 30 from set {10, 20, 30, 40, 50}\n",
        "q4 = {10, 20, 30, 40, 50}\n",
        "q4.remove(30)\n",
        "print(q4)"
      ],
      "metadata": {
        "colab": {
          "base_uri": "https://localhost:8080/"
        },
        "id": "P6q_ptcZbntN",
        "outputId": "7253a3f0-60f3-4e54-871a-58c5177528db"
      },
      "execution_count": 4,
      "outputs": [
        {
          "output_type": "stream",
          "name": "stdout",
          "text": [
            "{50, 20, 40, 10}\n"
          ]
        }
      ]
    },
    {
      "cell_type": "code",
      "source": [
        "#Question 5: Find maximum element from {12, 45, 23, 67, 34}\n",
        "q5 = {12, 45, 23, 67, 34}\n",
        "print(max(q5))"
      ],
      "metadata": {
        "colab": {
          "base_uri": "https://localhost:8080/"
        },
        "id": "0UE18AYvbn-5",
        "outputId": "42379757-d818-4e75-fa8d-843138c3051d"
      },
      "execution_count": 5,
      "outputs": [
        {
          "output_type": "stream",
          "name": "stdout",
          "text": [
            "67\n"
          ]
        }
      ]
    },
    {
      "cell_type": "code",
      "source": [
        "#Question 6: Find minimum element from {12, 45, 23, 67, 34}\n",
        "q6 = {12, 45, 23, 67, 34}\n",
        "print(min(q6))"
      ],
      "metadata": {
        "colab": {
          "base_uri": "https://localhost:8080/"
        },
        "id": "QErwKsuMboF5",
        "outputId": "29870641-bf50-4027-8977-3a3e65df0446"
      },
      "execution_count": 6,
      "outputs": [
        {
          "output_type": "stream",
          "name": "stdout",
          "text": [
            "12\n"
          ]
        }
      ]
    },
    {
      "cell_type": "code",
      "source": [
        "#Question 7: Find sum of elements in set {5, 10, 15, 20}\n",
        "q7 = {5, 10, 15, 20}\n",
        "print(sum(q7))"
      ],
      "metadata": {
        "colab": {
          "base_uri": "https://localhost:8080/"
        },
        "id": "oI0smu7IboMU",
        "outputId": "ad3b02eb-baf3-485e-d096-b5b6248646a7"
      },
      "execution_count": 7,
      "outputs": [
        {
          "output_type": "stream",
          "name": "stdout",
          "text": [
            "50\n"
          ]
        }
      ]
    },
    {
      "cell_type": "code",
      "source": [
        "#Question 8: Check if 25 exists in set {10, 20, 30, 40, 50}\n",
        "q8 = {10, 20, 30, 40, 50}\n",
        "print(25 in q8)"
      ],
      "metadata": {
        "colab": {
          "base_uri": "https://localhost:8080/"
        },
        "id": "jvaBf1eEboSz",
        "outputId": "e9750a45-17a1-43d3-fe2e-5809fe61414e"
      },
      "execution_count": 8,
      "outputs": [
        {
          "output_type": "stream",
          "name": "stdout",
          "text": [
            "False\n"
          ]
        }
      ]
    },
    {
      "cell_type": "code",
      "source": [
        "#Question 9: Find difference between {1,2,3,4} and {3,4,5,6}\n",
        "q9a = {1, 2, 3, 4}\n",
        "q9b = {3, 4, 5, 6}\n",
        "print(q9a - q9b)"
      ],
      "metadata": {
        "colab": {
          "base_uri": "https://localhost:8080/"
        },
        "id": "83aVhfg4boZX",
        "outputId": "324acdb7-5e2c-44ae-c5fa-ca1b1afa9ae8"
      },
      "execution_count": 9,
      "outputs": [
        {
          "output_type": "stream",
          "name": "stdout",
          "text": [
            "{1, 2}\n"
          ]
        }
      ]
    },
    {
      "cell_type": "code",
      "source": [
        "#Question 10: Find symmetric difference between {1,2,3,4} and {3,4,5,6}\n",
        "q10a = {1, 2, 3, 4}\n",
        "q10b = {3, 4, 5, 6}\n",
        "print(q10a ^ q10b)"
      ],
      "metadata": {
        "colab": {
          "base_uri": "https://localhost:8080/"
        },
        "id": "hpGhspLkcAaA",
        "outputId": "b927b362-488d-41b7-f361-1a0ff562ea19"
      },
      "execution_count": 10,
      "outputs": [
        {
          "output_type": "stream",
          "name": "stdout",
          "text": [
            "{1, 2, 5, 6}\n"
          ]
        }
      ]
    }
  ]
}
