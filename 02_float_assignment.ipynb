{
  "nbformat": 4,
  "nbformat_minor": 0,
  "metadata": {
    "colab": {
      "provenance": [],
      "authorship_tag": "ABX9TyMzTobz34ayru1/5IzSw4Z+",
      "include_colab_link": true
    },
    "kernelspec": {
      "name": "python3",
      "display_name": "Python 3"
    },
    "language_info": {
      "name": "python"
    }
  },
  "cells": [
    {
      "cell_type": "markdown",
      "metadata": {
        "id": "view-in-github",
        "colab_type": "text"
      },
      "source": [
        "<a href=\"https://colab.research.google.com/github/tharun7781/Data-Science-Edukron/blob/main/02_float_assignment.ipynb\" target=\"_parent\"><img src=\"https://colab.research.google.com/assets/colab-badge.svg\" alt=\"Open In Colab\"/></a>"
      ]
    },
    {
      "cell_type": "code",
      "execution_count": 12,
      "metadata": {
        "id": "MRGVJ0eO0lB4"
      },
      "outputs": [],
      "source": [
        "import math"
      ]
    },
    {
      "cell_type": "code",
      "source": [
        "#Question 1:Calculate the average of 3.14, 2.718, 1.618, 0.577\n",
        "nums = [3.14, 2.718, 1.618, 0.577]\n",
        "print(sum(nums) / len(nums))"
      ],
      "metadata": {
        "id": "SPLffECR1U6c",
        "colab": {
          "base_uri": "https://localhost:8080/"
        },
        "outputId": "eb0e070f-e49f-4a69-dc86-47bf614f06c0"
      },
      "execution_count": 13,
      "outputs": [
        {
          "output_type": "stream",
          "name": "stdout",
          "text": [
            "2.01325\n"
          ]
        }
      ]
    },
    {
      "cell_type": "code",
      "source": [
        "#Question 2: Convert 98.6 Fahrenheit to Celsius\n",
        "F = 98.6\n",
        "C = (F - 32) * 5/9\n",
        "print(\"Celsius:\", round(C, 2))"
      ],
      "metadata": {
        "colab": {
          "base_uri": "https://localhost:8080/"
        },
        "id": "6OlUOzFV1zS7",
        "outputId": "10dd0b7a-419e-4c2b-f8cc-c578e6bc6624"
      },
      "execution_count": 14,
      "outputs": [
        {
          "output_type": "stream",
          "name": "stdout",
          "text": [
            "Celsius: 37.0\n"
          ]
        }
      ]
    },
    {
      "cell_type": "code",
      "source": [
        "#Question 3: Calculate compound interest on $1000 at 5.5% for 3 years\n",
        "P, R, T = 1000, 5.5/100, 3\n",
        "A = P * (1 + R) ** T\n",
        "CI = A - P\n",
        "print(\"Compound Interest:\",round(CI, 2))"
      ],
      "metadata": {
        "colab": {
          "base_uri": "https://localhost:8080/"
        },
        "id": "pNDTnBbR2N1D",
        "outputId": "4b140a1d-4eab-4594-e779-00ea4776739c"
      },
      "execution_count": 15,
      "outputs": [
        {
          "output_type": "stream",
          "name": "stdout",
          "text": [
            "Compound Interest: 174.24\n"
          ]
        }
      ]
    },
    {
      "cell_type": "code",
      "source": [
        "#Question 4: Find the hypotenuse of a right triangle with sides 3.5 and 4.2\n",
        "a, b = 3.5, 4.2\n",
        "hypotenuse = math.hypot(a, b)   # shortcut for sqrt(a^2 + b^2)\n",
        "print(\"Hypotenuse:\", round(hypotenuse, 2))"
      ],
      "metadata": {
        "colab": {
          "base_uri": "https://localhost:8080/"
        },
        "id": "uEKg2R8t2hNh",
        "outputId": "36551303-bf7e-4c29-a535-57d60aeebbeb"
      },
      "execution_count": 16,
      "outputs": [
        {
          "output_type": "stream",
          "name": "stdout",
          "text": [
            "Hypotenuse: 5.47\n"
          ]
        }
      ]
    },
    {
      "cell_type": "code",
      "source": [
        "#Question 5: Calculate the volume of a sphere with radius 7.8\n",
        "r = 7.8\n",
        "volume = (4/3) * math.pi * r**3\n",
        "print(\"Volume:\", round(volume, 2))"
      ],
      "metadata": {
        "colab": {
          "base_uri": "https://localhost:8080/"
        },
        "id": "OUlSzvFK3DEy",
        "outputId": "a1851bf4-6f20-40f1-aec3-39d61aa891a1"
      },
      "execution_count": 17,
      "outputs": [
        {
          "output_type": "stream",
          "name": "stdout",
          "text": [
            "Volume: 1987.8\n"
          ]
        }
      ]
    },
    {
      "cell_type": "code",
      "source": [
        "#Question 6: Round 3.14159 to 3 decimal places\n",
        "print(\"Rounded:\", round(3.14159, 3))"
      ],
      "metadata": {
        "colab": {
          "base_uri": "https://localhost:8080/"
        },
        "id": "iDJITBJc3LFy",
        "outputId": "649e409e-49fd-4927-b649-d57b1bffacc1"
      },
      "execution_count": 18,
      "outputs": [
        {
          "output_type": "stream",
          "name": "stdout",
          "text": [
            "Rounded: 3.142\n"
          ]
        }
      ]
    },
    {
      "cell_type": "code",
      "source": [
        "#Question 7: Calculate the percentage: 45 out of 67\n",
        "percentage = (45 / 67) * 100\n",
        "print(\"Percentage:\", round(percentage, 2), \"%\")"
      ],
      "metadata": {
        "colab": {
          "base_uri": "https://localhost:8080/"
        },
        "id": "QHfeu4SN3QhC",
        "outputId": "dbe3dda8-46cd-4ffe-f29c-1f4497a7bd13"
      },
      "execution_count": 19,
      "outputs": [
        {
          "output_type": "stream",
          "name": "stdout",
          "text": [
            "Percentage: 67.16 %\n"
          ]
        }
      ]
    },
    {
      "cell_type": "code",
      "source": [
        "#Question 8: Find the square root of 23.456\n",
        "print(\"Square root:\", round(math.sqrt(23.456), 3))"
      ],
      "metadata": {
        "colab": {
          "base_uri": "https://localhost:8080/"
        },
        "id": "JmEVNtaS3VxN",
        "outputId": "08179b36-7a6e-4305-e6b3-786e781025f5"
      },
      "execution_count": 20,
      "outputs": [
        {
          "output_type": "stream",
          "name": "stdout",
          "text": [
            "Square root: 4.843\n"
          ]
        }
      ]
    },
    {
      "cell_type": "code",
      "source": [
        "#Question 9: Calculate simple interest: Principal=2500, Rate=6.5%, Time=2.5 years\n",
        "P, R, T = 2500, 6.5/100, 2.5\n",
        "SI = P * R * T\n",
        "print(\"Simple Interest:\", round(SI, 2))"
      ],
      "metadata": {
        "colab": {
          "base_uri": "https://localhost:8080/"
        },
        "id": "QwC7IUYp3bMW",
        "outputId": "a018e40b-f669-4356-f0db-ded7c95975b7"
      },
      "execution_count": 21,
      "outputs": [
        {
          "output_type": "stream",
          "name": "stdout",
          "text": [
            "Simple Interest: 406.25\n"
          ]
        }
      ]
    },
    {
      "cell_type": "code",
      "source": [
        "#Question 10: Convert 45.7 degrees to radians\n",
        "deg = 45.7\n",
        "radians = math.radians(deg)\n",
        "print(\"Radians:\", round(radians, 4))"
      ],
      "metadata": {
        "colab": {
          "base_uri": "https://localhost:8080/"
        },
        "id": "qSElaFXR3gEM",
        "outputId": "d633f771-53eb-4c71-8ab7-a2c33d859de3"
      },
      "execution_count": 22,
      "outputs": [
        {
          "output_type": "stream",
          "name": "stdout",
          "text": [
            "Radians: 0.7976\n"
          ]
        }
      ]
    }
  ]
}