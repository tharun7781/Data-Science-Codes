{
  "nbformat": 4,
  "nbformat_minor": 0,
  "metadata": {
    "colab": {
      "provenance": [],
      "authorship_tag": "ABX9TyOD7w1IPMYzTBy+Y8k7tW0+",
      "include_colab_link": true
    },
    "kernelspec": {
      "name": "python3",
      "display_name": "Python 3"
    },
    "language_info": {
      "name": "python"
    }
  },
  "cells": [
    {
      "cell_type": "markdown",
      "metadata": {
        "id": "view-in-github",
        "colab_type": "text"
      },
      "source": [
        "<a href=\"https://colab.research.google.com/github/tharun7781/Data-Science-Codes/blob/main/Assignment.ipynb\" target=\"_parent\"><img src=\"https://colab.research.google.com/assets/colab-badge.svg\" alt=\"Open In Colab\"/></a>"
      ]
    },
    {
      "cell_type": "code",
      "execution_count": 16,
      "metadata": {
        "colab": {
          "base_uri": "https://localhost:8080/",
          "height": 1000
        },
        "id": "8d9t6WdsZa2c",
        "outputId": "0d88a706-0d02-4b6f-e204-0913936ff7ab"
      },
      "outputs": [
        {
          "output_type": "execute_result",
          "data": {
            "text/plain": [
              "      Row ID        Order ID Order Date  Ship Date       Ship Mode  \\\n",
              "0          1  CA-2016-152156 2016-11-08 2016-11-11    Second Class   \n",
              "1          2  CA-2016-152156 2016-11-08 2016-11-11    Second Class   \n",
              "2          3  CA-2016-138688 2016-06-12 2016-06-16    Second Class   \n",
              "3          4  US-2015-108966 2015-10-11 2015-10-18  Standard Class   \n",
              "4          5  US-2015-108966 2015-10-11 2015-10-18  Standard Class   \n",
              "...      ...             ...        ...        ...             ...   \n",
              "9989    9990  CA-2014-110422 2014-01-21 2014-01-23    Second Class   \n",
              "9990    9991  CA-2017-121258 2017-02-26 2017-03-03  Standard Class   \n",
              "9991    9992  CA-2017-121258 2017-02-26 2017-03-03  Standard Class   \n",
              "9992    9993  CA-2017-121258 2017-02-26 2017-03-03  Standard Class   \n",
              "9993    9994  CA-2017-119914 2017-05-04 2017-05-09    Second Class   \n",
              "\n",
              "     Customer ID     Customer Name    Segment        Country             City  \\\n",
              "0       CG-12520       Claire Gute   Consumer  United States        Henderson   \n",
              "1       CG-12520       Claire Gute   Consumer  United States        Henderson   \n",
              "2       DV-13045   Darrin Van Huff  Corporate  United States      Los Angeles   \n",
              "3       SO-20335    Sean O'Donnell   Consumer  United States  Fort Lauderdale   \n",
              "4       SO-20335    Sean O'Donnell   Consumer  United States  Fort Lauderdale   \n",
              "...          ...               ...        ...            ...              ...   \n",
              "9989    TB-21400  Tom Boeckenhauer   Consumer  United States            Miami   \n",
              "9990    DB-13060       Dave Brooks   Consumer  United States       Costa Mesa   \n",
              "9991    DB-13060       Dave Brooks   Consumer  United States       Costa Mesa   \n",
              "9992    DB-13060       Dave Brooks   Consumer  United States       Costa Mesa   \n",
              "9993    CC-12220      Chris Cortes   Consumer  United States      Westminster   \n",
              "\n",
              "      ... Postal Code  Region       Product ID         Category Sub-Category  \\\n",
              "0     ...       42420   South  FUR-BO-10001798        Furniture    Bookcases   \n",
              "1     ...       42420   South  FUR-CH-10000454        Furniture       Chairs   \n",
              "2     ...       90036    West  OFF-LA-10000240  Office Supplies       Labels   \n",
              "3     ...       33311   South  FUR-TA-10000577        Furniture       Tables   \n",
              "4     ...       33311   South  OFF-ST-10000760  Office Supplies      Storage   \n",
              "...   ...         ...     ...              ...              ...          ...   \n",
              "9989  ...       33180   South  FUR-FU-10001889        Furniture  Furnishings   \n",
              "9990  ...       92627    West  FUR-FU-10000747        Furniture  Furnishings   \n",
              "9991  ...       92627    West  TEC-PH-10003645       Technology       Phones   \n",
              "9992  ...       92627    West  OFF-PA-10004041  Office Supplies        Paper   \n",
              "9993  ...       92683    West  OFF-AP-10002684  Office Supplies   Appliances   \n",
              "\n",
              "                                           Product Name     Sales  Quantity  \\\n",
              "0                     Bush Somerset Collection Bookcase  261.9600         2   \n",
              "1     Hon Deluxe Fabric Upholstered Stacking Chairs,...  731.9400         3   \n",
              "2     Self-Adhesive Address Labels for Typewriters b...   14.6200         2   \n",
              "3         Bretford CR4500 Series Slim Rectangular Table  957.5775         5   \n",
              "4                        Eldon Fold 'N Roll Cart System   22.3680         2   \n",
              "...                                                 ...       ...       ...   \n",
              "9989                             Ultra Door Pull Handle   25.2480         3   \n",
              "9990  Tenex B1-RE Series Chair Mats for Low Pile Car...   91.9600         2   \n",
              "9991                              Aastra 57i VoIP phone  258.5760         2   \n",
              "9992  It's Hot Message Books with Stickers, 2 3/4\" x 5\"   29.6000         4   \n",
              "9993  Acco 7-Outlet Masterpiece Power Center, Wihtou...  243.1600         2   \n",
              "\n",
              "      Discount    Profit  \n",
              "0         0.00   41.9136  \n",
              "1         0.00  219.5820  \n",
              "2         0.00    6.8714  \n",
              "3         0.45 -383.0310  \n",
              "4         0.20    2.5164  \n",
              "...        ...       ...  \n",
              "9989      0.20    4.1028  \n",
              "9990      0.00   15.6332  \n",
              "9991      0.20   19.3932  \n",
              "9992      0.00   13.3200  \n",
              "9993      0.00   72.9480  \n",
              "\n",
              "[9994 rows x 21 columns]"
            ],
            "text/html": [
              "\n",
              "  <div id=\"df-74f025ad-7d92-44e7-b878-b4cb437f7ad5\" class=\"colab-df-container\">\n",
              "    <div>\n",
              "<style scoped>\n",
              "    .dataframe tbody tr th:only-of-type {\n",
              "        vertical-align: middle;\n",
              "    }\n",
              "\n",
              "    .dataframe tbody tr th {\n",
              "        vertical-align: top;\n",
              "    }\n",
              "\n",
              "    .dataframe thead th {\n",
              "        text-align: right;\n",
              "    }\n",
              "</style>\n",
              "<table border=\"1\" class=\"dataframe\">\n",
              "  <thead>\n",
              "    <tr style=\"text-align: right;\">\n",
              "      <th></th>\n",
              "      <th>Row ID</th>\n",
              "      <th>Order ID</th>\n",
              "      <th>Order Date</th>\n",
              "      <th>Ship Date</th>\n",
              "      <th>Ship Mode</th>\n",
              "      <th>Customer ID</th>\n",
              "      <th>Customer Name</th>\n",
              "      <th>Segment</th>\n",
              "      <th>Country</th>\n",
              "      <th>City</th>\n",
              "      <th>...</th>\n",
              "      <th>Postal Code</th>\n",
              "      <th>Region</th>\n",
              "      <th>Product ID</th>\n",
              "      <th>Category</th>\n",
              "      <th>Sub-Category</th>\n",
              "      <th>Product Name</th>\n",
              "      <th>Sales</th>\n",
              "      <th>Quantity</th>\n",
              "      <th>Discount</th>\n",
              "      <th>Profit</th>\n",
              "    </tr>\n",
              "  </thead>\n",
              "  <tbody>\n",
              "    <tr>\n",
              "      <th>0</th>\n",
              "      <td>1</td>\n",
              "      <td>CA-2016-152156</td>\n",
              "      <td>2016-11-08</td>\n",
              "      <td>2016-11-11</td>\n",
              "      <td>Second Class</td>\n",
              "      <td>CG-12520</td>\n",
              "      <td>Claire Gute</td>\n",
              "      <td>Consumer</td>\n",
              "      <td>United States</td>\n",
              "      <td>Henderson</td>\n",
              "      <td>...</td>\n",
              "      <td>42420</td>\n",
              "      <td>South</td>\n",
              "      <td>FUR-BO-10001798</td>\n",
              "      <td>Furniture</td>\n",
              "      <td>Bookcases</td>\n",
              "      <td>Bush Somerset Collection Bookcase</td>\n",
              "      <td>261.9600</td>\n",
              "      <td>2</td>\n",
              "      <td>0.00</td>\n",
              "      <td>41.9136</td>\n",
              "    </tr>\n",
              "    <tr>\n",
              "      <th>1</th>\n",
              "      <td>2</td>\n",
              "      <td>CA-2016-152156</td>\n",
              "      <td>2016-11-08</td>\n",
              "      <td>2016-11-11</td>\n",
              "      <td>Second Class</td>\n",
              "      <td>CG-12520</td>\n",
              "      <td>Claire Gute</td>\n",
              "      <td>Consumer</td>\n",
              "      <td>United States</td>\n",
              "      <td>Henderson</td>\n",
              "      <td>...</td>\n",
              "      <td>42420</td>\n",
              "      <td>South</td>\n",
              "      <td>FUR-CH-10000454</td>\n",
              "      <td>Furniture</td>\n",
              "      <td>Chairs</td>\n",
              "      <td>Hon Deluxe Fabric Upholstered Stacking Chairs,...</td>\n",
              "      <td>731.9400</td>\n",
              "      <td>3</td>\n",
              "      <td>0.00</td>\n",
              "      <td>219.5820</td>\n",
              "    </tr>\n",
              "    <tr>\n",
              "      <th>2</th>\n",
              "      <td>3</td>\n",
              "      <td>CA-2016-138688</td>\n",
              "      <td>2016-06-12</td>\n",
              "      <td>2016-06-16</td>\n",
              "      <td>Second Class</td>\n",
              "      <td>DV-13045</td>\n",
              "      <td>Darrin Van Huff</td>\n",
              "      <td>Corporate</td>\n",
              "      <td>United States</td>\n",
              "      <td>Los Angeles</td>\n",
              "      <td>...</td>\n",
              "      <td>90036</td>\n",
              "      <td>West</td>\n",
              "      <td>OFF-LA-10000240</td>\n",
              "      <td>Office Supplies</td>\n",
              "      <td>Labels</td>\n",
              "      <td>Self-Adhesive Address Labels for Typewriters b...</td>\n",
              "      <td>14.6200</td>\n",
              "      <td>2</td>\n",
              "      <td>0.00</td>\n",
              "      <td>6.8714</td>\n",
              "    </tr>\n",
              "    <tr>\n",
              "      <th>3</th>\n",
              "      <td>4</td>\n",
              "      <td>US-2015-108966</td>\n",
              "      <td>2015-10-11</td>\n",
              "      <td>2015-10-18</td>\n",
              "      <td>Standard Class</td>\n",
              "      <td>SO-20335</td>\n",
              "      <td>Sean O'Donnell</td>\n",
              "      <td>Consumer</td>\n",
              "      <td>United States</td>\n",
              "      <td>Fort Lauderdale</td>\n",
              "      <td>...</td>\n",
              "      <td>33311</td>\n",
              "      <td>South</td>\n",
              "      <td>FUR-TA-10000577</td>\n",
              "      <td>Furniture</td>\n",
              "      <td>Tables</td>\n",
              "      <td>Bretford CR4500 Series Slim Rectangular Table</td>\n",
              "      <td>957.5775</td>\n",
              "      <td>5</td>\n",
              "      <td>0.45</td>\n",
              "      <td>-383.0310</td>\n",
              "    </tr>\n",
              "    <tr>\n",
              "      <th>4</th>\n",
              "      <td>5</td>\n",
              "      <td>US-2015-108966</td>\n",
              "      <td>2015-10-11</td>\n",
              "      <td>2015-10-18</td>\n",
              "      <td>Standard Class</td>\n",
              "      <td>SO-20335</td>\n",
              "      <td>Sean O'Donnell</td>\n",
              "      <td>Consumer</td>\n",
              "      <td>United States</td>\n",
              "      <td>Fort Lauderdale</td>\n",
              "      <td>...</td>\n",
              "      <td>33311</td>\n",
              "      <td>South</td>\n",
              "      <td>OFF-ST-10000760</td>\n",
              "      <td>Office Supplies</td>\n",
              "      <td>Storage</td>\n",
              "      <td>Eldon Fold 'N Roll Cart System</td>\n",
              "      <td>22.3680</td>\n",
              "      <td>2</td>\n",
              "      <td>0.20</td>\n",
              "      <td>2.5164</td>\n",
              "    </tr>\n",
              "    <tr>\n",
              "      <th>...</th>\n",
              "      <td>...</td>\n",
              "      <td>...</td>\n",
              "      <td>...</td>\n",
              "      <td>...</td>\n",
              "      <td>...</td>\n",
              "      <td>...</td>\n",
              "      <td>...</td>\n",
              "      <td>...</td>\n",
              "      <td>...</td>\n",
              "      <td>...</td>\n",
              "      <td>...</td>\n",
              "      <td>...</td>\n",
              "      <td>...</td>\n",
              "      <td>...</td>\n",
              "      <td>...</td>\n",
              "      <td>...</td>\n",
              "      <td>...</td>\n",
              "      <td>...</td>\n",
              "      <td>...</td>\n",
              "      <td>...</td>\n",
              "      <td>...</td>\n",
              "    </tr>\n",
              "    <tr>\n",
              "      <th>9989</th>\n",
              "      <td>9990</td>\n",
              "      <td>CA-2014-110422</td>\n",
              "      <td>2014-01-21</td>\n",
              "      <td>2014-01-23</td>\n",
              "      <td>Second Class</td>\n",
              "      <td>TB-21400</td>\n",
              "      <td>Tom Boeckenhauer</td>\n",
              "      <td>Consumer</td>\n",
              "      <td>United States</td>\n",
              "      <td>Miami</td>\n",
              "      <td>...</td>\n",
              "      <td>33180</td>\n",
              "      <td>South</td>\n",
              "      <td>FUR-FU-10001889</td>\n",
              "      <td>Furniture</td>\n",
              "      <td>Furnishings</td>\n",
              "      <td>Ultra Door Pull Handle</td>\n",
              "      <td>25.2480</td>\n",
              "      <td>3</td>\n",
              "      <td>0.20</td>\n",
              "      <td>4.1028</td>\n",
              "    </tr>\n",
              "    <tr>\n",
              "      <th>9990</th>\n",
              "      <td>9991</td>\n",
              "      <td>CA-2017-121258</td>\n",
              "      <td>2017-02-26</td>\n",
              "      <td>2017-03-03</td>\n",
              "      <td>Standard Class</td>\n",
              "      <td>DB-13060</td>\n",
              "      <td>Dave Brooks</td>\n",
              "      <td>Consumer</td>\n",
              "      <td>United States</td>\n",
              "      <td>Costa Mesa</td>\n",
              "      <td>...</td>\n",
              "      <td>92627</td>\n",
              "      <td>West</td>\n",
              "      <td>FUR-FU-10000747</td>\n",
              "      <td>Furniture</td>\n",
              "      <td>Furnishings</td>\n",
              "      <td>Tenex B1-RE Series Chair Mats for Low Pile Car...</td>\n",
              "      <td>91.9600</td>\n",
              "      <td>2</td>\n",
              "      <td>0.00</td>\n",
              "      <td>15.6332</td>\n",
              "    </tr>\n",
              "    <tr>\n",
              "      <th>9991</th>\n",
              "      <td>9992</td>\n",
              "      <td>CA-2017-121258</td>\n",
              "      <td>2017-02-26</td>\n",
              "      <td>2017-03-03</td>\n",
              "      <td>Standard Class</td>\n",
              "      <td>DB-13060</td>\n",
              "      <td>Dave Brooks</td>\n",
              "      <td>Consumer</td>\n",
              "      <td>United States</td>\n",
              "      <td>Costa Mesa</td>\n",
              "      <td>...</td>\n",
              "      <td>92627</td>\n",
              "      <td>West</td>\n",
              "      <td>TEC-PH-10003645</td>\n",
              "      <td>Technology</td>\n",
              "      <td>Phones</td>\n",
              "      <td>Aastra 57i VoIP phone</td>\n",
              "      <td>258.5760</td>\n",
              "      <td>2</td>\n",
              "      <td>0.20</td>\n",
              "      <td>19.3932</td>\n",
              "    </tr>\n",
              "    <tr>\n",
              "      <th>9992</th>\n",
              "      <td>9993</td>\n",
              "      <td>CA-2017-121258</td>\n",
              "      <td>2017-02-26</td>\n",
              "      <td>2017-03-03</td>\n",
              "      <td>Standard Class</td>\n",
              "      <td>DB-13060</td>\n",
              "      <td>Dave Brooks</td>\n",
              "      <td>Consumer</td>\n",
              "      <td>United States</td>\n",
              "      <td>Costa Mesa</td>\n",
              "      <td>...</td>\n",
              "      <td>92627</td>\n",
              "      <td>West</td>\n",
              "      <td>OFF-PA-10004041</td>\n",
              "      <td>Office Supplies</td>\n",
              "      <td>Paper</td>\n",
              "      <td>It's Hot Message Books with Stickers, 2 3/4\" x 5\"</td>\n",
              "      <td>29.6000</td>\n",
              "      <td>4</td>\n",
              "      <td>0.00</td>\n",
              "      <td>13.3200</td>\n",
              "    </tr>\n",
              "    <tr>\n",
              "      <th>9993</th>\n",
              "      <td>9994</td>\n",
              "      <td>CA-2017-119914</td>\n",
              "      <td>2017-05-04</td>\n",
              "      <td>2017-05-09</td>\n",
              "      <td>Second Class</td>\n",
              "      <td>CC-12220</td>\n",
              "      <td>Chris Cortes</td>\n",
              "      <td>Consumer</td>\n",
              "      <td>United States</td>\n",
              "      <td>Westminster</td>\n",
              "      <td>...</td>\n",
              "      <td>92683</td>\n",
              "      <td>West</td>\n",
              "      <td>OFF-AP-10002684</td>\n",
              "      <td>Office Supplies</td>\n",
              "      <td>Appliances</td>\n",
              "      <td>Acco 7-Outlet Masterpiece Power Center, Wihtou...</td>\n",
              "      <td>243.1600</td>\n",
              "      <td>2</td>\n",
              "      <td>0.00</td>\n",
              "      <td>72.9480</td>\n",
              "    </tr>\n",
              "  </tbody>\n",
              "</table>\n",
              "<p>9994 rows × 21 columns</p>\n",
              "</div>\n",
              "    <div class=\"colab-df-buttons\">\n",
              "\n",
              "  <div class=\"colab-df-container\">\n",
              "    <button class=\"colab-df-convert\" onclick=\"convertToInteractive('df-74f025ad-7d92-44e7-b878-b4cb437f7ad5')\"\n",
              "            title=\"Convert this dataframe to an interactive table.\"\n",
              "            style=\"display:none;\">\n",
              "\n",
              "  <svg xmlns=\"http://www.w3.org/2000/svg\" height=\"24px\" viewBox=\"0 -960 960 960\">\n",
              "    <path d=\"M120-120v-720h720v720H120Zm60-500h600v-160H180v160Zm220 220h160v-160H400v160Zm0 220h160v-160H400v160ZM180-400h160v-160H180v160Zm440 0h160v-160H620v160ZM180-180h160v-160H180v160Zm440 0h160v-160H620v160Z\"/>\n",
              "  </svg>\n",
              "    </button>\n",
              "\n",
              "  <style>\n",
              "    .colab-df-container {\n",
              "      display:flex;\n",
              "      gap: 12px;\n",
              "    }\n",
              "\n",
              "    .colab-df-convert {\n",
              "      background-color: #E8F0FE;\n",
              "      border: none;\n",
              "      border-radius: 50%;\n",
              "      cursor: pointer;\n",
              "      display: none;\n",
              "      fill: #1967D2;\n",
              "      height: 32px;\n",
              "      padding: 0 0 0 0;\n",
              "      width: 32px;\n",
              "    }\n",
              "\n",
              "    .colab-df-convert:hover {\n",
              "      background-color: #E2EBFA;\n",
              "      box-shadow: 0px 1px 2px rgba(60, 64, 67, 0.3), 0px 1px 3px 1px rgba(60, 64, 67, 0.15);\n",
              "      fill: #174EA6;\n",
              "    }\n",
              "\n",
              "    .colab-df-buttons div {\n",
              "      margin-bottom: 4px;\n",
              "    }\n",
              "\n",
              "    [theme=dark] .colab-df-convert {\n",
              "      background-color: #3B4455;\n",
              "      fill: #D2E3FC;\n",
              "    }\n",
              "\n",
              "    [theme=dark] .colab-df-convert:hover {\n",
              "      background-color: #434B5C;\n",
              "      box-shadow: 0px 1px 3px 1px rgba(0, 0, 0, 0.15);\n",
              "      filter: drop-shadow(0px 1px 2px rgba(0, 0, 0, 0.3));\n",
              "      fill: #FFFFFF;\n",
              "    }\n",
              "  </style>\n",
              "\n",
              "    <script>\n",
              "      const buttonEl =\n",
              "        document.querySelector('#df-74f025ad-7d92-44e7-b878-b4cb437f7ad5 button.colab-df-convert');\n",
              "      buttonEl.style.display =\n",
              "        google.colab.kernel.accessAllowed ? 'block' : 'none';\n",
              "\n",
              "      async function convertToInteractive(key) {\n",
              "        const element = document.querySelector('#df-74f025ad-7d92-44e7-b878-b4cb437f7ad5');\n",
              "        const dataTable =\n",
              "          await google.colab.kernel.invokeFunction('convertToInteractive',\n",
              "                                                    [key], {});\n",
              "        if (!dataTable) return;\n",
              "\n",
              "        const docLinkHtml = 'Like what you see? Visit the ' +\n",
              "          '<a target=\"_blank\" href=https://colab.research.google.com/notebooks/data_table.ipynb>data table notebook</a>'\n",
              "          + ' to learn more about interactive tables.';\n",
              "        element.innerHTML = '';\n",
              "        dataTable['output_type'] = 'display_data';\n",
              "        await google.colab.output.renderOutput(dataTable, element);\n",
              "        const docLink = document.createElement('div');\n",
              "        docLink.innerHTML = docLinkHtml;\n",
              "        element.appendChild(docLink);\n",
              "      }\n",
              "    </script>\n",
              "  </div>\n",
              "\n",
              "\n",
              "    <div id=\"df-f4eeae3e-31f6-4096-91a2-666699e10d5f\">\n",
              "      <button class=\"colab-df-quickchart\" onclick=\"quickchart('df-f4eeae3e-31f6-4096-91a2-666699e10d5f')\"\n",
              "                title=\"Suggest charts\"\n",
              "                style=\"display:none;\">\n",
              "\n",
              "<svg xmlns=\"http://www.w3.org/2000/svg\" height=\"24px\"viewBox=\"0 0 24 24\"\n",
              "     width=\"24px\">\n",
              "    <g>\n",
              "        <path d=\"M19 3H5c-1.1 0-2 .9-2 2v14c0 1.1.9 2 2 2h14c1.1 0 2-.9 2-2V5c0-1.1-.9-2-2-2zM9 17H7v-7h2v7zm4 0h-2V7h2v10zm4 0h-2v-4h2v4z\"/>\n",
              "    </g>\n",
              "</svg>\n",
              "      </button>\n",
              "\n",
              "<style>\n",
              "  .colab-df-quickchart {\n",
              "      --bg-color: #E8F0FE;\n",
              "      --fill-color: #1967D2;\n",
              "      --hover-bg-color: #E2EBFA;\n",
              "      --hover-fill-color: #174EA6;\n",
              "      --disabled-fill-color: #AAA;\n",
              "      --disabled-bg-color: #DDD;\n",
              "  }\n",
              "\n",
              "  [theme=dark] .colab-df-quickchart {\n",
              "      --bg-color: #3B4455;\n",
              "      --fill-color: #D2E3FC;\n",
              "      --hover-bg-color: #434B5C;\n",
              "      --hover-fill-color: #FFFFFF;\n",
              "      --disabled-bg-color: #3B4455;\n",
              "      --disabled-fill-color: #666;\n",
              "  }\n",
              "\n",
              "  .colab-df-quickchart {\n",
              "    background-color: var(--bg-color);\n",
              "    border: none;\n",
              "    border-radius: 50%;\n",
              "    cursor: pointer;\n",
              "    display: none;\n",
              "    fill: var(--fill-color);\n",
              "    height: 32px;\n",
              "    padding: 0;\n",
              "    width: 32px;\n",
              "  }\n",
              "\n",
              "  .colab-df-quickchart:hover {\n",
              "    background-color: var(--hover-bg-color);\n",
              "    box-shadow: 0 1px 2px rgba(60, 64, 67, 0.3), 0 1px 3px 1px rgba(60, 64, 67, 0.15);\n",
              "    fill: var(--button-hover-fill-color);\n",
              "  }\n",
              "\n",
              "  .colab-df-quickchart-complete:disabled,\n",
              "  .colab-df-quickchart-complete:disabled:hover {\n",
              "    background-color: var(--disabled-bg-color);\n",
              "    fill: var(--disabled-fill-color);\n",
              "    box-shadow: none;\n",
              "  }\n",
              "\n",
              "  .colab-df-spinner {\n",
              "    border: 2px solid var(--fill-color);\n",
              "    border-color: transparent;\n",
              "    border-bottom-color: var(--fill-color);\n",
              "    animation:\n",
              "      spin 1s steps(1) infinite;\n",
              "  }\n",
              "\n",
              "  @keyframes spin {\n",
              "    0% {\n",
              "      border-color: transparent;\n",
              "      border-bottom-color: var(--fill-color);\n",
              "      border-left-color: var(--fill-color);\n",
              "    }\n",
              "    20% {\n",
              "      border-color: transparent;\n",
              "      border-left-color: var(--fill-color);\n",
              "      border-top-color: var(--fill-color);\n",
              "    }\n",
              "    30% {\n",
              "      border-color: transparent;\n",
              "      border-left-color: var(--fill-color);\n",
              "      border-top-color: var(--fill-color);\n",
              "      border-right-color: var(--fill-color);\n",
              "    }\n",
              "    40% {\n",
              "      border-color: transparent;\n",
              "      border-right-color: var(--fill-color);\n",
              "      border-top-color: var(--fill-color);\n",
              "    }\n",
              "    60% {\n",
              "      border-color: transparent;\n",
              "      border-right-color: var(--fill-color);\n",
              "    }\n",
              "    80% {\n",
              "      border-color: transparent;\n",
              "      border-right-color: var(--fill-color);\n",
              "      border-bottom-color: var(--fill-color);\n",
              "    }\n",
              "    90% {\n",
              "      border-color: transparent;\n",
              "      border-bottom-color: var(--fill-color);\n",
              "    }\n",
              "  }\n",
              "</style>\n",
              "\n",
              "      <script>\n",
              "        async function quickchart(key) {\n",
              "          const quickchartButtonEl =\n",
              "            document.querySelector('#' + key + ' button');\n",
              "          quickchartButtonEl.disabled = true;  // To prevent multiple clicks.\n",
              "          quickchartButtonEl.classList.add('colab-df-spinner');\n",
              "          try {\n",
              "            const charts = await google.colab.kernel.invokeFunction(\n",
              "                'suggestCharts', [key], {});\n",
              "          } catch (error) {\n",
              "            console.error('Error during call to suggestCharts:', error);\n",
              "          }\n",
              "          quickchartButtonEl.classList.remove('colab-df-spinner');\n",
              "          quickchartButtonEl.classList.add('colab-df-quickchart-complete');\n",
              "        }\n",
              "        (() => {\n",
              "          let quickchartButtonEl =\n",
              "            document.querySelector('#df-f4eeae3e-31f6-4096-91a2-666699e10d5f button');\n",
              "          quickchartButtonEl.style.display =\n",
              "            google.colab.kernel.accessAllowed ? 'block' : 'none';\n",
              "        })();\n",
              "      </script>\n",
              "    </div>\n",
              "\n",
              "  <div id=\"id_0ded9d1f-9eca-4872-bd97-96766b3bd2aa\">\n",
              "    <style>\n",
              "      .colab-df-generate {\n",
              "        background-color: #E8F0FE;\n",
              "        border: none;\n",
              "        border-radius: 50%;\n",
              "        cursor: pointer;\n",
              "        display: none;\n",
              "        fill: #1967D2;\n",
              "        height: 32px;\n",
              "        padding: 0 0 0 0;\n",
              "        width: 32px;\n",
              "      }\n",
              "\n",
              "      .colab-df-generate:hover {\n",
              "        background-color: #E2EBFA;\n",
              "        box-shadow: 0px 1px 2px rgba(60, 64, 67, 0.3), 0px 1px 3px 1px rgba(60, 64, 67, 0.15);\n",
              "        fill: #174EA6;\n",
              "      }\n",
              "\n",
              "      [theme=dark] .colab-df-generate {\n",
              "        background-color: #3B4455;\n",
              "        fill: #D2E3FC;\n",
              "      }\n",
              "\n",
              "      [theme=dark] .colab-df-generate:hover {\n",
              "        background-color: #434B5C;\n",
              "        box-shadow: 0px 1px 3px 1px rgba(0, 0, 0, 0.15);\n",
              "        filter: drop-shadow(0px 1px 2px rgba(0, 0, 0, 0.3));\n",
              "        fill: #FFFFFF;\n",
              "      }\n",
              "    </style>\n",
              "    <button class=\"colab-df-generate\" onclick=\"generateWithVariable('df')\"\n",
              "            title=\"Generate code using this dataframe.\"\n",
              "            style=\"display:none;\">\n",
              "\n",
              "  <svg xmlns=\"http://www.w3.org/2000/svg\" height=\"24px\"viewBox=\"0 0 24 24\"\n",
              "       width=\"24px\">\n",
              "    <path d=\"M7,19H8.4L18.45,9,17,7.55,7,17.6ZM5,21V16.75L18.45,3.32a2,2,0,0,1,2.83,0l1.4,1.43a1.91,1.91,0,0,1,.58,1.4,1.91,1.91,0,0,1-.58,1.4L9.25,21ZM18.45,9,17,7.55Zm-12,3A5.31,5.31,0,0,0,4.9,8.1,5.31,5.31,0,0,0,1,6.5,5.31,5.31,0,0,0,4.9,4.9,5.31,5.31,0,0,0,6.5,1,5.31,5.31,0,0,0,8.1,4.9,5.31,5.31,0,0,0,12,6.5,5.46,5.46,0,0,0,6.5,12Z\"/>\n",
              "  </svg>\n",
              "    </button>\n",
              "    <script>\n",
              "      (() => {\n",
              "      const buttonEl =\n",
              "        document.querySelector('#id_0ded9d1f-9eca-4872-bd97-96766b3bd2aa button.colab-df-generate');\n",
              "      buttonEl.style.display =\n",
              "        google.colab.kernel.accessAllowed ? 'block' : 'none';\n",
              "\n",
              "      buttonEl.onclick = () => {\n",
              "        google.colab.notebook.generateWithVariable('df');\n",
              "      }\n",
              "      })();\n",
              "    </script>\n",
              "  </div>\n",
              "\n",
              "    </div>\n",
              "  </div>\n"
            ],
            "application/vnd.google.colaboratory.intrinsic+json": {
              "type": "dataframe",
              "variable_name": "df"
            }
          },
          "metadata": {},
          "execution_count": 16
        }
      ],
      "source": [
        "import pandas as pd\n",
        "data = pd.read_excel(r\"/content/Sample - Superstore.xls\")\n",
        "df=pd.DataFrame(data)\n",
        "df"
      ]
    },
    {
      "cell_type": "code",
      "source": [
        "# Question 1: Find total number of orders in the dataset.\n",
        "df['Order ID'].nunique()"
      ],
      "metadata": {
        "colab": {
          "base_uri": "https://localhost:8080/"
        },
        "id": "obtXLFfAcbWn",
        "outputId": "842568b0-5b17-41a1-aea8-a46340b470dc"
      },
      "execution_count": 17,
      "outputs": [
        {
          "output_type": "execute_result",
          "data": {
            "text/plain": [
              "5009"
            ]
          },
          "metadata": {},
          "execution_count": 17
        }
      ]
    },
    {
      "cell_type": "code",
      "source": [
        "# Question 2: Find the earliest order date.\n",
        "df['Order Date'].min()"
      ],
      "metadata": {
        "colab": {
          "base_uri": "https://localhost:8080/"
        },
        "id": "Rz9zLIfHcbjL",
        "outputId": "6108bafb-6cfb-4d80-c009-cea3b121dd33"
      },
      "execution_count": 18,
      "outputs": [
        {
          "output_type": "execute_result",
          "data": {
            "text/plain": [
              "Timestamp('2014-01-03 00:00:00')"
            ]
          },
          "metadata": {},
          "execution_count": 18
        }
      ]
    },
    {
      "cell_type": "code",
      "source": [
        "# Question 3: Find the latest order date.\n",
        "df['Order Date'].max()"
      ],
      "metadata": {
        "colab": {
          "base_uri": "https://localhost:8080/"
        },
        "id": "VIncWjwbcbme",
        "outputId": "30b28093-7005-4af2-a223-68a940be7180"
      },
      "execution_count": 19,
      "outputs": [
        {
          "output_type": "execute_result",
          "data": {
            "text/plain": [
              "Timestamp('2017-12-30 00:00:00')"
            ]
          },
          "metadata": {},
          "execution_count": 19
        }
      ]
    },
    {
      "cell_type": "code",
      "source": [
        "#Question 4: Find the total number of unique customers.\n",
        "df['Customer ID'].nunique()"
      ],
      "metadata": {
        "colab": {
          "base_uri": "https://localhost:8080/"
        },
        "id": "0FkGJ7zBeWPj",
        "outputId": "577206c0-5980-49b2-cd31-e1b0825abe49"
      },
      "execution_count": 20,
      "outputs": [
        {
          "output_type": "execute_result",
          "data": {
            "text/plain": [
              "793"
            ]
          },
          "metadata": {},
          "execution_count": 20
        }
      ]
    },
    {
      "cell_type": "code",
      "source": [
        "# Question 5: Find the total number of unique products sold.\n",
        "df['Product ID'].nunique()"
      ],
      "metadata": {
        "colab": {
          "base_uri": "https://localhost:8080/"
        },
        "id": "7vOdvL3XeWSW",
        "outputId": "b0d26737-b3fe-4bbe-d1de-50c438359e4a"
      },
      "execution_count": 21,
      "outputs": [
        {
          "output_type": "execute_result",
          "data": {
            "text/plain": [
              "1862"
            ]
          },
          "metadata": {},
          "execution_count": 21
        }
      ]
    },
    {
      "cell_type": "code",
      "source": [
        "# Question 6: Find the total number of unique categories.\n",
        "df['Category'].nunique()"
      ],
      "metadata": {
        "colab": {
          "base_uri": "https://localhost:8080/"
        },
        "id": "Y7ErgSx6eWVD",
        "outputId": "936c7d26-3de5-416d-d7c6-9ccc598a084d"
      },
      "execution_count": 22,
      "outputs": [
        {
          "output_type": "execute_result",
          "data": {
            "text/plain": [
              "3"
            ]
          },
          "metadata": {},
          "execution_count": 22
        }
      ]
    },
    {
      "cell_type": "code",
      "source": [
        "# Question 7: Find the total number of unique sub-categories.\n",
        "df['Sub-Category'].nunique()"
      ],
      "metadata": {
        "colab": {
          "base_uri": "https://localhost:8080/"
        },
        "id": "TzzCj1B7eWX3",
        "outputId": "25abede2-d910-49eb-881b-61e6d47fb287"
      },
      "execution_count": 23,
      "outputs": [
        {
          "output_type": "execute_result",
          "data": {
            "text/plain": [
              "17"
            ]
          },
          "metadata": {},
          "execution_count": 23
        }
      ]
    },
    {
      "cell_type": "code",
      "source": [
        "# Question 8: Count number of orders in each region.\n",
        "df.groupby('Region')['Order ID'].count()"
      ],
      "metadata": {
        "colab": {
          "base_uri": "https://localhost:8080/",
          "height": 241
        },
        "id": "S10PVlp3eWa2",
        "outputId": "1d86ec9e-a672-4b4c-e7e9-783be4c31003"
      },
      "execution_count": 24,
      "outputs": [
        {
          "output_type": "execute_result",
          "data": {
            "text/plain": [
              "Region\n",
              "Central    2323\n",
              "East       2848\n",
              "South      1620\n",
              "West       3203\n",
              "Name: Order ID, dtype: int64"
            ],
            "text/html": [
              "<div>\n",
              "<style scoped>\n",
              "    .dataframe tbody tr th:only-of-type {\n",
              "        vertical-align: middle;\n",
              "    }\n",
              "\n",
              "    .dataframe tbody tr th {\n",
              "        vertical-align: top;\n",
              "    }\n",
              "\n",
              "    .dataframe thead th {\n",
              "        text-align: right;\n",
              "    }\n",
              "</style>\n",
              "<table border=\"1\" class=\"dataframe\">\n",
              "  <thead>\n",
              "    <tr style=\"text-align: right;\">\n",
              "      <th></th>\n",
              "      <th>Order ID</th>\n",
              "    </tr>\n",
              "    <tr>\n",
              "      <th>Region</th>\n",
              "      <th></th>\n",
              "    </tr>\n",
              "  </thead>\n",
              "  <tbody>\n",
              "    <tr>\n",
              "      <th>Central</th>\n",
              "      <td>2323</td>\n",
              "    </tr>\n",
              "    <tr>\n",
              "      <th>East</th>\n",
              "      <td>2848</td>\n",
              "    </tr>\n",
              "    <tr>\n",
              "      <th>South</th>\n",
              "      <td>1620</td>\n",
              "    </tr>\n",
              "    <tr>\n",
              "      <th>West</th>\n",
              "      <td>3203</td>\n",
              "    </tr>\n",
              "  </tbody>\n",
              "</table>\n",
              "</div><br><label><b>dtype:</b> int64</label>"
            ]
          },
          "metadata": {},
          "execution_count": 24
        }
      ]
    },
    {
      "cell_type": "code",
      "source": [
        "# Question 9: Count number of orders by state.\n",
        "df.groupby('State')['Order ID'].count()"
      ],
      "metadata": {
        "colab": {
          "base_uri": "https://localhost:8080/",
          "height": 1000
        },
        "id": "2D-GyrLKeWeb",
        "outputId": "180c8efe-0c67-4576-8de8-b93de6f0cc8f"
      },
      "execution_count": 25,
      "outputs": [
        {
          "output_type": "execute_result",
          "data": {
            "text/plain": [
              "State\n",
              "Alabama                   61\n",
              "Arizona                  224\n",
              "Arkansas                  60\n",
              "California              2001\n",
              "Colorado                 182\n",
              "Connecticut               82\n",
              "Delaware                  96\n",
              "District of Columbia      10\n",
              "Florida                  383\n",
              "Georgia                  184\n",
              "Idaho                     21\n",
              "Illinois                 492\n",
              "Indiana                  149\n",
              "Iowa                      30\n",
              "Kansas                    24\n",
              "Kentucky                 139\n",
              "Louisiana                 42\n",
              "Maine                      8\n",
              "Maryland                 105\n",
              "Massachusetts            135\n",
              "Michigan                 255\n",
              "Minnesota                 89\n",
              "Mississippi               53\n",
              "Missouri                  66\n",
              "Montana                   15\n",
              "Nebraska                  38\n",
              "Nevada                    39\n",
              "New Hampshire             27\n",
              "New Jersey               130\n",
              "New Mexico                37\n",
              "New York                1128\n",
              "North Carolina           249\n",
              "North Dakota               7\n",
              "Ohio                     469\n",
              "Oklahoma                  66\n",
              "Oregon                   124\n",
              "Pennsylvania             587\n",
              "Rhode Island              56\n",
              "South Carolina            42\n",
              "South Dakota              12\n",
              "Tennessee                183\n",
              "Texas                    985\n",
              "Utah                      53\n",
              "Vermont                   11\n",
              "Virginia                 224\n",
              "Washington               506\n",
              "West Virginia              4\n",
              "Wisconsin                110\n",
              "Wyoming                    1\n",
              "Name: Order ID, dtype: int64"
            ],
            "text/html": [
              "<div>\n",
              "<style scoped>\n",
              "    .dataframe tbody tr th:only-of-type {\n",
              "        vertical-align: middle;\n",
              "    }\n",
              "\n",
              "    .dataframe tbody tr th {\n",
              "        vertical-align: top;\n",
              "    }\n",
              "\n",
              "    .dataframe thead th {\n",
              "        text-align: right;\n",
              "    }\n",
              "</style>\n",
              "<table border=\"1\" class=\"dataframe\">\n",
              "  <thead>\n",
              "    <tr style=\"text-align: right;\">\n",
              "      <th></th>\n",
              "      <th>Order ID</th>\n",
              "    </tr>\n",
              "    <tr>\n",
              "      <th>State</th>\n",
              "      <th></th>\n",
              "    </tr>\n",
              "  </thead>\n",
              "  <tbody>\n",
              "    <tr>\n",
              "      <th>Alabama</th>\n",
              "      <td>61</td>\n",
              "    </tr>\n",
              "    <tr>\n",
              "      <th>Arizona</th>\n",
              "      <td>224</td>\n",
              "    </tr>\n",
              "    <tr>\n",
              "      <th>Arkansas</th>\n",
              "      <td>60</td>\n",
              "    </tr>\n",
              "    <tr>\n",
              "      <th>California</th>\n",
              "      <td>2001</td>\n",
              "    </tr>\n",
              "    <tr>\n",
              "      <th>Colorado</th>\n",
              "      <td>182</td>\n",
              "    </tr>\n",
              "    <tr>\n",
              "      <th>Connecticut</th>\n",
              "      <td>82</td>\n",
              "    </tr>\n",
              "    <tr>\n",
              "      <th>Delaware</th>\n",
              "      <td>96</td>\n",
              "    </tr>\n",
              "    <tr>\n",
              "      <th>District of Columbia</th>\n",
              "      <td>10</td>\n",
              "    </tr>\n",
              "    <tr>\n",
              "      <th>Florida</th>\n",
              "      <td>383</td>\n",
              "    </tr>\n",
              "    <tr>\n",
              "      <th>Georgia</th>\n",
              "      <td>184</td>\n",
              "    </tr>\n",
              "    <tr>\n",
              "      <th>Idaho</th>\n",
              "      <td>21</td>\n",
              "    </tr>\n",
              "    <tr>\n",
              "      <th>Illinois</th>\n",
              "      <td>492</td>\n",
              "    </tr>\n",
              "    <tr>\n",
              "      <th>Indiana</th>\n",
              "      <td>149</td>\n",
              "    </tr>\n",
              "    <tr>\n",
              "      <th>Iowa</th>\n",
              "      <td>30</td>\n",
              "    </tr>\n",
              "    <tr>\n",
              "      <th>Kansas</th>\n",
              "      <td>24</td>\n",
              "    </tr>\n",
              "    <tr>\n",
              "      <th>Kentucky</th>\n",
              "      <td>139</td>\n",
              "    </tr>\n",
              "    <tr>\n",
              "      <th>Louisiana</th>\n",
              "      <td>42</td>\n",
              "    </tr>\n",
              "    <tr>\n",
              "      <th>Maine</th>\n",
              "      <td>8</td>\n",
              "    </tr>\n",
              "    <tr>\n",
              "      <th>Maryland</th>\n",
              "      <td>105</td>\n",
              "    </tr>\n",
              "    <tr>\n",
              "      <th>Massachusetts</th>\n",
              "      <td>135</td>\n",
              "    </tr>\n",
              "    <tr>\n",
              "      <th>Michigan</th>\n",
              "      <td>255</td>\n",
              "    </tr>\n",
              "    <tr>\n",
              "      <th>Minnesota</th>\n",
              "      <td>89</td>\n",
              "    </tr>\n",
              "    <tr>\n",
              "      <th>Mississippi</th>\n",
              "      <td>53</td>\n",
              "    </tr>\n",
              "    <tr>\n",
              "      <th>Missouri</th>\n",
              "      <td>66</td>\n",
              "    </tr>\n",
              "    <tr>\n",
              "      <th>Montana</th>\n",
              "      <td>15</td>\n",
              "    </tr>\n",
              "    <tr>\n",
              "      <th>Nebraska</th>\n",
              "      <td>38</td>\n",
              "    </tr>\n",
              "    <tr>\n",
              "      <th>Nevada</th>\n",
              "      <td>39</td>\n",
              "    </tr>\n",
              "    <tr>\n",
              "      <th>New Hampshire</th>\n",
              "      <td>27</td>\n",
              "    </tr>\n",
              "    <tr>\n",
              "      <th>New Jersey</th>\n",
              "      <td>130</td>\n",
              "    </tr>\n",
              "    <tr>\n",
              "      <th>New Mexico</th>\n",
              "      <td>37</td>\n",
              "    </tr>\n",
              "    <tr>\n",
              "      <th>New York</th>\n",
              "      <td>1128</td>\n",
              "    </tr>\n",
              "    <tr>\n",
              "      <th>North Carolina</th>\n",
              "      <td>249</td>\n",
              "    </tr>\n",
              "    <tr>\n",
              "      <th>North Dakota</th>\n",
              "      <td>7</td>\n",
              "    </tr>\n",
              "    <tr>\n",
              "      <th>Ohio</th>\n",
              "      <td>469</td>\n",
              "    </tr>\n",
              "    <tr>\n",
              "      <th>Oklahoma</th>\n",
              "      <td>66</td>\n",
              "    </tr>\n",
              "    <tr>\n",
              "      <th>Oregon</th>\n",
              "      <td>124</td>\n",
              "    </tr>\n",
              "    <tr>\n",
              "      <th>Pennsylvania</th>\n",
              "      <td>587</td>\n",
              "    </tr>\n",
              "    <tr>\n",
              "      <th>Rhode Island</th>\n",
              "      <td>56</td>\n",
              "    </tr>\n",
              "    <tr>\n",
              "      <th>South Carolina</th>\n",
              "      <td>42</td>\n",
              "    </tr>\n",
              "    <tr>\n",
              "      <th>South Dakota</th>\n",
              "      <td>12</td>\n",
              "    </tr>\n",
              "    <tr>\n",
              "      <th>Tennessee</th>\n",
              "      <td>183</td>\n",
              "    </tr>\n",
              "    <tr>\n",
              "      <th>Texas</th>\n",
              "      <td>985</td>\n",
              "    </tr>\n",
              "    <tr>\n",
              "      <th>Utah</th>\n",
              "      <td>53</td>\n",
              "    </tr>\n",
              "    <tr>\n",
              "      <th>Vermont</th>\n",
              "      <td>11</td>\n",
              "    </tr>\n",
              "    <tr>\n",
              "      <th>Virginia</th>\n",
              "      <td>224</td>\n",
              "    </tr>\n",
              "    <tr>\n",
              "      <th>Washington</th>\n",
              "      <td>506</td>\n",
              "    </tr>\n",
              "    <tr>\n",
              "      <th>West Virginia</th>\n",
              "      <td>4</td>\n",
              "    </tr>\n",
              "    <tr>\n",
              "      <th>Wisconsin</th>\n",
              "      <td>110</td>\n",
              "    </tr>\n",
              "    <tr>\n",
              "      <th>Wyoming</th>\n",
              "      <td>1</td>\n",
              "    </tr>\n",
              "  </tbody>\n",
              "</table>\n",
              "</div><br><label><b>dtype:</b> int64</label>"
            ]
          },
          "metadata": {},
          "execution_count": 25
        }
      ]
    },
    {
      "cell_type": "code",
      "source": [
        "# Question 10: Count number of orders by city.\n",
        "df.groupby('City')['Order ID'].count()"
      ],
      "metadata": {
        "colab": {
          "base_uri": "https://localhost:8080/",
          "height": 489
        },
        "id": "lMdwCaiyeWkF",
        "outputId": "8019f8b3-f6e8-4435-d483-45427b7ac6a6"
      },
      "execution_count": 26,
      "outputs": [
        {
          "output_type": "execute_result",
          "data": {
            "text/plain": [
              "City\n",
              "Aberdeen        1\n",
              "Abilene         1\n",
              "Akron          21\n",
              "Albuquerque    14\n",
              "Alexandria     16\n",
              "               ..\n",
              "Woonsocket      4\n",
              "Yonkers        15\n",
              "York            5\n",
              "Yucaipa         1\n",
              "Yuma            4\n",
              "Name: Order ID, Length: 531, dtype: int64"
            ],
            "text/html": [
              "<div>\n",
              "<style scoped>\n",
              "    .dataframe tbody tr th:only-of-type {\n",
              "        vertical-align: middle;\n",
              "    }\n",
              "\n",
              "    .dataframe tbody tr th {\n",
              "        vertical-align: top;\n",
              "    }\n",
              "\n",
              "    .dataframe thead th {\n",
              "        text-align: right;\n",
              "    }\n",
              "</style>\n",
              "<table border=\"1\" class=\"dataframe\">\n",
              "  <thead>\n",
              "    <tr style=\"text-align: right;\">\n",
              "      <th></th>\n",
              "      <th>Order ID</th>\n",
              "    </tr>\n",
              "    <tr>\n",
              "      <th>City</th>\n",
              "      <th></th>\n",
              "    </tr>\n",
              "  </thead>\n",
              "  <tbody>\n",
              "    <tr>\n",
              "      <th>Aberdeen</th>\n",
              "      <td>1</td>\n",
              "    </tr>\n",
              "    <tr>\n",
              "      <th>Abilene</th>\n",
              "      <td>1</td>\n",
              "    </tr>\n",
              "    <tr>\n",
              "      <th>Akron</th>\n",
              "      <td>21</td>\n",
              "    </tr>\n",
              "    <tr>\n",
              "      <th>Albuquerque</th>\n",
              "      <td>14</td>\n",
              "    </tr>\n",
              "    <tr>\n",
              "      <th>Alexandria</th>\n",
              "      <td>16</td>\n",
              "    </tr>\n",
              "    <tr>\n",
              "      <th>...</th>\n",
              "      <td>...</td>\n",
              "    </tr>\n",
              "    <tr>\n",
              "      <th>Woonsocket</th>\n",
              "      <td>4</td>\n",
              "    </tr>\n",
              "    <tr>\n",
              "      <th>Yonkers</th>\n",
              "      <td>15</td>\n",
              "    </tr>\n",
              "    <tr>\n",
              "      <th>York</th>\n",
              "      <td>5</td>\n",
              "    </tr>\n",
              "    <tr>\n",
              "      <th>Yucaipa</th>\n",
              "      <td>1</td>\n",
              "    </tr>\n",
              "    <tr>\n",
              "      <th>Yuma</th>\n",
              "      <td>4</td>\n",
              "    </tr>\n",
              "  </tbody>\n",
              "</table>\n",
              "<p>531 rows × 1 columns</p>\n",
              "</div><br><label><b>dtype:</b> int64</label>"
            ]
          },
          "metadata": {},
          "execution_count": 26
        }
      ]
    },
    {
      "cell_type": "code",
      "source": [
        "# Question 11: Find the most common ship mode.\n",
        "df['Ship Mode'].mode().iat[0]"
      ],
      "metadata": {
        "id": "uMIUav4DeWm-",
        "colab": {
          "base_uri": "https://localhost:8080/",
          "height": 36
        },
        "outputId": "ac21d181-702b-498a-86b5-11da8f5b4d34"
      },
      "execution_count": 27,
      "outputs": [
        {
          "output_type": "execute_result",
          "data": {
            "text/plain": [
              "'Standard Class'"
            ],
            "application/vnd.google.colaboratory.intrinsic+json": {
              "type": "string"
            }
          },
          "metadata": {},
          "execution_count": 27
        }
      ]
    },
    {
      "cell_type": "code",
      "source": [
        "# --- Question 12: find the least common ship mode ---\n",
        "df['Ship Mode'].value_counts().idxmin()"
      ],
      "metadata": {
        "id": "anl-9uaReWpt",
        "colab": {
          "base_uri": "https://localhost:8080/",
          "height": 36
        },
        "outputId": "3316566a-5add-4b68-9590-428e978f39cb"
      },
      "execution_count": 28,
      "outputs": [
        {
          "output_type": "execute_result",
          "data": {
            "text/plain": [
              "'Same Day'"
            ],
            "application/vnd.google.colaboratory.intrinsic+json": {
              "type": "string"
            }
          },
          "metadata": {},
          "execution_count": 28
        }
      ]
    },
    {
      "cell_type": "code",
      "source": [
        "# --- Question 13: count orders shipped with \"Same Day\" mode ---\n",
        "df.loc[df['Ship Mode'] == 'Same Day', 'Order ID'].nunique()"
      ],
      "metadata": {
        "id": "9pxJsNG2eWtK",
        "colab": {
          "base_uri": "https://localhost:8080/"
        },
        "outputId": "03b36f8b-631c-44df-818b-77d1c6ea946c"
      },
      "execution_count": 29,
      "outputs": [
        {
          "output_type": "execute_result",
          "data": {
            "text/plain": [
              "264"
            ]
          },
          "metadata": {},
          "execution_count": 29
        }
      ]
    },
    {
      "cell_type": "code",
      "source": [
        "# --- Question 14: count orders shipped with \"First Class\" ---\n",
        "df.loc[df['Ship Mode'] == 'First Class', 'Order ID'].nunique()"
      ],
      "metadata": {
        "colab": {
          "base_uri": "https://localhost:8080/"
        },
        "id": "Mbs9gAiaeokL",
        "outputId": "b5d23096-d188-4b7f-8efd-e1964c30f55e"
      },
      "execution_count": 30,
      "outputs": [
        {
          "output_type": "execute_result",
          "data": {
            "text/plain": [
              "787"
            ]
          },
          "metadata": {},
          "execution_count": 30
        }
      ]
    },
    {
      "cell_type": "code",
      "source": [
        "# --- Question 15: count orders shipped with \"Second Class\" ---\n",
        "df.loc[df['Ship Mode'] == 'Second Class', 'Order ID'].nunique()"
      ],
      "metadata": {
        "colab": {
          "base_uri": "https://localhost:8080/"
        },
        "id": "otn503dCeoUs",
        "outputId": "00e546ca-0367-450c-a6b9-02fc62a1bed4"
      },
      "execution_count": 31,
      "outputs": [
        {
          "output_type": "execute_result",
          "data": {
            "text/plain": [
              "964"
            ]
          },
          "metadata": {},
          "execution_count": 31
        }
      ]
    },
    {
      "cell_type": "code",
      "source": [
        "# --- Question 16: count orders shipped with \"Standard Class\" ---\n",
        "df.loc[df['Ship Mode'] == 'Standard Class', 'Order ID'].nunique()"
      ],
      "metadata": {
        "colab": {
          "base_uri": "https://localhost:8080/"
        },
        "id": "ciaRLpRifUz0",
        "outputId": "0f8151b8-e062-4e5d-ac93-c1ae9f45a0b0"
      },
      "execution_count": 32,
      "outputs": [
        {
          "output_type": "execute_result",
          "data": {
            "text/plain": [
              "2994"
            ]
          },
          "metadata": {},
          "execution_count": 32
        }
      ]
    },
    {
      "cell_type": "code",
      "source": [
        "# --- Question 17: number of orders in each year ---\n",
        "df.groupby(df['Order Date'].dt.year)['Order ID'].nunique()"
      ],
      "metadata": {
        "colab": {
          "base_uri": "https://localhost:8080/",
          "height": 241
        },
        "id": "oHbWupJgfUwe",
        "outputId": "37dabc7a-3b15-403a-f691-ea5867e941cc"
      },
      "execution_count": 33,
      "outputs": [
        {
          "output_type": "execute_result",
          "data": {
            "text/plain": [
              "Order Date\n",
              "2014     969\n",
              "2015    1038\n",
              "2016    1315\n",
              "2017    1687\n",
              "Name: Order ID, dtype: int64"
            ],
            "text/html": [
              "<div>\n",
              "<style scoped>\n",
              "    .dataframe tbody tr th:only-of-type {\n",
              "        vertical-align: middle;\n",
              "    }\n",
              "\n",
              "    .dataframe tbody tr th {\n",
              "        vertical-align: top;\n",
              "    }\n",
              "\n",
              "    .dataframe thead th {\n",
              "        text-align: right;\n",
              "    }\n",
              "</style>\n",
              "<table border=\"1\" class=\"dataframe\">\n",
              "  <thead>\n",
              "    <tr style=\"text-align: right;\">\n",
              "      <th></th>\n",
              "      <th>Order ID</th>\n",
              "    </tr>\n",
              "    <tr>\n",
              "      <th>Order Date</th>\n",
              "      <th></th>\n",
              "    </tr>\n",
              "  </thead>\n",
              "  <tbody>\n",
              "    <tr>\n",
              "      <th>2014</th>\n",
              "      <td>969</td>\n",
              "    </tr>\n",
              "    <tr>\n",
              "      <th>2015</th>\n",
              "      <td>1038</td>\n",
              "    </tr>\n",
              "    <tr>\n",
              "      <th>2016</th>\n",
              "      <td>1315</td>\n",
              "    </tr>\n",
              "    <tr>\n",
              "      <th>2017</th>\n",
              "      <td>1687</td>\n",
              "    </tr>\n",
              "  </tbody>\n",
              "</table>\n",
              "</div><br><label><b>dtype:</b> int64</label>"
            ]
          },
          "metadata": {},
          "execution_count": 33
        }
      ]
    },
    {
      "cell_type": "code",
      "source": [
        "# --- Question 18: number of orders in each quarter ---\n",
        "df.groupby(df['Order Date'].dt.to_period('Q'))['Order ID'].nunique()\n"
      ],
      "metadata": {
        "colab": {
          "base_uri": "https://localhost:8080/",
          "height": 617
        },
        "id": "XNCwxBUBfUte",
        "outputId": "7d69d9e5-4335-4407-f866-267f58fe6e45"
      },
      "execution_count": 34,
      "outputs": [
        {
          "output_type": "execute_result",
          "data": {
            "text/plain": [
              "Order Date\n",
              "2014Q1    131\n",
              "2014Q2    201\n",
              "2014Q3    267\n",
              "2014Q4    370\n",
              "2015Q1    144\n",
              "2015Q2    214\n",
              "2015Q3    274\n",
              "2015Q4    406\n",
              "2016Q1    179\n",
              "2016Q2    294\n",
              "2016Q3    378\n",
              "2016Q4    464\n",
              "2017Q1    240\n",
              "2017Q2    367\n",
              "2017Q3    448\n",
              "2017Q4    632\n",
              "Freq: Q-DEC, Name: Order ID, dtype: int64"
            ],
            "text/html": [
              "<div>\n",
              "<style scoped>\n",
              "    .dataframe tbody tr th:only-of-type {\n",
              "        vertical-align: middle;\n",
              "    }\n",
              "\n",
              "    .dataframe tbody tr th {\n",
              "        vertical-align: top;\n",
              "    }\n",
              "\n",
              "    .dataframe thead th {\n",
              "        text-align: right;\n",
              "    }\n",
              "</style>\n",
              "<table border=\"1\" class=\"dataframe\">\n",
              "  <thead>\n",
              "    <tr style=\"text-align: right;\">\n",
              "      <th></th>\n",
              "      <th>Order ID</th>\n",
              "    </tr>\n",
              "    <tr>\n",
              "      <th>Order Date</th>\n",
              "      <th></th>\n",
              "    </tr>\n",
              "  </thead>\n",
              "  <tbody>\n",
              "    <tr>\n",
              "      <th>2014Q1</th>\n",
              "      <td>131</td>\n",
              "    </tr>\n",
              "    <tr>\n",
              "      <th>2014Q2</th>\n",
              "      <td>201</td>\n",
              "    </tr>\n",
              "    <tr>\n",
              "      <th>2014Q3</th>\n",
              "      <td>267</td>\n",
              "    </tr>\n",
              "    <tr>\n",
              "      <th>2014Q4</th>\n",
              "      <td>370</td>\n",
              "    </tr>\n",
              "    <tr>\n",
              "      <th>2015Q1</th>\n",
              "      <td>144</td>\n",
              "    </tr>\n",
              "    <tr>\n",
              "      <th>2015Q2</th>\n",
              "      <td>214</td>\n",
              "    </tr>\n",
              "    <tr>\n",
              "      <th>2015Q3</th>\n",
              "      <td>274</td>\n",
              "    </tr>\n",
              "    <tr>\n",
              "      <th>2015Q4</th>\n",
              "      <td>406</td>\n",
              "    </tr>\n",
              "    <tr>\n",
              "      <th>2016Q1</th>\n",
              "      <td>179</td>\n",
              "    </tr>\n",
              "    <tr>\n",
              "      <th>2016Q2</th>\n",
              "      <td>294</td>\n",
              "    </tr>\n",
              "    <tr>\n",
              "      <th>2016Q3</th>\n",
              "      <td>378</td>\n",
              "    </tr>\n",
              "    <tr>\n",
              "      <th>2016Q4</th>\n",
              "      <td>464</td>\n",
              "    </tr>\n",
              "    <tr>\n",
              "      <th>2017Q1</th>\n",
              "      <td>240</td>\n",
              "    </tr>\n",
              "    <tr>\n",
              "      <th>2017Q2</th>\n",
              "      <td>367</td>\n",
              "    </tr>\n",
              "    <tr>\n",
              "      <th>2017Q3</th>\n",
              "      <td>448</td>\n",
              "    </tr>\n",
              "    <tr>\n",
              "      <th>2017Q4</th>\n",
              "      <td>632</td>\n",
              "    </tr>\n",
              "  </tbody>\n",
              "</table>\n",
              "</div><br><label><b>dtype:</b> int64</label>"
            ]
          },
          "metadata": {},
          "execution_count": 34
        }
      ]
    },
    {
      "cell_type": "code",
      "source": [
        "# --- Question 19: number of orders in each month (year-month) ---\n",
        "df.groupby(df['Order Date'].dt.to_period('M'))['Order ID'].nunique()"
      ],
      "metadata": {
        "colab": {
          "base_uri": "https://localhost:8080/",
          "height": 1000
        },
        "id": "0R1aKGN4fUqx",
        "outputId": "034897f8-a19a-4b5b-844b-b5f6f8865c05"
      },
      "execution_count": 35,
      "outputs": [
        {
          "output_type": "execute_result",
          "data": {
            "text/plain": [
              "Order Date\n",
              "2014-01     32\n",
              "2014-02     28\n",
              "2014-03     71\n",
              "2014-04     66\n",
              "2014-05     69\n",
              "2014-06     66\n",
              "2014-07     65\n",
              "2014-08     72\n",
              "2014-09    130\n",
              "2014-10     78\n",
              "2014-11    151\n",
              "2014-12    141\n",
              "2015-01     29\n",
              "2015-02     36\n",
              "2015-03     79\n",
              "2015-04     72\n",
              "2015-05     74\n",
              "2015-06     68\n",
              "2015-07     66\n",
              "2015-08     68\n",
              "2015-09    140\n",
              "2015-10     87\n",
              "2015-11    158\n",
              "2015-12    161\n",
              "2016-01     48\n",
              "2016-02     45\n",
              "2016-03     86\n",
              "2016-04     89\n",
              "2016-05    108\n",
              "2016-06     97\n",
              "2016-07     96\n",
              "2016-08     90\n",
              "2016-09    192\n",
              "2016-10    105\n",
              "2016-11    183\n",
              "2016-12    176\n",
              "2017-01     69\n",
              "2017-02     53\n",
              "2017-03    118\n",
              "2017-04    116\n",
              "2017-05    118\n",
              "2017-06    133\n",
              "2017-07    111\n",
              "2017-08    111\n",
              "2017-09    226\n",
              "2017-10    147\n",
              "2017-11    261\n",
              "2017-12    224\n",
              "Freq: M, Name: Order ID, dtype: int64"
            ],
            "text/html": [
              "<div>\n",
              "<style scoped>\n",
              "    .dataframe tbody tr th:only-of-type {\n",
              "        vertical-align: middle;\n",
              "    }\n",
              "\n",
              "    .dataframe tbody tr th {\n",
              "        vertical-align: top;\n",
              "    }\n",
              "\n",
              "    .dataframe thead th {\n",
              "        text-align: right;\n",
              "    }\n",
              "</style>\n",
              "<table border=\"1\" class=\"dataframe\">\n",
              "  <thead>\n",
              "    <tr style=\"text-align: right;\">\n",
              "      <th></th>\n",
              "      <th>Order ID</th>\n",
              "    </tr>\n",
              "    <tr>\n",
              "      <th>Order Date</th>\n",
              "      <th></th>\n",
              "    </tr>\n",
              "  </thead>\n",
              "  <tbody>\n",
              "    <tr>\n",
              "      <th>2014-01</th>\n",
              "      <td>32</td>\n",
              "    </tr>\n",
              "    <tr>\n",
              "      <th>2014-02</th>\n",
              "      <td>28</td>\n",
              "    </tr>\n",
              "    <tr>\n",
              "      <th>2014-03</th>\n",
              "      <td>71</td>\n",
              "    </tr>\n",
              "    <tr>\n",
              "      <th>2014-04</th>\n",
              "      <td>66</td>\n",
              "    </tr>\n",
              "    <tr>\n",
              "      <th>2014-05</th>\n",
              "      <td>69</td>\n",
              "    </tr>\n",
              "    <tr>\n",
              "      <th>2014-06</th>\n",
              "      <td>66</td>\n",
              "    </tr>\n",
              "    <tr>\n",
              "      <th>2014-07</th>\n",
              "      <td>65</td>\n",
              "    </tr>\n",
              "    <tr>\n",
              "      <th>2014-08</th>\n",
              "      <td>72</td>\n",
              "    </tr>\n",
              "    <tr>\n",
              "      <th>2014-09</th>\n",
              "      <td>130</td>\n",
              "    </tr>\n",
              "    <tr>\n",
              "      <th>2014-10</th>\n",
              "      <td>78</td>\n",
              "    </tr>\n",
              "    <tr>\n",
              "      <th>2014-11</th>\n",
              "      <td>151</td>\n",
              "    </tr>\n",
              "    <tr>\n",
              "      <th>2014-12</th>\n",
              "      <td>141</td>\n",
              "    </tr>\n",
              "    <tr>\n",
              "      <th>2015-01</th>\n",
              "      <td>29</td>\n",
              "    </tr>\n",
              "    <tr>\n",
              "      <th>2015-02</th>\n",
              "      <td>36</td>\n",
              "    </tr>\n",
              "    <tr>\n",
              "      <th>2015-03</th>\n",
              "      <td>79</td>\n",
              "    </tr>\n",
              "    <tr>\n",
              "      <th>2015-04</th>\n",
              "      <td>72</td>\n",
              "    </tr>\n",
              "    <tr>\n",
              "      <th>2015-05</th>\n",
              "      <td>74</td>\n",
              "    </tr>\n",
              "    <tr>\n",
              "      <th>2015-06</th>\n",
              "      <td>68</td>\n",
              "    </tr>\n",
              "    <tr>\n",
              "      <th>2015-07</th>\n",
              "      <td>66</td>\n",
              "    </tr>\n",
              "    <tr>\n",
              "      <th>2015-08</th>\n",
              "      <td>68</td>\n",
              "    </tr>\n",
              "    <tr>\n",
              "      <th>2015-09</th>\n",
              "      <td>140</td>\n",
              "    </tr>\n",
              "    <tr>\n",
              "      <th>2015-10</th>\n",
              "      <td>87</td>\n",
              "    </tr>\n",
              "    <tr>\n",
              "      <th>2015-11</th>\n",
              "      <td>158</td>\n",
              "    </tr>\n",
              "    <tr>\n",
              "      <th>2015-12</th>\n",
              "      <td>161</td>\n",
              "    </tr>\n",
              "    <tr>\n",
              "      <th>2016-01</th>\n",
              "      <td>48</td>\n",
              "    </tr>\n",
              "    <tr>\n",
              "      <th>2016-02</th>\n",
              "      <td>45</td>\n",
              "    </tr>\n",
              "    <tr>\n",
              "      <th>2016-03</th>\n",
              "      <td>86</td>\n",
              "    </tr>\n",
              "    <tr>\n",
              "      <th>2016-04</th>\n",
              "      <td>89</td>\n",
              "    </tr>\n",
              "    <tr>\n",
              "      <th>2016-05</th>\n",
              "      <td>108</td>\n",
              "    </tr>\n",
              "    <tr>\n",
              "      <th>2016-06</th>\n",
              "      <td>97</td>\n",
              "    </tr>\n",
              "    <tr>\n",
              "      <th>2016-07</th>\n",
              "      <td>96</td>\n",
              "    </tr>\n",
              "    <tr>\n",
              "      <th>2016-08</th>\n",
              "      <td>90</td>\n",
              "    </tr>\n",
              "    <tr>\n",
              "      <th>2016-09</th>\n",
              "      <td>192</td>\n",
              "    </tr>\n",
              "    <tr>\n",
              "      <th>2016-10</th>\n",
              "      <td>105</td>\n",
              "    </tr>\n",
              "    <tr>\n",
              "      <th>2016-11</th>\n",
              "      <td>183</td>\n",
              "    </tr>\n",
              "    <tr>\n",
              "      <th>2016-12</th>\n",
              "      <td>176</td>\n",
              "    </tr>\n",
              "    <tr>\n",
              "      <th>2017-01</th>\n",
              "      <td>69</td>\n",
              "    </tr>\n",
              "    <tr>\n",
              "      <th>2017-02</th>\n",
              "      <td>53</td>\n",
              "    </tr>\n",
              "    <tr>\n",
              "      <th>2017-03</th>\n",
              "      <td>118</td>\n",
              "    </tr>\n",
              "    <tr>\n",
              "      <th>2017-04</th>\n",
              "      <td>116</td>\n",
              "    </tr>\n",
              "    <tr>\n",
              "      <th>2017-05</th>\n",
              "      <td>118</td>\n",
              "    </tr>\n",
              "    <tr>\n",
              "      <th>2017-06</th>\n",
              "      <td>133</td>\n",
              "    </tr>\n",
              "    <tr>\n",
              "      <th>2017-07</th>\n",
              "      <td>111</td>\n",
              "    </tr>\n",
              "    <tr>\n",
              "      <th>2017-08</th>\n",
              "      <td>111</td>\n",
              "    </tr>\n",
              "    <tr>\n",
              "      <th>2017-09</th>\n",
              "      <td>226</td>\n",
              "    </tr>\n",
              "    <tr>\n",
              "      <th>2017-10</th>\n",
              "      <td>147</td>\n",
              "    </tr>\n",
              "    <tr>\n",
              "      <th>2017-11</th>\n",
              "      <td>261</td>\n",
              "    </tr>\n",
              "    <tr>\n",
              "      <th>2017-12</th>\n",
              "      <td>224</td>\n",
              "    </tr>\n",
              "  </tbody>\n",
              "</table>\n",
              "</div><br><label><b>dtype:</b> int64</label>"
            ]
          },
          "metadata": {},
          "execution_count": 35
        }
      ]
    },
    {
      "cell_type": "code",
      "source": [
        "# --- Question 20: number of orders in each weekday ---\n",
        "df.groupby(df['Order Date'].dt.day_name())['Order ID'].nunique()"
      ],
      "metadata": {
        "colab": {
          "base_uri": "https://localhost:8080/",
          "height": 335
        },
        "id": "HH9Y9u7cflJl",
        "outputId": "4acb09f5-0d4c-46d4-eb69-26235db875bd"
      },
      "execution_count": 36,
      "outputs": [
        {
          "output_type": "execute_result",
          "data": {
            "text/plain": [
              "Order Date\n",
              "Friday       916\n",
              "Monday       920\n",
              "Saturday     837\n",
              "Sunday       850\n",
              "Thursday     746\n",
              "Tuesday      558\n",
              "Wednesday    182\n",
              "Name: Order ID, dtype: int64"
            ],
            "text/html": [
              "<div>\n",
              "<style scoped>\n",
              "    .dataframe tbody tr th:only-of-type {\n",
              "        vertical-align: middle;\n",
              "    }\n",
              "\n",
              "    .dataframe tbody tr th {\n",
              "        vertical-align: top;\n",
              "    }\n",
              "\n",
              "    .dataframe thead th {\n",
              "        text-align: right;\n",
              "    }\n",
              "</style>\n",
              "<table border=\"1\" class=\"dataframe\">\n",
              "  <thead>\n",
              "    <tr style=\"text-align: right;\">\n",
              "      <th></th>\n",
              "      <th>Order ID</th>\n",
              "    </tr>\n",
              "    <tr>\n",
              "      <th>Order Date</th>\n",
              "      <th></th>\n",
              "    </tr>\n",
              "  </thead>\n",
              "  <tbody>\n",
              "    <tr>\n",
              "      <th>Friday</th>\n",
              "      <td>916</td>\n",
              "    </tr>\n",
              "    <tr>\n",
              "      <th>Monday</th>\n",
              "      <td>920</td>\n",
              "    </tr>\n",
              "    <tr>\n",
              "      <th>Saturday</th>\n",
              "      <td>837</td>\n",
              "    </tr>\n",
              "    <tr>\n",
              "      <th>Sunday</th>\n",
              "      <td>850</td>\n",
              "    </tr>\n",
              "    <tr>\n",
              "      <th>Thursday</th>\n",
              "      <td>746</td>\n",
              "    </tr>\n",
              "    <tr>\n",
              "      <th>Tuesday</th>\n",
              "      <td>558</td>\n",
              "    </tr>\n",
              "    <tr>\n",
              "      <th>Wednesday</th>\n",
              "      <td>182</td>\n",
              "    </tr>\n",
              "  </tbody>\n",
              "</table>\n",
              "</div><br><label><b>dtype:</b> int64</label>"
            ]
          },
          "metadata": {},
          "execution_count": 36
        }
      ]
    },
    {
      "cell_type": "code",
      "source": [
        "# --- Question 21: count orders with discount applied (discount > 0) ---\n",
        "df.loc[df['Discount'] > 0, 'Order ID'].nunique()"
      ],
      "metadata": {
        "colab": {
          "base_uri": "https://localhost:8080/"
        },
        "id": "CclNfBrDflDI",
        "outputId": "40d8b723-c894-4a9f-a1ca-567c58da8239"
      },
      "execution_count": 37,
      "outputs": [
        {
          "output_type": "execute_result",
          "data": {
            "text/plain": [
              "2954"
            ]
          },
          "metadata": {},
          "execution_count": 37
        }
      ]
    },
    {
      "cell_type": "code",
      "source": [
        "# --- Question 22: count orders without discount (Discount is null or 0) ---\n",
        "df.loc[df['Discount'] == 0, 'Order ID'].nunique()"
      ],
      "metadata": {
        "colab": {
          "base_uri": "https://localhost:8080/"
        },
        "id": "0l3h0Zpofk_q",
        "outputId": "8b3a48a2-6453-40bc-af7d-291869273a5d"
      },
      "execution_count": 38,
      "outputs": [
        {
          "output_type": "execute_result",
          "data": {
            "text/plain": [
              "2644"
            ]
          },
          "metadata": {},
          "execution_count": 38
        }
      ]
    },
    {
      "cell_type": "code",
      "source": [
        "# --- Question 23: count orders where discount = 0 ---\n",
        "df.loc[df['Discount'] == 0, 'Order ID'].nunique()"
      ],
      "metadata": {
        "colab": {
          "base_uri": "https://localhost:8080/"
        },
        "id": "dlSlIz96fk8x",
        "outputId": "a8985642-a379-4e9c-ecff-cd1c51f44a2f"
      },
      "execution_count": 39,
      "outputs": [
        {
          "output_type": "execute_result",
          "data": {
            "text/plain": [
              "2644"
            ]
          },
          "metadata": {},
          "execution_count": 39
        }
      ]
    },
    {
      "cell_type": "code",
      "source": [
        "# --- Question 24: count orders where discount > 0.2 ---\n",
        "df.loc[df['Discount'] > 0.2, 'Order ID'].nunique()"
      ],
      "metadata": {
        "colab": {
          "base_uri": "https://localhost:8080/"
        },
        "id": "QHpkc6aJfk6I",
        "outputId": "f8a41f68-8951-48ab-988b-479674663c0e"
      },
      "execution_count": 40,
      "outputs": [
        {
          "output_type": "execute_result",
          "data": {
            "text/plain": [
              "1020"
            ]
          },
          "metadata": {},
          "execution_count": 40
        }
      ]
    },
    {
      "cell_type": "code",
      "source": [
        "# --- Question 25: count orders where discount = 0.5 ---\n",
        "df.loc[df['Discount'] == 0.5, 'Order ID'].nunique()"
      ],
      "metadata": {
        "colab": {
          "base_uri": "https://localhost:8080/"
        },
        "id": "dbiJjU8mfk3F",
        "outputId": "544cdf07-bc06-48ed-cedf-d85687bd914c"
      },
      "execution_count": 41,
      "outputs": [
        {
          "output_type": "execute_result",
          "data": {
            "text/plain": [
              "64"
            ]
          },
          "metadata": {},
          "execution_count": 41
        }
      ]
    },
    {
      "cell_type": "code",
      "source": [
        "# --- Question 26: maximum discount given ---\n",
        "max_discount = df['Discount'].max()"
      ],
      "metadata": {
        "id": "fqHKGahKfk0k"
      },
      "execution_count": 42,
      "outputs": []
    },
    {
      "cell_type": "code",
      "source": [
        "# --- Question 27: minimum discount given ---\n",
        "min_discount = df['Discount'].min()"
      ],
      "metadata": {
        "id": "wh-U4tkai9OD"
      },
      "execution_count": 43,
      "outputs": []
    },
    {
      "cell_type": "code",
      "source": [
        "# --- Question 28: count orders where profit < 0 (loss-making orders) ---\n",
        "df.loc[df['Profit'] < 0, 'Order ID'].nunique()"
      ],
      "metadata": {
        "colab": {
          "base_uri": "https://localhost:8080/"
        },
        "id": "acK9hArDi9KU",
        "outputId": "aac4d70e-1afe-46cb-b925-fed0b2eec51c"
      },
      "execution_count": 44,
      "outputs": [
        {
          "output_type": "execute_result",
          "data": {
            "text/plain": [
              "1318"
            ]
          },
          "metadata": {},
          "execution_count": 44
        }
      ]
    },
    {
      "cell_type": "code",
      "source": [
        "# --- Question 29: count orders where profit = 0 ---\n",
        "df.loc[df['Profit'] == 0, 'Order ID'].nunique()"
      ],
      "metadata": {
        "colab": {
          "base_uri": "https://localhost:8080/"
        },
        "id": "pdtVwtGWi9Ha",
        "outputId": "d2214e21-1f78-41ee-b48b-87a1694c0588"
      },
      "execution_count": 45,
      "outputs": [
        {
          "output_type": "execute_result",
          "data": {
            "text/plain": [
              "64"
            ]
          },
          "metadata": {},
          "execution_count": 45
        }
      ]
    },
    {
      "cell_type": "code",
      "source": [
        "# --- Question 30: count orders where profit > 100 ---\n",
        "df.loc[df['Profit'] > 100 ,'Order ID'].nunique()"
      ],
      "metadata": {
        "colab": {
          "base_uri": "https://localhost:8080/"
        },
        "id": "kLyPFlesi9Eq",
        "outputId": "1878cb01-aeb0-4172-bdf2-0789a0521785"
      },
      "execution_count": 46,
      "outputs": [
        {
          "output_type": "execute_result",
          "data": {
            "text/plain": [
              "783"
            ]
          },
          "metadata": {},
          "execution_count": 46
        }
      ]
    },
    {
      "cell_type": "code",
      "source": [
        "# --- Question 31: count orders where sales > 1000 ---\n",
        "df.loc[df['Sales'] > 1000, 'Order ID'].nunique()"
      ],
      "metadata": {
        "colab": {
          "base_uri": "https://localhost:8080/"
        },
        "id": "8_ZpH6CHi9B9",
        "outputId": "70872582-b341-4daa-bab0-a1cd6cbbd59e"
      },
      "execution_count": 47,
      "outputs": [
        {
          "output_type": "execute_result",
          "data": {
            "text/plain": [
              "439"
            ]
          },
          "metadata": {},
          "execution_count": 47
        }
      ]
    },
    {
      "cell_type": "code",
      "source": [
        "# --- Question 33: find average quantity per order ---\n",
        "df.groupby('Order ID')['Quantity'].sum().mean()\n"
      ],
      "metadata": {
        "id": "HVO8a3xlth08",
        "colab": {
          "base_uri": "https://localhost:8080/"
        },
        "outputId": "d89a9c3d-f7e9-4064-c015-591c37b82b65"
      },
      "execution_count": 48,
      "outputs": [
        {
          "output_type": "execute_result",
          "data": {
            "text/plain": [
              "np.float64(7.560990217608305)"
            ]
          },
          "metadata": {},
          "execution_count": 48
        }
      ]
    },
    {
      "cell_type": "code",
      "source": [
        "# --- Question 34: find average sales per order ---\n",
        "df.groupby('Order ID')['Sales'].sum().mean()"
      ],
      "metadata": {
        "colab": {
          "base_uri": "https://localhost:8080/"
        },
        "id": "c6iL-qojt3jz",
        "outputId": "4d37b155-723b-4b21-8706-3db134799685"
      },
      "execution_count": 49,
      "outputs": [
        {
          "output_type": "execute_result",
          "data": {
            "text/plain": [
              "np.float64(458.61466566180883)"
            ]
          },
          "metadata": {},
          "execution_count": 49
        }
      ]
    },
    {
      "cell_type": "code",
      "source": [
        "# --- Question 35: find average profit per order ---\n",
        "df.groupby('Order ID')['Profit'].sum().mean()"
      ],
      "metadata": {
        "colab": {
          "base_uri": "https://localhost:8080/"
        },
        "id": "YTOq0vBat3X6",
        "outputId": "81525a75-8f97-4671-f3ec-356e406f6853"
      },
      "execution_count": 50,
      "outputs": [
        {
          "output_type": "execute_result",
          "data": {
            "text/plain": [
              "np.float64(57.17648666400478)"
            ]
          },
          "metadata": {},
          "execution_count": 50
        }
      ]
    },
    {
      "cell_type": "code",
      "source": [
        "# --- Question 36: find maximum sales in a single order ---\n",
        "df.groupby('Order ID')['Sales'].sum().max()"
      ],
      "metadata": {
        "colab": {
          "base_uri": "https://localhost:8080/"
        },
        "id": "e7o7-v_at3Ka",
        "outputId": "161a4a74-1c5a-44d3-b290-bb87f5b1bb6a"
      },
      "execution_count": 51,
      "outputs": [
        {
          "output_type": "execute_result",
          "data": {
            "text/plain": [
              "23661.228"
            ]
          },
          "metadata": {},
          "execution_count": 51
        }
      ]
    },
    {
      "cell_type": "code",
      "source": [
        "# --- Question 37: find minimum sales in a single order ---\n",
        "df.groupby('Order ID')['Sales'].sum().min()"
      ],
      "metadata": {
        "colab": {
          "base_uri": "https://localhost:8080/"
        },
        "id": "P7Q53Sk5t2-Z",
        "outputId": "95d37303-8668-433a-ab46-8bd4e6e95491"
      },
      "execution_count": 52,
      "outputs": [
        {
          "output_type": "execute_result",
          "data": {
            "text/plain": [
              "0.5559999999999998"
            ]
          },
          "metadata": {},
          "execution_count": 52
        }
      ]
    },
    {
      "cell_type": "code",
      "source": [
        "# --- Question 38: find maximum profit in a single order ---\n",
        "df.groupby('Order ID')['Profit'].sum().max()"
      ],
      "metadata": {
        "colab": {
          "base_uri": "https://localhost:8080/"
        },
        "id": "2SwP9hNnt2uh",
        "outputId": "aa127945-289e-4c82-ee38-e85f57899391"
      },
      "execution_count": 53,
      "outputs": [
        {
          "output_type": "execute_result",
          "data": {
            "text/plain": [
              "8762.389099999999"
            ]
          },
          "metadata": {},
          "execution_count": 53
        }
      ]
    },
    {
      "cell_type": "code",
      "source": [
        "# --- Question 40: find number of orders per customer ---\n",
        "df.groupby('Customer ID')['Order ID'].nunique().sort_values(ascending=False)"
      ],
      "metadata": {
        "colab": {
          "base_uri": "https://localhost:8080/",
          "height": 489
        },
        "id": "UjfoSxh7uoNM",
        "outputId": "935d2f08-7c20-4d22-a079-ee2363b10fdf"
      },
      "execution_count": 54,
      "outputs": [
        {
          "output_type": "execute_result",
          "data": {
            "text/plain": [
              "Customer ID\n",
              "EP-13915    17\n",
              "SH-19975    13\n",
              "NS-18640    13\n",
              "PG-18820    13\n",
              "ZC-21910    13\n",
              "            ..\n",
              "SM-20905     1\n",
              "PH-18790     1\n",
              "MG-18205     1\n",
              "CJ-11875     1\n",
              "LD-16855     1\n",
              "Name: Order ID, Length: 793, dtype: int64"
            ],
            "text/html": [
              "<div>\n",
              "<style scoped>\n",
              "    .dataframe tbody tr th:only-of-type {\n",
              "        vertical-align: middle;\n",
              "    }\n",
              "\n",
              "    .dataframe tbody tr th {\n",
              "        vertical-align: top;\n",
              "    }\n",
              "\n",
              "    .dataframe thead th {\n",
              "        text-align: right;\n",
              "    }\n",
              "</style>\n",
              "<table border=\"1\" class=\"dataframe\">\n",
              "  <thead>\n",
              "    <tr style=\"text-align: right;\">\n",
              "      <th></th>\n",
              "      <th>Order ID</th>\n",
              "    </tr>\n",
              "    <tr>\n",
              "      <th>Customer ID</th>\n",
              "      <th></th>\n",
              "    </tr>\n",
              "  </thead>\n",
              "  <tbody>\n",
              "    <tr>\n",
              "      <th>EP-13915</th>\n",
              "      <td>17</td>\n",
              "    </tr>\n",
              "    <tr>\n",
              "      <th>SH-19975</th>\n",
              "      <td>13</td>\n",
              "    </tr>\n",
              "    <tr>\n",
              "      <th>NS-18640</th>\n",
              "      <td>13</td>\n",
              "    </tr>\n",
              "    <tr>\n",
              "      <th>PG-18820</th>\n",
              "      <td>13</td>\n",
              "    </tr>\n",
              "    <tr>\n",
              "      <th>ZC-21910</th>\n",
              "      <td>13</td>\n",
              "    </tr>\n",
              "    <tr>\n",
              "      <th>...</th>\n",
              "      <td>...</td>\n",
              "    </tr>\n",
              "    <tr>\n",
              "      <th>SM-20905</th>\n",
              "      <td>1</td>\n",
              "    </tr>\n",
              "    <tr>\n",
              "      <th>PH-18790</th>\n",
              "      <td>1</td>\n",
              "    </tr>\n",
              "    <tr>\n",
              "      <th>MG-18205</th>\n",
              "      <td>1</td>\n",
              "    </tr>\n",
              "    <tr>\n",
              "      <th>CJ-11875</th>\n",
              "      <td>1</td>\n",
              "    </tr>\n",
              "    <tr>\n",
              "      <th>LD-16855</th>\n",
              "      <td>1</td>\n",
              "    </tr>\n",
              "  </tbody>\n",
              "</table>\n",
              "<p>793 rows × 1 columns</p>\n",
              "</div><br><label><b>dtype:</b> int64</label>"
            ]
          },
          "metadata": {},
          "execution_count": 54
        }
      ]
    },
    {
      "cell_type": "code",
      "source": [
        "# --- Question 41: find customers who placed only 1 order ---\n",
        "df.groupby('Customer ID')['Order ID'].nunique()"
      ],
      "metadata": {
        "colab": {
          "base_uri": "https://localhost:8080/",
          "height": 489
        },
        "id": "8osAZRCNuoJx",
        "outputId": "b6e529f2-cf34-4e07-eeb6-e9426927504a"
      },
      "execution_count": 55,
      "outputs": [
        {
          "output_type": "execute_result",
          "data": {
            "text/plain": [
              "Customer ID\n",
              "AA-10315     5\n",
              "AA-10375     9\n",
              "AA-10480     4\n",
              "AA-10645     6\n",
              "AB-10015     3\n",
              "            ..\n",
              "XP-21865    11\n",
              "YC-21895     5\n",
              "YS-21880     8\n",
              "ZC-21910    13\n",
              "ZD-21925     5\n",
              "Name: Order ID, Length: 793, dtype: int64"
            ],
            "text/html": [
              "<div>\n",
              "<style scoped>\n",
              "    .dataframe tbody tr th:only-of-type {\n",
              "        vertical-align: middle;\n",
              "    }\n",
              "\n",
              "    .dataframe tbody tr th {\n",
              "        vertical-align: top;\n",
              "    }\n",
              "\n",
              "    .dataframe thead th {\n",
              "        text-align: right;\n",
              "    }\n",
              "</style>\n",
              "<table border=\"1\" class=\"dataframe\">\n",
              "  <thead>\n",
              "    <tr style=\"text-align: right;\">\n",
              "      <th></th>\n",
              "      <th>Order ID</th>\n",
              "    </tr>\n",
              "    <tr>\n",
              "      <th>Customer ID</th>\n",
              "      <th></th>\n",
              "    </tr>\n",
              "  </thead>\n",
              "  <tbody>\n",
              "    <tr>\n",
              "      <th>AA-10315</th>\n",
              "      <td>5</td>\n",
              "    </tr>\n",
              "    <tr>\n",
              "      <th>AA-10375</th>\n",
              "      <td>9</td>\n",
              "    </tr>\n",
              "    <tr>\n",
              "      <th>AA-10480</th>\n",
              "      <td>4</td>\n",
              "    </tr>\n",
              "    <tr>\n",
              "      <th>AA-10645</th>\n",
              "      <td>6</td>\n",
              "    </tr>\n",
              "    <tr>\n",
              "      <th>AB-10015</th>\n",
              "      <td>3</td>\n",
              "    </tr>\n",
              "    <tr>\n",
              "      <th>...</th>\n",
              "      <td>...</td>\n",
              "    </tr>\n",
              "    <tr>\n",
              "      <th>XP-21865</th>\n",
              "      <td>11</td>\n",
              "    </tr>\n",
              "    <tr>\n",
              "      <th>YC-21895</th>\n",
              "      <td>5</td>\n",
              "    </tr>\n",
              "    <tr>\n",
              "      <th>YS-21880</th>\n",
              "      <td>8</td>\n",
              "    </tr>\n",
              "    <tr>\n",
              "      <th>ZC-21910</th>\n",
              "      <td>13</td>\n",
              "    </tr>\n",
              "    <tr>\n",
              "      <th>ZD-21925</th>\n",
              "      <td>5</td>\n",
              "    </tr>\n",
              "  </tbody>\n",
              "</table>\n",
              "<p>793 rows × 1 columns</p>\n",
              "</div><br><label><b>dtype:</b> int64</label>"
            ]
          },
          "metadata": {},
          "execution_count": 55
        }
      ]
    },
    {
      "cell_type": "code",
      "source": [
        "# --- Question 43: total number of states represented ---\n",
        "df['State'].nunique()"
      ],
      "metadata": {
        "colab": {
          "base_uri": "https://localhost:8080/"
        },
        "id": "DgolvsjJun7R",
        "outputId": "3fad5351-3c6f-4168-9232-48b8bc3a44ac"
      },
      "execution_count": 57,
      "outputs": [
        {
          "output_type": "execute_result",
          "data": {
            "text/plain": [
              "49"
            ]
          },
          "metadata": {},
          "execution_count": 57
        }
      ]
    },
    {
      "cell_type": "code",
      "source": [
        "# --- Question 44: total number of cities represented ---\n",
        "df['City'].nunique()"
      ],
      "metadata": {
        "id": "cvFGpgBdwfmN",
        "colab": {
          "base_uri": "https://localhost:8080/"
        },
        "outputId": "5b079ba8-0e19-4cde-fcd0-60221bedec62"
      },
      "execution_count": 58,
      "outputs": [
        {
          "output_type": "execute_result",
          "data": {
            "text/plain": [
              "531"
            ]
          },
          "metadata": {},
          "execution_count": 58
        }
      ]
    },
    {
      "cell_type": "code",
      "source": [
        "# --- Question 45: number of orders placed from California ---\n",
        "df.loc[df['State'].str.lower() == 'california', 'Order ID'].nunique()"
      ],
      "metadata": {
        "colab": {
          "base_uri": "https://localhost:8080/"
        },
        "id": "tXLfZFuVwfor",
        "outputId": "dc2cbb51-976e-43b8-8e3a-d35c768b5c9b"
      },
      "execution_count": 59,
      "outputs": [
        {
          "output_type": "execute_result",
          "data": {
            "text/plain": [
              "1021"
            ]
          },
          "metadata": {},
          "execution_count": 59
        }
      ]
    },
    {
      "cell_type": "code",
      "source": [
        "# --- Question 46: number of orders placed from New York ---\n",
        "df.loc[df['State'].str.lower() == 'new york', 'Order ID'].nunique()"
      ],
      "metadata": {
        "colab": {
          "base_uri": "https://localhost:8080/"
        },
        "id": "BLj4_UsrwfrF",
        "outputId": "f4d66fa7-be4b-4ffe-aba8-82d949c7cbd8"
      },
      "execution_count": 60,
      "outputs": [
        {
          "output_type": "execute_result",
          "data": {
            "text/plain": [
              "562"
            ]
          },
          "metadata": {},
          "execution_count": 60
        }
      ]
    },
    {
      "cell_type": "code",
      "source": [
        "# --- Question 47: number of orders placed from Texas ---\n",
        "df.loc[df['State'].str.lower() == 'texas', 'Order ID'].nunique()"
      ],
      "metadata": {
        "colab": {
          "base_uri": "https://localhost:8080/"
        },
        "id": "Nt3Vid_nwfuP",
        "outputId": "3ff432d5-3cfc-471f-c646-46cfe66ebad2"
      },
      "execution_count": 61,
      "outputs": [
        {
          "output_type": "execute_result",
          "data": {
            "text/plain": [
              "487"
            ]
          },
          "metadata": {},
          "execution_count": 61
        }
      ]
    },
    {
      "cell_type": "code",
      "source": [
        "# --- Question 48: number of orders placed from Florida ---\n",
        "df.loc[df['State'].str.lower() == 'florida', 'Order ID'].nunique()"
      ],
      "metadata": {
        "colab": {
          "base_uri": "https://localhost:8080/"
        },
        "id": "Zlx65XAWwfxM",
        "outputId": "6efc2fd7-972c-426a-cb7e-fa2e994c2091"
      },
      "execution_count": 62,
      "outputs": [
        {
          "output_type": "execute_result",
          "data": {
            "text/plain": [
              "200"
            ]
          },
          "metadata": {},
          "execution_count": 62
        }
      ]
    }
  ]
}