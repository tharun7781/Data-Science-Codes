{
  "metadata": {
    "kernelspec": {
      "name": "xpython",
      "display_name": "Python 3.13 (XPython)",
      "language": "python"
    },
    "language_info": {
      "file_extension": ".py",
      "mimetype": "text/x-python",
      "name": "python",
      "version": "3.13.1"
    }
  },
  "nbformat_minor": 5,
  "nbformat": 4,
  "cells": [
    {
      "id": "37b3b9f5-28ff-4062-85b2-c0832dc89c72",
      "cell_type": "code",
      "source": "# Basic Examples\n#Exception Handling\n#1. Write a program to handle division by zero using try-except.\ntry:\n    number = int(input(\"Enter the number:\"))\n    print(1/number)\nexcept ZeroDivisionError:\n        print(\"Division is not possible Idilot\")",
      "metadata": {
        "trusted": true
      },
      "outputs": [
        {
          "output_type": "stream",
          "name": "stdin",
          "text": "Enter the number: 0\n"
        },
        {
          "name": "stdout",
          "output_type": "stream",
          "text": "Division is not possible Idilot\n"
        }
      ],
      "execution_count": 11
    },
    {
      "id": "affcce0f-622e-4436-9a2e-74e42f152c1d",
      "cell_type": "code",
      "source": "# 2. Handle invalid user input (string instead of number)\ntry:\n    number = int(input(\"Enter the number:\"))\n    print(1/number)\nexcept ValueError:\n    print(\"Please enter Numbers only\",)",
      "metadata": {
        "trusted": true
      },
      "outputs": [
        {
          "output_type": "stream",
          "name": "stdin",
          "text": "Enter the number: pixxa\n"
        },
        {
          "name": "stdout",
          "output_type": "stream",
          "text": "Please enter Numbers only\n"
        }
      ],
      "execution_count": 81
    },
    {
      "id": "01fb1fd8-75f3-4bad-b74e-defb641d4f26",
      "cell_type": "code",
      "source": "# 3. Catch IndexError when accessing a list element\nList = [10,20,30,40]\ntry:\n    index=int(input(\"Enter the number\"))\n    print(\"indexelement:\",List[index])\nexcept IndexError:\n    print(\"Out of range\")\n",
      "metadata": {
        "trusted": true
      },
      "outputs": [
        {
          "output_type": "stream",
          "name": "stdin",
          "text": "Enter the number 3\n"
        },
        {
          "name": "stdout",
          "output_type": "stream",
          "text": "indexelement: 40\n"
        }
      ],
      "execution_count": 43
    },
    {
      "id": "88ae7f81-08d1-48fa-9c48-431acd2b5528",
      "cell_type": "code",
      "source": "# 4.Write a program to open a file and handle FileNotFoundError.\ntry:\n    with open(\"sample.txt\", \"r\") as f:\n      content = f.read()\n    print(content)\nexcept FileNotFoundError:\n    print(\"Not Found\")\n",
      "metadata": {
        "trusted": true,
        "scrolled": true
      },
      "outputs": [
        {
          "name": "stdout",
          "output_type": "stream",
          "text": "Not Found\n"
        }
      ],
      "execution_count": 80
    },
    {
      "id": "7c1ada0b-ab81-43a6-80d1-b923d8fd9434",
      "cell_type": "code",
      "source": "# 5.Write a program that handles multiple exceptions (ZeroDivisionError, ValueError). \ntry:\n    number = int(input(\"Enter the number:\"))\n    print(1/number)\nexcept ZeroDivisionError:\n        print(\"Division is not possible Idilot\")\nexcept ValueError:\n    print(\"Please enter Numbers only\",)",
      "metadata": {
        "trusted": true
      },
      "outputs": [],
      "execution_count": null
    },
    {
      "id": "63568945-2aba-4e97-a812-294a1cf90fa5",
      "cell_type": "code",
      "source": "# 6.Write a program using try-except-else to check if a number is even.\nimport math\ntry:\n    number = int(input(\"Enter the number:\"))\n    print(\"Even:\", number%2==0)\nexcept odd:\n    print(\"Sorry is an odd number\")\nelse:\n    print(\"hey stupid is absolutely correct \")\n    ",
      "metadata": {
        "trusted": true
      },
      "outputs": [
        {
          "output_type": "stream",
          "name": "stdin",
          "text": "Enter the number: 7\n"
        },
        {
          "name": "stdout",
          "output_type": "stream",
          "text": "Even: False\nhey stupid is absolutely correct \n"
        }
      ],
      "execution_count": 97
    },
    {
      "id": "78337dd0-506f-41b6-ba39-f44d1911c4f9",
      "cell_type": "code",
      "source": "# 7.Write a program with finally block to always display \"Execution Completed\".\ntry:\n    number = int(input(\"Enter the number:\"))\n    print(1/number)\nexcept ZeroDivisionError:\n        print(\"Division is not possible Idilot\")\nexcept ValueError:\n    print(\"Please enter Numbers only\",)\nfinally:\n    print(\"Execution Completed\")\n",
      "metadata": {
        "trusted": true
      },
      "outputs": [
        {
          "output_type": "stream",
          "name": "stdin",
          "text": "Enter the number: 2\n"
        },
        {
          "name": "stdout",
          "output_type": "stream",
          "text": "0.5\nExecution Completed\n"
        }
      ],
      "execution_count": 98
    },
    {
      "id": "aecdeac6-b79f-42a7-ae06-1c5a3863bb99",
      "cell_type": "code",
      "source": "# 8.Write a program to demonstrate nested try-except blocks.\ntry:\n    number = int(input(\"Enter the number:\"))\n    print(\"Inverse:\",1/number)\nexcept ZeroDivisionError:\n        print(\"Division is not possible Idilot\")\nexcept ValueError:\n    print(\"Value type error\")",
      "metadata": {
        "trusted": true
      },
      "outputs": [
        {
          "output_type": "stream",
          "name": "stdin",
          "text": "Enter the number: pizza\n"
        },
        {
          "name": "stdout",
          "output_type": "stream",
          "text": "Value type error\n"
        }
      ],
      "execution_count": 110
    },
    {
      "id": "a729f145-85a3-4c7b-86f7-2bef2283a092",
      "cell_type": "code",
      "source": "# 9.Write a program that asks for two numbers and handles both division and conversion errors.\ntry:\n    num1 = int(input(\"Enter the numerator:\"))\n    num2 = int(input(\"Enter the denominator:\"))\n    print(\"Inversion:\",num1/num2)\nexcept ZeroDivisionError:\n    print(\"zero is not divisible by the numerator:\")\nexcept ValueError:\n    print(\"The value that Encounters an ValueType error\")",
      "metadata": {
        "trusted": true
      },
      "outputs": [
        {
          "output_type": "stream",
          "name": "stdin",
          "text": "Enter the numerator: 2\nEnter the denominator: w\n"
        },
        {
          "name": "stdout",
          "output_type": "stream",
          "text": "The value that Encounters an ValueType error\n"
        }
      ],
      "execution_count": 120
    },
    {
      "id": "c4da8287-6874-4870-9ad9-a5dea4ff8e9a",
      "cell_type": "code",
      "source": "# 10.Write a program that raises and handles a TypeError.\ntry:\n    X=\"Hello\"\n    Y=5\n    if isinstance(X,str) and isinstance(Y,int):\n        raise TypeError(\"Cannot add the string directly to Integer\")\n    print(X+Y)\nexcept TypeError as e:\n    print(\"Caught Error:\",e)\n",
      "metadata": {
        "trusted": true
      },
      "outputs": [
        {
          "name": "stdout",
          "output_type": "stream",
          "text": "Caught Error: Cannot add the string directly to Integer\n"
        }
      ],
      "execution_count": 123
    },
    {
      "id": "499a523c-f16c-49da-bee1-e080232abd08",
      "cell_type": "code",
      "source": "# Intermediate Level\n# 11. Write a function to withdraw money and raise an exception if balance < withdrawal.\ndef withdrawal():\n    try:\n        balance =10000\n        withdrawal=int(input(\"Please Enter the Amount:\"))\n        if balance < withdrawal:\n            raise Exception(\"payment declined\")\n        else:\n            balance -= withdrawal\n            print(\"Successfully withdrawal\")\n            return balance\n    except Exception as e:\n        print(\"Error:\", e)\nwithdrawal()",
      "metadata": {
        "trusted": true
      },
      "outputs": [
        {
          "output_type": "stream",
          "name": "stdin",
          "text": "Please Enter the Amount: 2000\n"
        },
        {
          "name": "stdout",
          "output_type": "stream",
          "text": "Successfully withdrawal\n"
        },
        {
          "execution_count": 179,
          "output_type": "execute_result",
          "data": {
            "text/plain": "8000"
          },
          "metadata": {}
        }
      ],
      "execution_count": 179
    },
    {
      "id": "8760ef97-2361-4864-a5ac-1a1065acfdbb",
      "cell_type": "code",
      "source": "# 12.Write a function that validates age and raises an exception if age < 18\ndef age():\n    try:\n        age= int(input(\"enter your age:\"))\n        if age>=18:\n            print(\"it's a valid age\")\n        else:\n            print(\"it's a invalid age\")\n            raise Exception(\"raises an exception  age < 18\")\n    except Exception as e:\n        print(\"Error\",e)\nage()\n",
      "metadata": {
        "trusted": true
      },
      "outputs": [
        {
          "output_type": "stream",
          "name": "stdin",
          "text": "enter your age: 10\n"
        },
        {
          "name": "stdout",
          "output_type": "stream",
          "text": "it's a invalid age\nError raises an exception  age < 18\n"
        }
      ],
      "execution_count": 199
    },
    {
      "id": "328be662-19fc-42c4-be2a-b0cc88ce3927",
      "cell_type": "code",
      "source": "# 13.Write a program to validate email format and raise a custom exception.\ndef validateemailformat():\n    try:\n        email= str(input(\"enter the email:\"))\n        if '@'  in email or '.'  in email :\n            print(\"is an Valid email\")\n        else:\n            print(\"Invalid email\")\n            raise Exception(\"email is not in format\")\n    except Exception as e:\n        print(\"invalid format\",e)\nvalidateemailformat()",
      "metadata": {
        "trusted": true
      },
      "outputs": [
        {
          "output_type": "stream",
          "name": "stdin",
          "text": "enter the email: abc@gmail.com\n"
        },
        {
          "name": "stdout",
          "output_type": "stream",
          "text": "is an Valid email\n"
        }
      ],
      "execution_count": 209
    },
    {
      "id": "024e4adf-e790-4023-b770-36246e9adb48",
      "cell_type": "code",
      "source": "# 14.Write a custom exception NegativeNumberError and use it in a square root function.\nimport math\nclass NegativeNumberError(Exception):\n    pass\ndef squareroot():\n    try:\n        num=int(input(\"Enter the Number:\"))\n        if  num<0:\n            print(\"Negative Answer\")\n            raise NegativeNumberError(\"Exception NegativeNumberError\")\n        else:\n            print(\"Square root:\",math.sqrt(num))\n    except NegativeNumberError as e:\n        print(\"Custom Exception raised:\",e)\n    except Exception as e:\n        print(\"some other error\",e)\n        \nsquareroot()\n\n        \n        \n        \n",
      "metadata": {
        "trusted": true
      },
      "outputs": [
        {
          "output_type": "stream",
          "name": "stdin",
          "text": "Enter the Number: -99\n"
        },
        {
          "name": "stdout",
          "output_type": "stream",
          "text": "Negative Answer\nCustom Exception raised: Exception NegativeNumberError\n"
        }
      ],
      "execution_count": 242
    },
    {
      "id": "13d7ebd2-e88a-4221-92aa-14960f4a5079",
      "cell_type": "code",
      "source": "# 15. Custom exception InsufficientFundsError in banking system\nclass InsufficientFundsError(Exception):\n    pass\n\ndef transfer(balance, amount):\n    if amount > balance:\n        raise InsufficientFundsError(\"Not enough funds for this transfer\")\n    print(\"Transfer successful!\")\n\ntry:\n    transfer(500, 1000)\nexcept InsufficientFundsError as e:\n    print(\"Error:\", e)\n",
      "metadata": {
        "trusted": true
      },
      "outputs": [
        {
          "name": "stdout",
          "output_type": "stream",
          "text": "Error: Not enough funds for this transfer\n"
        }
      ],
      "execution_count": 243
    },
    {
      "id": "dc369656-6c64-4957-9a0e-f52c1db606ff",
      "cell_type": "code",
      "source": "# 16.Handle exceptions while parsing JSON\nimport json\n\ndata = '{ \"name\": \"John\", \"age\": 30 }'  # valid JSON\n\ntry:\n    parsed = json.loads(data)\n    print(\"JSON parsed:\", parsed)\nexcept json.JSONDecodeError as e:\n    print(\"Invalid JSON:\", e)\n",
      "metadata": {
        "trusted": true
      },
      "outputs": [
        {
          "name": "stdout",
          "output_type": "stream",
          "text": "JSON parsed: {'name': 'John', 'age': 30}\n"
        }
      ],
      "execution_count": 244
    },
    {
      "id": "323ca2b2-d0ba-44af-ae84-97bf3b2055b0",
      "cell_type": "code",
      "source": "# 17. Retry dividing two numbers 3 times if an error occurs\ndef safe_divide(a, b):\n    attempts = 3\n    while attempts > 0:\n        try:\n            return a / b\n        except ZeroDivisionError:\n            print(\"Division by zero! Try again.\")\n            attempts -= 1\n            b = int(input(\"Enter new divisor: \"))\n    raise Exception(\"Failed after 3 attempts\")\n\n# Example\ntry:\n    result = safe_divide(10, 0)\n    print(\"Result:\", result)\nexcept Exception as e:\n    print(\"Error:\", e)\n",
      "metadata": {
        "trusted": true
      },
      "outputs": [
        {
          "name": "stdout",
          "output_type": "stream",
          "text": "Division by zero! Try again.\n"
        },
        {
          "output_type": "stream",
          "name": "stdin",
          "text": "Enter new divisor:  2\n"
        },
        {
          "name": "stdout",
          "output_type": "stream",
          "text": "Result: 5.0\n"
        }
      ],
      "execution_count": 245
    },
    {
      "id": "41c39996-f17c-4cef-ba65-4d16ce93465e",
      "cell_type": "code",
      "source": "# 18.Assert positive numbers and handle AssertionError\ndef check_positive(num):\n    assert num > 0, \"Number must be positive\"\n    print(\"Number is positive!\")\n\ntry:\n    check_positive(-5)\nexcept AssertionError as e:\n    print(\"Error:\", e)\n",
      "metadata": {
        "trusted": true
      },
      "outputs": [],
      "execution_count": null
    },
    {
      "id": "649b3724-adc6-4b26-b6c3-d0d8eb217530",
      "cell_type": "code",
      "source": "# 19. Log exceptions to a file using logging module\nimport logging\n\nlogging.basicConfig(filename=\"errors.log\", level=logging.ERROR)\n\ntry:\n    x = 10 / 0\nexcept Exception as e:\n    logging.error(\"Error occurred: %s\", e)\n    print(\"Error logged to file\")\n",
      "metadata": {
        "trusted": true
      },
      "outputs": [
        {
          "name": "stdout",
          "output_type": "stream",
          "text": "Error logged to file\n"
        }
      ],
      "execution_count": 246
    },
    {
      "id": "0f89e117-6179-43c4-9848-c43e9a80df25",
      "cell_type": "code",
      "source": "# 20.Raise multiple custom exceptions (InvalidPasswordError, InvalidUsernameError)\nclass InvalidUsernameError(Exception):\n    pass\n\nclass InvalidPasswordError(Exception):\n    pass\n\ndef login(username, password):\n    if username != \"admin\":\n        raise InvalidUsernameError(\"Invalid Username\")\n    if password != \"1234\":\n        raise InvalidPasswordError(\"Invalid Password\")\n    print(\"Login successful!\")\n\ntry:\n    login(\"user\", \"wrongpass\")\nexcept (InvalidUsernameError, InvalidPasswordError) as e:\n    print(\"Error:\", e)",
      "metadata": {
        "trusted": true
      },
      "outputs": [
        {
          "name": "stdout",
          "output_type": "stream",
          "text": "Error: Invalid Username\n"
        }
      ],
      "execution_count": 247
    },
    {
      "id": "b509994a-6da5-43a9-9139-7ae0b8121fdb",
      "cell_type": "code",
      "source": "   ###   Advanced Level\n# 21.Write a program that demonstrates exception propagation across multiple functions.\ndef fun1():\n    raise ZeroDivisionError(\"Zero is not divisible in fun3()\")\ndef fun2():\n    fun1()\n\ndef fun3():\n    try:\n        fun2()\n    except ZeroDivisionError as e:\n        print(\"Caught Error:\",e)\nfun3()\n \n",
      "metadata": {
        "trusted": true
      },
      "outputs": [
        {
          "name": "stdout",
          "output_type": "stream",
          "text": "Caught Error: Zero is not divisible in fun3()\n"
        }
      ],
      "execution_count": 257
    },
    {
      "id": "f8f7b80b-fc68-42e0-9cad-16c9dd946b81",
      "cell_type": "code",
      "source": "# 22. Write a program using exception chaining (raise ... from ...). \ntry:\n    try:\n        int(\"abc\")  # ValueError\n    except ValueError as e:\n        raise RuntimeError(\"Conversion failed\") from e\nexcept RuntimeError as e:\n    print(\"Chained exception:\", e)\n\n",
      "metadata": {
        "trusted": true
      },
      "outputs": [
        {
          "name": "stdout",
          "output_type": "stream",
          "text": "Chained exception: Conversion failed\n"
        }
      ],
      "execution_count": 274
    },
    {
      "id": "c46b8a7a-2bbb-4ba3-8a38-db3189fb388f",
      "cell_type": "code",
      "source": "## 23.Write a program that simulates database connection and raises custom exceptions.\nclass databaseconnectionError(Exception):\n    pass\ndef connect_to_db():\n    raise databaseconnectionError(\"Unable to connect db\")\ntry:\n    connect_to_db()\nexcept databaseconnectionError as e:\n    print(\"Caught the error:\",e)\n\n",
      "metadata": {
        "trusted": true
      },
      "outputs": [
        {
          "name": "stdout",
          "output_type": "stream",
          "text": "Caught the error: Unable to connect db\n"
        }
      ],
      "execution_count": 287
    },
    {
      "id": "f5d3b603-4e10-4dc6-b9a1-3b3833ff411a",
      "cell_type": "code",
      "source": "## 24.Write a program that reads from a file using with statement and handles errors.\ntry:\n    with open(\"sample.txt\", \"r\") as f:\n      content = f.read()\n    print(content)\nexcept FileNotFoundError:\n    print(\"Not Found\")\n    \n",
      "metadata": {
        "trusted": true
      },
      "outputs": [
        {
          "name": "stdout",
          "output_type": "stream",
          "text": "Not Found\n"
        }
      ],
      "execution_count": 289
    },
    {
      "id": "8be0bd7e-ff47-4f7e-bb5e-40c389163e0e",
      "cell_type": "code",
      "source": "# 25 Skip bad rows in CSV\nimport csv\n\n# Create a test CSV file\nwith open(\"sample.csv\", \"w\", newline=\"\") as f:\n    writer = csv.writer(f)\n    writer.writerow([10, 20])\n    writer.writerow([5, \"abc\"])   # bad row\n    writer.writerow([30, 40])\n\n# Now read and skip bad rows\nwith open(\"sample.csv\", \"r\") as f:\n    reader = csv.reader(f)\n    for row in reader:\n        try:\n            print(int(row[0]) + int(row[1]))\n        except Exception:\n            print(\"Skipping bad row:\", row)\n",
      "metadata": {
        "trusted": true
      },
      "outputs": [
        {
          "name": "stdout",
          "output_type": "stream",
          "text": "30\nSkipping bad row: ['5', 'abc']\n70\n"
        }
      ],
      "execution_count": 294
    },
    {
      "id": "830c2bdc-6c5f-470a-9b47-95cc5e1d0fd7",
      "cell_type": "code",
      "source": "# 26.Handle timeout error with requests\nimport socket\ntry:\n    # Trying to connect to an unreachable private IP\n    # This will trigger a timeout\n    socket.create_connection((\"10.255.255.1\", 80), timeout=2)\n    print(\"Connected successfully\")\nexcept socket.timeout:\n    print(\"Timeout error caught!\")\nexcept OSError as e:\n    print(\"Connection failed:\", e)\n",
      "metadata": {
        "trusted": true
      },
      "outputs": [
        {
          "name": "stdout",
          "output_type": "stream",
          "text": "Connection failed: [Errno 23] Host is unreachable\n"
        }
      ],
      "execution_count": 300
    },
    {
      "id": "357bfbad-497e-4586-8d27-9b1c743d6972",
      "cell_type": "code",
      "source": "# 27.Recursive factorial with exception handling\ndef factorial(n):\n    if n < 0:\n        raise ValueError(\"Negative not allowed\")\n    return 1 if n == 0 else n * factorial(n-1)\n\ntry:\n    print(factorial(-5))\nexcept ValueError as e:\n    print(\"Error:\", e)",
      "metadata": {
        "trusted": true
      },
      "outputs": [
        {
          "name": "stdout",
          "output_type": "stream",
          "text": "Error: Negative not allowed\n"
        }
      ],
      "execution_count": 302
    },
    {
      "id": "8d4cce89-667f-46c5-ac16-5389c8a16a17",
      "cell_type": "code",
      "source": "# 28.Simulate transaction rollback\nclass InsufficientFunds(Exception): pass\n\ndef transfer(balance, amount):\n    if amount > balance:\n        raise InsufficientFunds(\"Rollback: Not enough balance\")\n    return balance - amount\n\ntry:\n    print(\"New balance:\", transfer(1000, 2000))\nexcept InsufficientFunds as e:\n    print(e)",
      "metadata": {
        "trusted": true
      },
      "outputs": [
        {
          "name": "stdout",
          "output_type": "stream",
          "text": "Rollback: Not enough balance\n"
        }
      ],
      "execution_count": 303
    },
    {
      "id": "82f59c14-8ae5-45ed-9d15-ebfb5a08cef5",
      "cell_type": "code",
      "source": "### 29.Validate credit card numbers\nclass InvalidCardError(Exception): pass\n\ndef validate(card):\n    if len(card) != 16 or not card.isdigit():\n        raise InvalidCardError(\"Invalid card number\")\n    print(\"Valid card\")\n\ntry:\n    validate(\"12345abc\")\nexcept InvalidCardError as e:\n    print(\"Error:\", e)",
      "metadata": {
        "trusted": true
      },
      "outputs": [
        {
          "name": "stdout",
          "output_type": "stream",
          "text": "Error: Invalid card number\n"
        }
      ],
      "execution_count": 304
    },
    {
      "id": "9b7d7e21-af16-4dda-acef-a91c6af4fdc6",
      "cell_type": "code",
      "source": "## 30.Raise exception if memory too high\nclass MemoryLimitError(Exception):\n    pass\n\ndef check_memory_usage(usage, threshold=80):\n    if usage > threshold:\n        raise MemoryLimitError(f\"Memory usage {usage}% exceeded threshold of {threshold}%\")\n    else:\n        print(f\"Memory usage {usage}% is within safe limits\")\n\ntry:\n    # Simulated usage (you can change this number to test)\n    usage = 85  \n    check_memory_usage(usage)\nexcept MemoryLimitError as e:\n    print(\"Custom Exception:\", e)",
      "metadata": {
        "trusted": true
      },
      "outputs": [
        {
          "name": "stdout",
          "output_type": "stream",
          "text": "Custom Exception: Memory usage 85% exceeded threshold of 80%\n"
        }
      ],
      "execution_count": 310
    },
    {
      "id": "b5efdb91-369e-4522-a908-5ca3ad86c8c5",
      "cell_type": "code",
      "source": "####   Advanced Custom Exceptions\n###  31. Write a program to create a hierarchy of custom exceptions for banking (BankError, InsufficientFunds, InvalidAccount).\n# Custom Exception Hierarchy for Banking\n\nclass BankError(Exception): pass\nclass InsufficientFunds(BankError): pass\nclass InvalidAccount(BankError): pass\n\ndef withdraw(balance, amount):\n    if balance < amount:\n        raise InsufficientFunds(\"Not enough balance\")\n    print(\"Withdrawal successful\")\n\ntry:\n    withdraw(500, 1000)\nexcept InsufficientFunds as e:\n    print(\"Bank Error:\", e)\n\n",
      "metadata": {
        "trusted": true
      },
      "outputs": [
        {
          "name": "stdout",
          "output_type": "stream",
          "text": "Bank Error: Not enough balance\n"
        }
      ],
      "execution_count": 311
    },
    {
      "id": "0a634ac7-3cf2-4b23-a2ad-e8836a067e21",
      "cell_type": "code",
      "source": "### 32. Weak Password\n# Weak Password Exception\n\nclass WeakPasswordError(Exception): pass\n\ndef check_password(pwd):\n    if len(pwd) < 6 or pwd.isalpha() or pwd.isdigit():\n        raise WeakPasswordError(\"Password is too weak!\")\n    print(\"Password is strong\")\n\ntry:\n    check_password(\"abc123\")\nexcept WeakPasswordError as e:\n    print(\"Error:\", e)",
      "metadata": {
        "trusted": true
      },
      "outputs": [
        {
          "name": "stdout",
          "output_type": "stream",
          "text": "Password is strong\n"
        }
      ],
      "execution_count": 312
    },
    {
      "id": "2da08b68-4048-4b41-bd99-80bfdfea550f",
      "cell_type": "code",
      "source": "## 33. Write a program that handles multiple custom exceptions in an e-commerce system (OutOfStockError, PaymentFailedError).\nclass OutOfStockError(Exception): pass\nclass PaymentFailedError(Exception): pass\n\ndef buy_item(stock, payment_success):\n    if stock <= 0:\n        raise OutOfStockError(\"Item is out of stock\")\n    if not payment_success:\n        raise PaymentFailedError(\"Payment failed\")\n    print(\"Order placed successfully\")\n\ntry:\n    print(\"\\nQ3. E-commerce Exceptions\")\n    buy_item(0, True)\nexcept (OutOfStockError, PaymentFailedError) as e:\n    print(\"Order Error:\", e)",
      "metadata": {
        "trusted": true
      },
      "outputs": [
        {
          "name": "stdout",
          "output_type": "stream",
          "text": "\nQ3. E-commerce Exceptions\nOrder Error: Item is out of stock\n"
        }
      ],
      "execution_count": 313
    },
    {
      "id": "e0104b51-d942-437c-9be4-21bef9647d33",
      "cell_type": "code",
      "source": "## 34. Write a program to simulate exception handling in machine learning model training (skip invalid rows).\nprint(\"\\nQ4. ML Training – Skip Invalid Rows\")\ndata = [\"5\", \"10\", \"abc\", \"20\"]\ncleaned = []\nfor row in data:\n    try:\n        cleaned.append(int(row))\n    except ValueError:\n        print(\"Skipping invalid row:\", row)\nprint(\"Cleaned data:\", cleaned)",
      "metadata": {
        "trusted": true
      },
      "outputs": [
        {
          "name": "stdout",
          "output_type": "stream",
          "text": "\nQ4. ML Training – Skip Invalid Rows\nSkipping invalid row: abc\nCleaned data: [5, 10, 20]\n"
        }
      ],
      "execution_count": 314
    },
    {
      "id": "86e1d405-b9ba-4f4d-bc3d-de86cde5f085",
      "cell_type": "code",
      "source": "## 35. Write a program that raises exceptions if missing values are detected in a dataset.\nclass MissingValueError(Exception): pass\n\ndef check_dataset(dataset):\n    if None in dataset:\n        raise MissingValueError(\"Dataset has missing values!\")\n    print(\"Dataset is clean\")\n\ntry:\n    print(\"\\nQ5. Missing Values in Dataset\")\n    check_dataset([1, 2, None, 4])\nexcept MissingValueError as e:\n    print(\"Error:\", e)",
      "metadata": {
        "trusted": true
      },
      "outputs": [
        {
          "name": "stdout",
          "output_type": "stream",
          "text": "\nQ5. Missing Values in Dataset\nError: Dataset has missing values!\n"
        }
      ],
      "execution_count": 315
    },
    {
      "id": "8290cc05-16ce-45ba-a55e-2b35169d56d4",
      "cell_type": "code",
      "source": "## 36. Write a program that handles exceptions while saving a model to disk.\nprint(\"\\nQ6. Saving Model to Disk\")\ntry:\n    with open(\"model.pkl\", \"w\") as f:\n        raise IOError(\"Disk write failed\")\nexcept IOError as e:\n    print(\"Save Error:\", e)",
      "metadata": {
        "trusted": true
      },
      "outputs": [
        {
          "name": "stdout",
          "output_type": "stream",
          "text": "\nQ6. Saving Model to Disk\nSave Error: Disk write failed\n"
        }
      ],
      "execution_count": 316
    },
    {
      "id": "4250762b-749a-4b97-bf32-0580779919f9",
      "cell_type": "code",
      "source": "## 38.print(\"\\nQ8. Global Exception Handler\")\nimport sys\n\ndef global_handler(exctype, value, traceback):\n    print(\"Global Exception Caught:\", value)\n\nsys.excepthook = global_handler",
      "metadata": {
        "trusted": true
      },
      "outputs": [],
      "execution_count": 320
    },
    {
      "id": "9db2a382-f479-4f5a-97fa-68cba26e902b",
      "cell_type": "code",
      "source": "## 39. Write a program that raises custom exceptions for invalid file formats (.csv, .json, .xml).\nclass InvalidFileFormat(Exception): pass\n\ndef open_file(filename):\n    if not filename.endswith((\".csv\", \".json\", \".xml\")):\n        raise InvalidFileFormat(\"Unsupported file format\")\n    print(\"File accepted:\", filename)\n\ntry:\n    print(\"\\nQ9. Invalid File Format\")\n    open_file(\"data.txt\")\nexcept InvalidFileFormat as e:\n    print(\"Error:\", e)",
      "metadata": {
        "trusted": true
      },
      "outputs": [
        {
          "name": "stdout",
          "output_type": "stream",
          "text": "\nQ9. Invalid File Format\nError: Unsupported file format\n"
        }
      ],
      "execution_count": 321
    },
    {
      "id": "f1185572-ee2b-4494-a766-b7b687335381",
      "cell_type": "code",
      "source": "## 40. Write a program to implement centralized exception logging for a Python application.\nprint(\"\\nQ10. Centralized Exception Logging\")\nimport logging\nlogging.basicConfig(filename=\"errors.log\", level=logging.ERROR)\n\ntry:\n    x = 1 / 0\nexcept Exception as e:\n    logging.error(\"Exception occurred: %s\", e)\n    print(\"Error logged to file\")",
      "metadata": {
        "trusted": true
      },
      "outputs": [
        {
          "name": "stdout",
          "output_type": "stream",
          "text": "\nQ10. Centralized Exception Logging\nError logged to file\n"
        }
      ],
      "execution_count": 322
    }
  ]
}
