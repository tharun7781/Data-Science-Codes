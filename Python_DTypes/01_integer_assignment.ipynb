{
  "nbformat": 4,
  "nbformat_minor": 0,
  "metadata": {
    "colab": {
      "provenance": [],
      "authorship_tag": "ABX9TyP2cx8JQ447M6+okxQJUCm2",
      "include_colab_link": true
    },
    "kernelspec": {
      "name": "python3",
      "display_name": "Python 3"
    },
    "language_info": {
      "name": "python"
    }
  },
  "cells": [
    {
      "cell_type": "markdown",
      "metadata": {
        "id": "view-in-github",
        "colab_type": "text"
      },
      "source": [
        "<a href=\"https://colab.research.google.com/github/tharun7781/Data-Science-Edukron/blob/main/01_integer_assignment.ipynb\" target=\"_parent\"><img src=\"https://colab.research.google.com/assets/colab-badge.svg\" alt=\"Open In Colab\"/></a>"
      ]
    },
    {
      "cell_type": "code",
      "execution_count": 30,
      "metadata": {
        "id": "Yv_L6mNcssbs"
      },
      "outputs": [],
      "source": [
        "import math\n",
        "\n"
      ]
    },
    {
      "cell_type": "code",
      "source": [
        "# Question 1: Calculate the product of first 10 natural numbers\n",
        "print(math.prod(range(1,11)))"
      ],
      "metadata": {
        "colab": {
          "base_uri": "https://localhost:8080/"
        },
        "id": "nePS06potsPF",
        "outputId": "eda9868c-dcde-4f4a-a3fa-3979eae3f10a"
      },
      "execution_count": 31,
      "outputs": [
        {
          "output_type": "stream",
          "name": "stdout",
          "text": [
            "3628800\n"
          ]
        }
      ]
    },
    {
      "cell_type": "code",
      "source": [
        "# Question 2: Find the remainder when 156 is divided by 7\n",
        "print(156%7)"
      ],
      "metadata": {
        "colab": {
          "base_uri": "https://localhost:8080/"
        },
        "id": "0T1zNZ91uGNm",
        "outputId": "f107cb3e-99ef-41e0-8171-3dd1110a2149"
      },
      "execution_count": 32,
      "outputs": [
        {
          "output_type": "stream",
          "name": "stdout",
          "text": [
            "2\n"
          ]
        }
      ]
    },
    {
      "cell_type": "code",
      "source": [
        "# Question 3: Calculate the square of 25\n",
        "print(25 ** 2)"
      ],
      "metadata": {
        "colab": {
          "base_uri": "https://localhost:8080/"
        },
        "id": "jTAphgmJuaSg",
        "outputId": "f47a2ab4-0b90-4fb8-c71c-711fbea22202"
      },
      "execution_count": 33,
      "outputs": [
        {
          "output_type": "stream",
          "name": "stdout",
          "text": [
            "625\n"
          ]
        }
      ]
    },
    {
      "cell_type": "code",
      "source": [
        "# Question 4: Cube root of 125\n",
        "print(round(125 **(1/3)))"
      ],
      "metadata": {
        "colab": {
          "base_uri": "https://localhost:8080/"
        },
        "id": "4RimsBxuuxJN",
        "outputId": "29bda137-40b3-4b3e-eb9d-9948abcd5668"
      },
      "execution_count": 34,
      "outputs": [
        {
          "output_type": "stream",
          "name": "stdout",
          "text": [
            "5\n"
          ]
        }
      ]
    },
    {
      "cell_type": "code",
      "source": [
        "# Question 5: Sum of digits in 12345\n",
        "print(sum(map(int,str(12345))))"
      ],
      "metadata": {
        "colab": {
          "base_uri": "https://localhost:8080/"
        },
        "id": "4aMz-45ivMtJ",
        "outputId": "f57272fb-8893-4f75-e512-dc4328c4de33"
      },
      "execution_count": 35,
      "outputs": [
        {
          "output_type": "stream",
          "name": "stdout",
          "text": [
            "15\n"
          ]
        }
      ]
    },
    {
      "cell_type": "code",
      "source": [
        "# Question 6: Check if 97 is prime\n",
        "print(all(97%i for i in range(2,int(97**0.5)+1)))"
      ],
      "metadata": {
        "colab": {
          "base_uri": "https://localhost:8080/"
        },
        "id": "26zO2R9mvdgu",
        "outputId": "4d24a71e-269c-4718-ccbb-86ddc2ca9880"
      },
      "execution_count": 36,
      "outputs": [
        {
          "output_type": "stream",
          "name": "stdout",
          "text": [
            "True\n"
          ]
        }
      ]
    },
    {
      "cell_type": "code",
      "source": [
        "# Question 7: Factorial of 8\n",
        "print(math.factorial(8))"
      ],
      "metadata": {
        "colab": {
          "base_uri": "https://localhost:8080/"
        },
        "id": "tVx8wMDuwnQw",
        "outputId": "83e65c66-0ac5-4772-eeb3-481835c30fb9"
      },
      "execution_count": 37,
      "outputs": [
        {
          "output_type": "stream",
          "name": "stdout",
          "text": [
            "40320\n"
          ]
        }
      ]
    },
    {
      "cell_type": "code",
      "source": [
        "# Question 8: Average of [15, 23, 31, 42, 56]\n",
        "num=[15,23,31,42,56]\n",
        "print(sum(num)/len(num))"
      ],
      "metadata": {
        "colab": {
          "base_uri": "https://localhost:8080/"
        },
        "id": "wMtItLfHxG7A",
        "outputId": "c7225fd5-9151-4ac6-c45b-f7b6fb523def"
      },
      "execution_count": 38,
      "outputs": [
        {
          "output_type": "stream",
          "name": "stdout",
          "text": [
            "33.4\n"
          ]
        }
      ]
    },
    {
      "cell_type": "code",
      "source": [
        "# Question 9: GCD of 48 and 36\n",
        "print(math.gcd(48,36))"
      ],
      "metadata": {
        "colab": {
          "base_uri": "https://localhost:8080/"
        },
        "id": "g5Q_CQCDxUww",
        "outputId": "8fead713-bb59-414c-8bed-96ae53e0acbb"
      },
      "execution_count": 39,
      "outputs": [
        {
          "output_type": "stream",
          "name": "stdout",
          "text": [
            "12\n"
          ]
        }
      ]
    },
    {
      "cell_type": "code",
      "source": [
        "# Question 10: Sum of first 20 odd numbers\n",
        "print(sum(range(1,40,2)))"
      ],
      "metadata": {
        "colab": {
          "base_uri": "https://localhost:8080/"
        },
        "id": "fbDnu8yFxgL_",
        "outputId": "819e1599-ab7b-49d0-e510-8151e5701e85"
      },
      "execution_count": 40,
      "outputs": [
        {
          "output_type": "stream",
          "name": "stdout",
          "text": [
            "400\n"
          ]
        }
      ]
    }
  ]
}
