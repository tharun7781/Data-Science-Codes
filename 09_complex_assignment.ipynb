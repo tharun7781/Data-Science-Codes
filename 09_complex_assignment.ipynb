{
  "nbformat": 4,
  "nbformat_minor": 0,
  "metadata": {
    "colab": {
      "provenance": [],
      "authorship_tag": "ABX9TyMIJNPOhC1T1l818krTrFWi",
      "include_colab_link": true
    },
    "kernelspec": {
      "name": "python3",
      "display_name": "Python 3"
    },
    "language_info": {
      "name": "python"
    }
  },
  "cells": [
    {
      "cell_type": "markdown",
      "metadata": {
        "id": "view-in-github",
        "colab_type": "text"
      },
      "source": [
        "<a href=\"https://colab.research.google.com/github/tharun7781/Data-Science-Edukron/blob/main/09_complex_assignment.ipynb\" target=\"_parent\"><img src=\"https://colab.research.google.com/assets/colab-badge.svg\" alt=\"Open In Colab\"/></a>"
      ]
    },
    {
      "cell_type": "code",
      "execution_count": 1,
      "metadata": {
        "colab": {
          "base_uri": "https://localhost:8080/"
        },
        "id": "dPtM3KwKgg6A",
        "outputId": "3141e091-0fb8-4ca2-e3f1-f3a66e0a53fa"
      },
      "outputs": [
        {
          "output_type": "stream",
          "name": "stdout",
          "text": [
            "(5+3j)\n"
          ]
        }
      ],
      "source": [
        "# Question 1: Create complex number 5 + 3j\n",
        "z1 = 5 + 3j\n",
        "print(z1)"
      ]
    },
    {
      "cell_type": "code",
      "source": [
        "# Question 2: Find the real part of complex number 7 - 2j\n",
        "z2 = 7 - 2j\n",
        "print(z2.real)"
      ],
      "metadata": {
        "colab": {
          "base_uri": "https://localhost:8080/"
        },
        "id": "bZURqFbtghvI",
        "outputId": "162afe7c-2a90-4133-e7ba-810457da72a6"
      },
      "execution_count": 2,
      "outputs": [
        {
          "output_type": "stream",
          "name": "stdout",
          "text": [
            "7.0\n"
          ]
        }
      ]
    },
    {
      "cell_type": "code",
      "source": [
        "# Question 3: Find the imaginary part of complex number 4 + 6j\n",
        "z3 = 4 + 6j\n",
        "print(z3.imag)"
      ],
      "metadata": {
        "colab": {
          "base_uri": "https://localhost:8080/"
        },
        "id": "00uzrTQegh9x",
        "outputId": "cfd9e389-e01d-4e1b-c829-254035b35cff"
      },
      "execution_count": 3,
      "outputs": [
        {
          "output_type": "stream",
          "name": "stdout",
          "text": [
            "6.0\n"
          ]
        }
      ]
    },
    {
      "cell_type": "code",
      "source": [
        "# Question 4: Add two complex numbers: (3 + 2j) and (1 + 4j)\n",
        "z4 = (3 + 2j) + (1 + 4j)\n",
        "print(z4)"
      ],
      "metadata": {
        "colab": {
          "base_uri": "https://localhost:8080/"
        },
        "id": "EaETzHKcgiFI",
        "outputId": "1e592954-37db-4bf6-8e7c-e3ecca68ebd9"
      },
      "execution_count": 4,
      "outputs": [
        {
          "output_type": "stream",
          "name": "stdout",
          "text": [
            "(4+6j)\n"
          ]
        }
      ]
    },
    {
      "cell_type": "code",
      "source": [
        "# Question 5: Multiply two complex numbers: (2 + 3j) and (1 + 2j)\n",
        "z5 = (2 + 3j) * (1 + 2j)\n",
        "print(z5)"
      ],
      "metadata": {
        "colab": {
          "base_uri": "https://localhost:8080/"
        },
        "id": "sYIYPby4giL2",
        "outputId": "ffa4daa2-8499-46be-a714-1cc204730c38"
      },
      "execution_count": 5,
      "outputs": [
        {
          "output_type": "stream",
          "name": "stdout",
          "text": [
            "(-4+7j)\n"
          ]
        }
      ]
    },
    {
      "cell_type": "code",
      "source": [
        "# Question 6: Find the magnitude of complex number 6 + 8j\n",
        "z6 = 6 + 8j\n",
        "print(abs(z6))"
      ],
      "metadata": {
        "colab": {
          "base_uri": "https://localhost:8080/"
        },
        "id": "cQq7Nt61giS_",
        "outputId": "bba8573c-3bb2-4c90-b147-c91504e9d6c4"
      },
      "execution_count": 6,
      "outputs": [
        {
          "output_type": "stream",
          "name": "stdout",
          "text": [
            "10.0\n"
          ]
        }
      ]
    },
    {
      "cell_type": "code",
      "source": [
        "# Question 7: Find the conjugate of complex number 5 - 7j\n",
        "z7 = 5 - 7j\n",
        "print(z7.conjugate())"
      ],
      "metadata": {
        "colab": {
          "base_uri": "https://localhost:8080/"
        },
        "id": "sJqBSTUlgiZ7",
        "outputId": "3b4bf82e-1b57-471c-edea-35134453ce12"
      },
      "execution_count": 7,
      "outputs": [
        {
          "output_type": "stream",
          "name": "stdout",
          "text": [
            "(5+7j)\n"
          ]
        }
      ]
    },
    {
      "cell_type": "code",
      "source": [
        "# Question 8: Subtract complex numbers: (10 + 5j) - (3 + 2j)\n",
        "z8 = (10 + 5j) - (3 + 2j)\n",
        "print(z8)"
      ],
      "metadata": {
        "colab": {
          "base_uri": "https://localhost:8080/"
        },
        "id": "SpRQruypgihF",
        "outputId": "8f8b125b-2d74-49a5-f342-577c8991ed64"
      },
      "execution_count": 8,
      "outputs": [
        {
          "output_type": "stream",
          "name": "stdout",
          "text": [
            "(7+3j)\n"
          ]
        }
      ]
    },
    {
      "cell_type": "code",
      "source": [
        "# Question 9: Divide complex numbers: (8 + 6j) / (2 + 1j)\n",
        "z9 = (8 + 6j) / (2 + 1j)\n",
        "print(z9)"
      ],
      "metadata": {
        "colab": {
          "base_uri": "https://localhost:8080/"
        },
        "id": "PXIc9EsfhIKE",
        "outputId": "8f78e763-fcab-4883-c77b-4df29605476b"
      },
      "execution_count": 9,
      "outputs": [
        {
          "output_type": "stream",
          "name": "stdout",
          "text": [
            "(4.4+0.8j)\n"
          ]
        }
      ]
    },
    {
      "cell_type": "code",
      "source": [
        "# Question 10: Find the phase angle of complex number 1 + 1j\n",
        "import cmath\n",
        "z10 = 1 + 1j\n",
        "print(cmath.phase(z10))"
      ],
      "metadata": {
        "colab": {
          "base_uri": "https://localhost:8080/"
        },
        "id": "SE7-WgbAhIfw",
        "outputId": "3a5bff11-a872-4863-8cff-d8721c526386"
      },
      "execution_count": 10,
      "outputs": [
        {
          "output_type": "stream",
          "name": "stdout",
          "text": [
            "0.7853981633974483\n"
          ]
        }
      ]
    }
  ]
}