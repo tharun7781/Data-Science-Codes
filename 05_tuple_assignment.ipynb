{
  "nbformat": 4,
  "nbformat_minor": 0,
  "metadata": {
    "colab": {
      "provenance": [],
      "authorship_tag": "ABX9TyNqfp2rMWde9RH+jlMHbZ+r",
      "include_colab_link": true
    },
    "kernelspec": {
      "name": "python3",
      "display_name": "Python 3"
    },
    "language_info": {
      "name": "python"
    }
  },
  "cells": [
    {
      "cell_type": "markdown",
      "metadata": {
        "id": "view-in-github",
        "colab_type": "text"
      },
      "source": [
        "<a href=\"https://colab.research.google.com/github/tharun7781/Data-Science-Edukron/blob/main/05_tuple_assignment.ipynb\" target=\"_parent\"><img src=\"https://colab.research.google.com/assets/colab-badge.svg\" alt=\"Open In Colab\"/></a>"
      ]
    },
    {
      "cell_type": "code",
      "execution_count": 1,
      "metadata": {
        "colab": {
          "base_uri": "https://localhost:8080/"
        },
        "id": "-PpyTmncWdD6",
        "outputId": "668e9386-ae8b-4f88-bee7-7e9e4489b586"
      },
      "outputs": [
        {
          "output_type": "stream",
          "name": "stdout",
          "text": [
            "(1, 2, 3, 4, 5, 6, 7, 8, 9, 10)\n"
          ]
        }
      ],
      "source": [
        "#Question 1: Create a tuple of first 10 natural numbers\n",
        "q1 = tuple(range(1, 11))\n",
        "print(q1)"
      ]
    },
    {
      "cell_type": "code",
      "source": [
        "#Question 2: Find the length of tuple (1, 2, 3, 4, 5, 6, 7, 8, 9, 10)\n",
        "q2 = (1, 2, 3, 4, 5, 6, 7, 8, 9, 10)\n",
        "print(len(q2))"
      ],
      "metadata": {
        "colab": {
          "base_uri": "https://localhost:8080/"
        },
        "id": "hEtXrrbsX2uC",
        "outputId": "e8e3d1bc-5d3b-4941-fe70-4be1e5af152d"
      },
      "execution_count": 2,
      "outputs": [
        {
          "output_type": "stream",
          "name": "stdout",
          "text": [
            "10\n"
          ]
        }
      ]
    },
    {
      "cell_type": "code",
      "source": [
        "#Question 3: Access the 3rd element from tuple ('a', 'b', 'c', 'd', 'e')\n",
        "q3 = ('a', 'b', 'c', 'd', 'e')\n",
        "print(q3[2])"
      ],
      "metadata": {
        "colab": {
          "base_uri": "https://localhost:8080/"
        },
        "id": "93BHu3H7X3IQ",
        "outputId": "8d734a2c-4917-4049-a800-44ad84b7fb0c"
      },
      "execution_count": 3,
      "outputs": [
        {
          "output_type": "stream",
          "name": "stdout",
          "text": [
            "c\n"
          ]
        }
      ]
    },
    {
      "cell_type": "code",
      "source": [
        "#Question 4: Find the maximum value in tuple (23, 45, 12, 67, 34, 89, 56)\n",
        "q4 = (23, 45, 12, 67, 34, 89, 56)\n",
        "print(max(q4))\n"
      ],
      "metadata": {
        "colab": {
          "base_uri": "https://localhost:8080/"
        },
        "id": "ieLwcWHpX3Ul",
        "outputId": "2430a884-ec7e-43bd-9176-72e3449da7c4"
      },
      "execution_count": 4,
      "outputs": [
        {
          "output_type": "stream",
          "name": "stdout",
          "text": [
            "89\n"
          ]
        }
      ]
    },
    {
      "cell_type": "code",
      "source": [
        "#Question 5: Count how many times 5 appears in (1, 5, 2, 5, 3, 5, 4, 5, 6)\n",
        "q5 = (1, 5, 2, 5, 3, 5, 4, 5, 6)\n",
        "print(q5.count(5))"
      ],
      "metadata": {
        "colab": {
          "base_uri": "https://localhost:8080/"
        },
        "id": "_dn_WJVhX3et",
        "outputId": "ef5947b9-7c79-4c93-c342-e0b2fbd03b0a"
      },
      "execution_count": 5,
      "outputs": [
        {
          "output_type": "stream",
          "name": "stdout",
          "text": [
            "4\n"
          ]
        }
      ]
    },
    {
      "cell_type": "code",
      "source": [
        "#Question 6: Create a tuple of mixed data types (integer, float, string, boolean)\n",
        "q6 = (10, 3.14, \"hello\", True)\n",
        "print(q6)\n"
      ],
      "metadata": {
        "colab": {
          "base_uri": "https://localhost:8080/"
        },
        "id": "bdytlZh1X3nJ",
        "outputId": "43ea9a03-82b5-449c-d9db-3d88c439bd85"
      },
      "execution_count": 6,
      "outputs": [
        {
          "output_type": "stream",
          "name": "stdout",
          "text": [
            "(10, 3.14, 'hello', True)\n"
          ]
        }
      ]
    },
    {
      "cell_type": "code",
      "source": [
        "#Question 7: Find the index of element 'python' in ('java', 'python', 'c++', 'javascript')\n",
        "q7 = ('java', 'python', 'c++', 'javascript')\n",
        "print(q7.index('python'))"
      ],
      "metadata": {
        "colab": {
          "base_uri": "https://localhost:8080/"
        },
        "id": "DvyTELIrX3uk",
        "outputId": "a258fe59-bf1d-412b-eaf5-8720ed4c6f89"
      },
      "execution_count": 7,
      "outputs": [
        {
          "output_type": "stream",
          "name": "stdout",
          "text": [
            "1\n"
          ]
        }
      ]
    },
    {
      "cell_type": "code",
      "source": [
        "#Question 8: Check if 25 exists in tuple (10, 20, 30, 40, 50)\n",
        "q8 = (10, 20, 30, 40, 50)\n",
        "print(25 in q8)"
      ],
      "metadata": {
        "colab": {
          "base_uri": "https://localhost:8080/"
        },
        "id": "u8gBLwvMX31x",
        "outputId": "20a28c8e-f491-4074-b2c5-6713ff5ed808"
      },
      "execution_count": 8,
      "outputs": [
        {
          "output_type": "stream",
          "name": "stdout",
          "text": [
            "False\n"
          ]
        }
      ]
    },
    {
      "cell_type": "code",
      "source": [
        "#Question 9: Create a tuple of first 5 even numbers\n",
        "q9 = tuple(range(2, 11, 2))\n",
        "print(q9)"
      ],
      "metadata": {
        "colab": {
          "base_uri": "https://localhost:8080/"
        },
        "id": "DaGKzE_lX38x",
        "outputId": "fab8ef7c-b642-4c66-b2aa-3ca5e53aea41"
      },
      "execution_count": 9,
      "outputs": [
        {
          "output_type": "stream",
          "name": "stdout",
          "text": [
            "(2, 4, 6, 8, 10)\n"
          ]
        }
      ]
    },
    {
      "cell_type": "code",
      "source": [
        "#Question 10: Find the average of numbers in tuple (15, 23, 31, 42, 56, 78)\n",
        "q10 = (15, 23, 31, 42, 56, 78)\n",
        "print(sum(q10) / len(q10))"
      ],
      "metadata": {
        "colab": {
          "base_uri": "https://localhost:8080/"
        },
        "id": "sKsdBmVfZn5J",
        "outputId": "f3f16766-4755-412e-c73b-0e1551b51061"
      },
      "execution_count": 10,
      "outputs": [
        {
          "output_type": "stream",
          "name": "stdout",
          "text": [
            "40.833333333333336\n"
          ]
        }
      ]
    }
  ]
}